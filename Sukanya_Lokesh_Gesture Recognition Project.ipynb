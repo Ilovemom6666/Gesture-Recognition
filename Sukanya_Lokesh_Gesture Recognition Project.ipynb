{
 "cells": [
  {
   "cell_type": "markdown",
   "metadata": {},
   "source": [
    "# Gesture Recognition Project\n",
    "This project involves building a 3D Convolutional Neural Network (CNN) to correctly recognize hand gestures by a user to control a smart TV.\n",
    "\n",
    "The objective of this projects is to build a hand gesture recognition model that can be hosted on a camera installed in a smart TV that can understand 5 gestures. \n",
    "\n",
    "The gestures are continuously monitored by the webcam mounted on the TV. Each gesture corresponds to a specific command:\n",
    "-\tThumbs up:  Increase the volume\n",
    "-\tThumbs down: Decrease the volume\n",
    "-\tLeft swipe: 'Jump' backwards 10 seconds\n",
    "-\tRight swipe: 'Jump' forward 10 seconds  \n",
    "-\tStop: Pause the movie\n"
   ]
  },
  {
   "cell_type": "code",
   "execution_count": 1,
   "metadata": {},
   "outputs": [],
   "source": [
    "from tensorflow.keras.models import Sequential, Model\n",
    "from tensorflow.keras.layers import Dense, GRU, Flatten, TimeDistributed, BatchNormalization, Activation, Dropout\n",
    "from tensorflow.keras.layers import Conv3D, MaxPooling3D, Conv2D, MaxPooling2D, LSTM\n",
    "from tensorflow.keras.callbacks import ModelCheckpoint, ReduceLROnPlateau\n",
    "from tensorflow.keras import optimizers\n",
    "from tensorflow.keras.losses import categorical_crossentropy\n",
    "from tensorflow.keras.optimizers import Adam, SGD\n"
   ]
  },
  {
   "cell_type": "code",
   "execution_count": 2,
   "metadata": {},
   "outputs": [],
   "source": [
    "# Importing the python basic libraries and functions:\n",
    "import numpy as np\n",
    "import os\n",
    "#from scipy.misc import imread, imresize\n",
    "import datetime\n",
    "import os\n",
    "\n",
    "# Importing additional libraries which might be needed for image pre-processing :\n",
    "\n",
    "#import resize as imresize\n",
    "#import sckikit-image as skimage\n",
    "import cv2\n",
    "import imageio as imio\n",
    "from PIL import Image"
   ]
  },
  {
   "cell_type": "code",
   "execution_count": 3,
   "metadata": {},
   "outputs": [],
   "source": [
    "# Random seed is done to handle the reproducibility of the network and so that the results don't vary drastically:"
   ]
  },
  {
   "cell_type": "code",
   "execution_count": 4,
   "metadata": {},
   "outputs": [],
   "source": [
    "# Import libraries\n",
    "import numpy as np\n",
    "import random as rn\n",
    "import tensorflow as tf\n",
    "from keras import backend as K\n",
    "import matplotlib.pyplot as plt\n",
    "\n",
    "# Set random seeds for reproducibility\n",
    "np.random.seed(30)\n",
    "rn.seed(30)\n",
    "tf.random.set_seed(30)\n",
    "\n",
    "# Enable inline plotting\n",
    "%matplotlib inline"
   ]
  },
  {
   "cell_type": "code",
   "execution_count": 5,
   "metadata": {},
   "outputs": [
    {
     "data": {
      "text/plain": [
       "'2.7.0'"
      ]
     },
     "execution_count": 5,
     "metadata": {},
     "output_type": "execute_result"
    }
   ],
   "source": [
    "# Check the Tensor flow version :\n",
    "\n",
    "tf.__version__"
   ]
  },
  {
   "cell_type": "code",
   "execution_count": 6,
   "metadata": {},
   "outputs": [],
   "source": [
    "import tensorflow as tf\n",
    "\n",
    "# Allow memory growth on the GPU\n",
    "gpus = tf.config.experimental.list_physical_devices('GPU')\n",
    "if gpus:\n",
    "    try:\n",
    "        # Set memory growth to True for all GPUs\n",
    "        for gpu in gpus:\n",
    "            tf.config.experimental.set_memory_growth(gpu, True)\n",
    "    except RuntimeError as e:\n",
    "        print(e)  # Memory growth must be set at program startup"
   ]
  },
  {
   "cell_type": "markdown",
   "metadata": {},
   "source": [
    "In this block, you read the folder names for training and validation. You also set the `batch_size` here. Note that you set the batch size in such a way that you are able to use the GPU in full capacity. You keep increasing the batch size until the machine throws an error."
   ]
  },
  {
   "cell_type": "code",
   "execution_count": 7,
   "metadata": {},
   "outputs": [],
   "source": [
    "train_doc = np.random.permutation(open('/home/datasets/Project_data/train.csv').readlines())\n",
    "val_doc = np.random.permutation(open('/home/datasets/Project_data/val.csv').readlines())\n",
    "\n",
    "# Experiment with the batch size\n",
    "batch_size = 25"
   ]
  },
  {
   "cell_type": "code",
   "execution_count": 8,
   "metadata": {},
   "outputs": [],
   "source": [
    "# Custom function to crop image :\n",
    "\n",
    "def crop_img(img, scale=1.0):\n",
    "    center_x, center_y = img.shape[1] / 2, img.shape[0] / 2\n",
    "    width_scaled, height_scaled = img.shape[1] * scale, img.shape[0] * scale\n",
    "    left_x, right_x = center_x - width_scaled / 2, center_x + width_scaled / 2\n",
    "    top_y, bottom_y = center_y - height_scaled / 2, center_y + height_scaled / 2\n",
    "    img_cropped = img[int(top_y):int(bottom_y), int(left_x):int(right_x)]\n",
    "    return img_cropped"
   ]
  },
  {
   "cell_type": "markdown",
   "metadata": {},
   "source": [
    "## Generator\n",
    "This is one of the most important part of the code. The overall structure of the generator has been given. In the generator, you are going to preprocess the images as you have images of 2 different dimensions as well as create a batch of video frames. "
   ]
  },
  {
   "cell_type": "code",
   "execution_count": 9,
   "metadata": {},
   "outputs": [],
   "source": [
    "def generator(source_path, folder_list, batch_size):\n",
    "    print( 'Source path = ', source_path, '; batch size =', batch_size)\n",
    "    \n",
    "    #create a list of image numbers you want to use for a particular video\n",
    "    img_idx = [0,1,2,4,6,8,10,12,14,16,18,20,22,24,26,27,28,29]\n",
    "    #list(range(0,29,2))\n",
    "    \n",
    "    while True:\n",
    "        t = np.random.permutation(folder_list)\n",
    "        \n",
    "# calculate the number of batches\n",
    "        num_batches = int(len(t)/batch_size)\n",
    "        \n",
    "# we iterate over the number of batches\n",
    "        for batch in range(num_batches): \n",
    "            \n",
    "# x is the number of images you use for each video, (y,z) is the final size of the input images and 3 is the number of channels RGB          \n",
    "            batch_data = np.zeros((batch_size,18,64,64,3))\n",
    "# batch_labels is the one hot representation of the output\n",
    "            batch_labels = np.zeros((batch_size,5))\n",
    "\n",
    "# iterate over the batch_size    \n",
    "            for folder in range(batch_size): \n",
    "# read all the images in the folder        \n",
    "                imgs = os.listdir(source_path+'/'+ t[folder + (batch*batch_size)].split(';')[0]) \n",
    "#  Iterate over the frames/images of a folder to read them in    \n",
    "                for idx,item in enumerate(img_idx):\n",
    "                    image = cv2.imread(source_path+'/'+ t[folder + (batch*batch_size)].strip().split(';')[0]+'/'+imgs[item],cv2.IMREAD_UNCHANGED).astype(np.float32)\n",
    "                    \n",
    "#crop the images and resize them. Note that the images are of 2 different shape \n",
    "#and the conv3D will throw error if the inputs in a batch have different shapes\n",
    "\n",
    "# Cropping image by 10 % of original size :\n",
    "                    image = crop_img(image, 0.10)\n",
    "    \n",
    "# Resizing the image :    \n",
    "                    if image.shape[1] == 160:\n",
    "                        image = cv2.resize(image[:,20:140,:],(64,64),interpolation = cv2.INTER_AREA).astype(np.float32)\n",
    "                    else:\n",
    "                        image = cv2.resize(image,(64,64),interpolation = cv2.INTER_AREA).astype(np.float32)                    \n",
    "                        \n",
    "#normalise and feed in the image\n",
    "\n",
    "                    batch_data[folder,idx,:,:,0] = (image[:,:,0])/255\n",
    "                    batch_data[folder,idx,:,:,1] = (image[:,:,1])/255\n",
    "                    batch_data[folder,idx,:,:,2] = (image[:,:,2])/255\n",
    "                    \n",
    "                batch_labels[folder, int(t[folder + (batch*batch_size)].strip().split(';')[2])] = 1\n",
    "#you yield the batch_data and the batch_labels, remember what does yield do                \n",
    "            yield batch_data, batch_labels \n",
    "\n",
    "        \n",
    "# write the code for the remaining data points which are left after full batches\n",
    "        if (len(t)%batch_size) != 0:\n",
    "            batch_data = np.zeros((len(t)%batch_size,18,64,64,3))\n",
    "            batch_labels = np.zeros((len(t)%batch_size,5))\n",
    "            for folder in range(len(t)%batch_size):\n",
    "                imgs = os.listdir(source_path+'/'+ t[folder + (num_batches*batch_size)].split(';')[0])\n",
    "                for idx,item in enumerate(img_idx):\n",
    "                    image = cv2.imread(source_path+'/'+ t[folder + (num_batches*batch_size)].strip().split(';')[0]+'/'+imgs[item],cv2.IMREAD_UNCHANGED).astype(np.float32)\n",
    "                    \n",
    "# Cropping image by 10 % of original size :\n",
    "                    image = crop_img(image, 0.10)\n",
    "\n",
    "# Resizing the image :\n",
    "                    if image.shape[1] == 160:\n",
    "                        image = cv2.resize(image[:,20:140,:],(64,64),interpolation = cv2.INTER_AREA).astype(np.float32)\n",
    "                    else:\n",
    "                        image = cv2.resize(image,(64,64),interpolation = cv2.INTER_AREA).astype(np.float32)\n",
    "\n",
    "# Perform normalization on images\n",
    "                    batch_data[folder,idx,:,:,0] = (image[:,:,0])/255\n",
    "                    batch_data[folder,idx,:,:,1] = (image[:,:,1])/255\n",
    "                    batch_data[folder,idx,:,:,2] = (image[:,:,2])/255\n",
    "\n",
    "                batch_labels[folder, int(t[folder + (num_batches*batch_size)].strip().split(';')[2])] = 1\n",
    "\n",
    "            yield batch_data, batch_labels\n"
   ]
  },
  {
   "cell_type": "markdown",
   "metadata": {},
   "source": [
    "Note here that a video is represented above in the generator as (number of images, height, width, number of channels). Take this into consideration while creating the model architecture."
   ]
  },
  {
   "cell_type": "code",
   "execution_count": 10,
   "metadata": {},
   "outputs": [
    {
     "name": "stdout",
     "output_type": "stream",
     "text": [
      "# training sequences = 663\n",
      "# validation sequences = 100\n",
      "# epochs = 5\n"
     ]
    }
   ],
   "source": [
    "curr_dt_time = datetime.datetime.now()\n",
    "train_path = '/home/datasets/Project_data/train'\n",
    "val_path = '/home/datasets/Project_data/val'\n",
    "num_train_sequences = len(train_doc)\n",
    "print('# training sequences =', num_train_sequences)\n",
    "num_val_sequences = len(val_doc)\n",
    "print('# validation sequences =', num_val_sequences)\n",
    "# choose the number of epochs\n",
    "num_epochs = 5\n",
    "print ('# epochs =', num_epochs)"
   ]
  },
  {
   "cell_type": "markdown",
   "metadata": {},
   "source": [
    "## Model\n",
    "Here you make the model using different functionalities that Keras provides. Remember to use `Conv3D` and `MaxPooling3D` and not `Conv2D` and `Maxpooling2D` for a 3D convolution model. You would want to use `TimeDistributed` while building a Conv2D + RNN model. Also remember that the last layer is the softmax. Design the network in such a way that the model is able to give good accuracy on the least number of parameters so that it can fit in the memory of the webcam."
   ]
  },
  {
   "cell_type": "markdown",
   "metadata": {},
   "source": [
    "### Model : 1-Conv 3D Model \n",
    "#### Without dropouts & with batch normalization\n",
    "\n",
    "##### Input size 64X64 , adam optimiser-0.0002,5-epochs, 25-batch size "
   ]
  },
  {
   "cell_type": "code",
   "execution_count": 10,
   "metadata": {},
   "outputs": [
    {
     "name": "stderr",
     "output_type": "stream",
     "text": [
      "2024-11-06 09:58:37.020598: I tensorflow/core/common_runtime/gpu/gpu_device.cc:1525] Created device /job:localhost/replica:0/task:0/device:GPU:0 with 22855 MB memory:  -> device: 0, name: Quadro RTX 6000, pci bus id: 0000:3f:00.0, compute capability: 7.5\n"
     ]
    }
   ],
   "source": [
    "# Building the first model which is 3D Conv model:\n",
    "\n",
    "modelConv3D_1 = Sequential()\n",
    "\n",
    "modelConv3D_1.add(Conv3D(8, (3,3,3), padding='same', input_shape=(18,64,64,3)))\n",
    "modelConv3D_1.add(Activation('relu'))\n",
    "modelConv3D_1.add(BatchNormalization())\n",
    "modelConv3D_1.add(MaxPooling3D(pool_size=(2,2,2)))\n",
    "\n",
    "#modelConv3D_1.add(Dropout(0.25))\n",
    "\n",
    "modelConv3D_1.add(Conv3D(16, (3,3,3), padding='same'))\n",
    "modelConv3D_1.add(Activation('relu'))\n",
    "modelConv3D_1.add(BatchNormalization())\n",
    "modelConv3D_1.add(MaxPooling3D(pool_size=(2,2,2)))\n",
    "\n",
    "#modelConv3D_1.add(Dropout(0.25))\n",
    "\n",
    "modelConv3D_1.add(Conv3D(32, (3,3,3), padding='same'))\n",
    "modelConv3D_1.add(BatchNormalization())\n",
    "modelConv3D_1.add(Activation('relu'))\n",
    "modelConv3D_1.add(MaxPooling3D(pool_size=(2,2,2)))\n",
    "\n",
    "#modelConv3D_1.add(Dropout(0.25))\n",
    "\n",
    "modelConv3D_1.add(Conv3D(64, (3,3,3), padding='same'))\n",
    "modelConv3D_1.add(Activation('relu'))\n",
    "modelConv3D_1.add(BatchNormalization())\n",
    "modelConv3D_1.add(MaxPooling3D(pool_size=(2,2,2)))\n",
    "\n",
    "#modelConv3D_1.add(Dropout(0.25))\n",
    "\n",
    "modelConv3D_1.add(Flatten())\n",
    "modelConv3D_1.add(Dense(64, activation='relu'))\n",
    "modelConv3D_1.add(BatchNormalization())\n",
    "modelConv3D_1.add(Dropout(0.25))\n",
    "\n",
    "modelConv3D_1.add(Dense(64, activation='relu'))\n",
    "modelConv3D_1.add(BatchNormalization())\n",
    "modelConv3D_1.add(Dropout(0.25))\n",
    "\n",
    "modelConv3D_1.add(Dense(5, activation='softmax'))"
   ]
  },
  {
   "cell_type": "code",
   "execution_count": 11,
   "metadata": {},
   "outputs": [
    {
     "name": "stdout",
     "output_type": "stream",
     "text": [
      "INFO:tensorflow:Mixed precision compatibility check (mixed_float16): OK\n",
      "Your GPU will likely run quickly with dtype policy mixed_float16 as it has compute capability of at least 7.0. Your GPU: Quadro RTX 6000, compute capability 7.5\n",
      "WARNING:tensorflow:From /usr/local/lib/python3.8/dist-packages/keras/mixed_precision/loss_scale.py:52: DynamicLossScale.__init__ (from tensorflow.python.training.experimental.loss_scale) is deprecated and will be removed in a future version.\n",
      "Instructions for updating:\n",
      "Use tf.keras.mixed_precision.LossScaleOptimizer instead. LossScaleOptimizer now has all the functionality of DynamicLossScale\n",
      "WARNING:tensorflow:tf.keras.mixed_precision.experimental.LossScaleOptimizer is deprecated. Please use tf.keras.mixed_precision.LossScaleOptimizer instead. For example:\n",
      "  opt = tf.keras.mixed_precision.LossScaleOptimizer(opt)\n",
      "Model: \"sequential\"\n",
      "_________________________________________________________________\n",
      " Layer (type)                Output Shape              Param #   \n",
      "=================================================================\n",
      " conv3d (Conv3D)             (None, 18, 64, 64, 8)     656       \n",
      "                                                                 \n",
      " activation (Activation)     (None, 18, 64, 64, 8)     0         \n",
      "                                                                 \n",
      " batch_normalization (BatchN  (None, 18, 64, 64, 8)    32        \n",
      " ormalization)                                                   \n",
      "                                                                 \n",
      " max_pooling3d (MaxPooling3D  (None, 9, 32, 32, 8)     0         \n",
      " )                                                               \n",
      "                                                                 \n",
      " conv3d_1 (Conv3D)           (None, 9, 32, 32, 16)     3472      \n",
      "                                                                 \n",
      " activation_1 (Activation)   (None, 9, 32, 32, 16)     0         \n",
      "                                                                 \n",
      " batch_normalization_1 (Batc  (None, 9, 32, 32, 16)    64        \n",
      " hNormalization)                                                 \n",
      "                                                                 \n",
      " max_pooling3d_1 (MaxPooling  (None, 4, 16, 16, 16)    0         \n",
      " 3D)                                                             \n",
      "                                                                 \n",
      " conv3d_2 (Conv3D)           (None, 4, 16, 16, 32)     13856     \n",
      "                                                                 \n",
      " batch_normalization_2 (Batc  (None, 4, 16, 16, 32)    128       \n",
      " hNormalization)                                                 \n",
      "                                                                 \n",
      " activation_2 (Activation)   (None, 4, 16, 16, 32)     0         \n",
      "                                                                 \n",
      " max_pooling3d_2 (MaxPooling  (None, 2, 8, 8, 32)      0         \n",
      " 3D)                                                             \n",
      "                                                                 \n",
      " conv3d_3 (Conv3D)           (None, 2, 8, 8, 64)       55360     \n",
      "                                                                 \n",
      " activation_3 (Activation)   (None, 2, 8, 8, 64)       0         \n",
      "                                                                 \n",
      " batch_normalization_3 (Batc  (None, 2, 8, 8, 64)      256       \n",
      " hNormalization)                                                 \n",
      "                                                                 \n",
      " max_pooling3d_3 (MaxPooling  (None, 1, 4, 4, 64)      0         \n",
      " 3D)                                                             \n",
      "                                                                 \n",
      " flatten (Flatten)           (None, 1024)              0         \n",
      "                                                                 \n",
      " dense (Dense)               (None, 64)                65600     \n",
      "                                                                 \n",
      " batch_normalization_4 (Batc  (None, 64)               256       \n",
      " hNormalization)                                                 \n",
      "                                                                 \n",
      " dropout (Dropout)           (None, 64)                0         \n",
      "                                                                 \n",
      " dense_1 (Dense)             (None, 64)                4160      \n",
      "                                                                 \n",
      " batch_normalization_5 (Batc  (None, 64)               256       \n",
      " hNormalization)                                                 \n",
      "                                                                 \n",
      " dropout_1 (Dropout)         (None, 64)                0         \n",
      "                                                                 \n",
      " dense_2 (Dense)             (None, 5)                 325       \n",
      "                                                                 \n",
      "=================================================================\n",
      "Total params: 144,421\n",
      "Trainable params: 143,925\n",
      "Non-trainable params: 496\n",
      "_________________________________________________________________\n",
      "None\n"
     ]
    }
   ],
   "source": [
    "import tensorflow as tf\n",
    "from tensorflow.keras import optimizers\n",
    "from tensorflow.keras.mixed_precision import experimental as mixed_precision\n",
    "\n",
    "# Set mixed precision policy\n",
    "policy = mixed_precision.Policy('mixed_float16')\n",
    "mixed_precision.set_policy(policy)\n",
    "\n",
    "# Define the Adam optimizer\n",
    "optimiser = optimizers.Adam(learning_rate=0.0002)\n",
    "\n",
    "# Wrap the optimizer with LossScaleOptimizer, using dynamic loss scaling\n",
    "optimiser = mixed_precision.LossScaleOptimizer(optimiser, loss_scale='dynamic')\n",
    "\n",
    "# Compile your model\n",
    "modelConv3D_1.compile(optimizer=optimiser, loss='categorical_crossentropy', metrics=['categorical_accuracy'])\n",
    "\n",
    "# Print the model summary\n",
    "print(modelConv3D_1.summary())"
   ]
  },
  {
   "cell_type": "code",
   "execution_count": 12,
   "metadata": {},
   "outputs": [
    {
     "name": "stdout",
     "output_type": "stream",
     "text": [
      "Total Params in model: 144421\n"
     ]
    }
   ],
   "source": [
    "print(\"Total Params in model:\", modelConv3D_1.count_params())"
   ]
  },
  {
   "cell_type": "markdown",
   "metadata": {},
   "source": [
    "Now that you have written the model, the next step is to `compile` the model. When you print the `summary` of the model, you'll see the total number of parameters you have to train."
   ]
  },
  {
   "cell_type": "code",
   "execution_count": 75,
   "metadata": {
    "scrolled": true
   },
   "outputs": [],
   "source": [
    "#write your optimizer\n",
    "#optimiser = \n",
    "#sgd = optimizers.SGD(lr=0.001, decay=1e-6, momentum=0.7, nesterov=True)\n",
    "#model.compile(optimizer=sgd, loss='categorical_crossentropy', metrics=['categorical_accuracy'])\n",
    "#print (model.summary())"
   ]
  },
  {
   "cell_type": "markdown",
   "metadata": {},
   "source": [
    "Let us create the `train_generator` and the `val_generator` which will be used in `.fit_generator`."
   ]
  },
  {
   "cell_type": "code",
   "execution_count": 13,
   "metadata": {},
   "outputs": [],
   "source": [
    "train_generator = generator(train_path, train_doc, batch_size)\n",
    "val_generator = generator(val_path, val_doc, batch_size)"
   ]
  },
  {
   "cell_type": "code",
   "execution_count": 14,
   "metadata": {},
   "outputs": [],
   "source": [
    "# Get the current date and time for model saving\n",
    "curr_dt_time = datetime.datetime.now()\n",
    "\n",
    "# Create model name with current timestamp\n",
    "model_name = 'model_init_' + str(curr_dt_time).replace(' ', '').replace(':', '_') + '/'\n",
    "\n",
    "# Check if the directory exists, and create if not\n",
    "if not os.path.exists(model_name):\n",
    "    os.mkdir(model_name)\n",
    "\n",
    "filepath = model_name + 'model-{epoch:05d}-{loss:.5f}-{categorical_accuracy:.5f}-{val_loss:.5f}-{val_categorical_accuracy:.5f}.h5'\n",
    "\n",
    "# ModelCheckpoint callback\n",
    "checkpoint = ModelCheckpoint(filepath, monitor='val_loss', verbose=1, save_best_only=False, save_weights_only=False, mode='auto', save_freq='epoch')\n",
    "\n",
    "# ReduceLROnPlateau callback\n",
    "LR = ReduceLROnPlateau(monitor='val_loss', factor=0.2, patience=5, min_lr=0.001, verbose=1)\n",
    "\n",
    "# Combine callbacks into a list\n",
    "callbacks_list = [checkpoint, LR]"
   ]
  },
  {
   "cell_type": "markdown",
   "metadata": {},
   "source": [
    "The `steps_per_epoch` and `validation_steps` are used by `fit_generator` to decide the number of next() calls it need to make."
   ]
  },
  {
   "cell_type": "code",
   "execution_count": 15,
   "metadata": {},
   "outputs": [],
   "source": [
    "if (num_train_sequences%batch_size) == 0:\n",
    "    steps_per_epoch = int(num_train_sequences/batch_size)\n",
    "else:\n",
    "    steps_per_epoch = (num_train_sequences//batch_size) + 1\n",
    "\n",
    "if (num_val_sequences%batch_size) == 0:\n",
    "    validation_steps = int(num_val_sequences/batch_size)\n",
    "else:\n",
    "    validation_steps = (num_val_sequences//batch_size) + 1"
   ]
  },
  {
   "cell_type": "markdown",
   "metadata": {},
   "source": [
    "Let us now fit the model. This will start training the model and with the help of the checkpoints, you'll be able to save the model at the end of each epoch."
   ]
  },
  {
   "cell_type": "code",
   "execution_count": 16,
   "metadata": {},
   "outputs": [
    {
     "name": "stdout",
     "output_type": "stream",
     "text": [
      "Source path =  /home/datasets/Project_data/train ; batch size = 25\n",
      "Epoch 1/5\n"
     ]
    },
    {
     "name": "stderr",
     "output_type": "stream",
     "text": [
      "2024-11-06 09:59:07.178896: I tensorflow/stream_executor/cuda/cuda_dnn.cc:377] Loaded cuDNN version 8302\n"
     ]
    },
    {
     "name": "stdout",
     "output_type": "stream",
     "text": [
      "27/27 [==============================] - ETA: 0s - loss: 2.1595 - categorical_accuracy: 0.2368Source path =  /home/datasets/Project_data/val ; batch size = 25\n",
      "\n",
      "Epoch 00001: saving model to model_init_2024-11-0609_58_58.233644/model-00001-2.15950-0.23680-1.60781-0.23000.h5\n",
      "27/27 [==============================] - 48s 2s/step - loss: 2.1595 - categorical_accuracy: 0.2368 - val_loss: 1.6078 - val_categorical_accuracy: 0.2300 - lr: 2.0000e-04\n",
      "Epoch 2/5\n",
      "27/27 [==============================] - ETA: 0s - loss: 1.8950 - categorical_accuracy: 0.3047\n",
      "Epoch 00002: saving model to model_init_2024-11-0609_58_58.233644/model-00002-1.89498-0.30468-1.63557-0.20000.h5\n",
      "27/27 [==============================] - 25s 973ms/step - loss: 1.8950 - categorical_accuracy: 0.3047 - val_loss: 1.6356 - val_categorical_accuracy: 0.2000 - lr: 2.0000e-04\n",
      "Epoch 3/5\n",
      "27/27 [==============================] - ETA: 0s - loss: 1.7694 - categorical_accuracy: 0.3363\n",
      "Epoch 00003: saving model to model_init_2024-11-0609_58_58.233644/model-00003-1.76938-0.33635-1.65244-0.24000.h5\n",
      "27/27 [==============================] - 26s 981ms/step - loss: 1.7694 - categorical_accuracy: 0.3363 - val_loss: 1.6524 - val_categorical_accuracy: 0.2400 - lr: 2.0000e-04\n",
      "Epoch 4/5\n",
      "27/27 [==============================] - ETA: 0s - loss: 1.6982 - categorical_accuracy: 0.3394\n",
      "Epoch 00004: saving model to model_init_2024-11-0609_58_58.233644/model-00004-1.69821-0.33937-1.73145-0.23000.h5\n",
      "27/27 [==============================] - 23s 895ms/step - loss: 1.6982 - categorical_accuracy: 0.3394 - val_loss: 1.7315 - val_categorical_accuracy: 0.2300 - lr: 2.0000e-04\n",
      "Epoch 5/5\n",
      "27/27 [==============================] - ETA: 0s - loss: 1.6528 - categorical_accuracy: 0.3469\n",
      "Epoch 00005: saving model to model_init_2024-11-0609_58_58.233644/model-00005-1.65280-0.34691-1.88046-0.21000.h5\n",
      "27/27 [==============================] - 23s 867ms/step - loss: 1.6528 - categorical_accuracy: 0.3469 - val_loss: 1.8805 - val_categorical_accuracy: 0.2100 - lr: 2.0000e-04\n"
     ]
    }
   ],
   "source": [
    "# Modified the fit generator to use multiproessing to improve the training time :\n",
    "\n",
    "# This is for first model 3D Conv model: (modelConv3D_1)\n",
    "\n",
    "history = modelConv3D_1.fit(train_generator, steps_per_epoch=steps_per_epoch, epochs=num_epochs, verbose=1, \n",
    "                    callbacks=callbacks_list, validation_data=val_generator, \n",
    "                    validation_steps=validation_steps, class_weight=None,\n",
    "                    workers=1, initial_epoch=0)"
   ]
  },
  {
   "cell_type": "code",
   "execution_count": 80,
   "metadata": {},
   "outputs": [
    {
     "data": {
      "image/png": "[encoded data removed]",
      "text/plain": [
       "<Figure size 432x288 with 1 Axes>"
      ]
     },
     "metadata": {
      "needs_background": "light"
     },
     "output_type": "display_data"
    },
    {
     "data": {
      "image/png": "[encoded data removed]",
      "text/plain": [
       "<Figure size 432x288 with 1 Axes>"
      ]
     },
     "metadata": {
      "needs_background": "light"
     },
     "output_type": "display_data"
    }
   ],
   "source": [
    "# Plotting the result of Model 1 :\n",
    "\n",
    "# summarize history for accuracy\n",
    "plt.plot(history.history['categorical_accuracy'])\n",
    "plt.plot(history.history['val_categorical_accuracy'])\n",
    "plt.title('model accuracy')\n",
    "plt.ylabel('accuracy')\n",
    "plt.xlabel('epoch')\n",
    "plt.legend(['train', 'test'], loc='upper left')\n",
    "plt.show()\n",
    "\n",
    "# summarize history for loss\n",
    "plt.plot(history.history['loss'])\n",
    "plt.plot(history.history['val_loss'])\n",
    "plt.title('model loss')\n",
    "plt.ylabel('loss')\n",
    "plt.xlabel('epoch')\n",
    "plt.legend(['train', 'test'], loc='upper left')\n",
    "plt.show()"
   ]
  },
  {
   "cell_type": "code",
   "execution_count": 81,
   "metadata": {},
   "outputs": [],
   "source": [
    "#Training Accuracy -38 % , Validation Accuracy-21%"
   ]
  },
  {
   "cell_type": "markdown",
   "metadata": {},
   "source": [
    "###  Model 2 : Conv 3D Model  \n",
    "#### Current Model Inputs\n",
    "- Without dropouts & with batch normalization.\n",
    "- Input image size 64X64 , adam optimiser- 0.0002 without decay\n",
    "- Changed droput to 0.50 from 0.25 in 1st dense layer "
   ]
  },
  {
   "cell_type": "code",
   "execution_count": 82,
   "metadata": {},
   "outputs": [],
   "source": [
    "batch_size = 16\n",
    "num_epochs = 24"
   ]
  },
  {
   "cell_type": "code",
   "execution_count": 83,
   "metadata": {},
   "outputs": [],
   "source": [
    "# Building the second model which is 3D Conv model:\n",
    "\n",
    "modelConv3D_2 = Sequential()\n",
    "\n",
    "modelConv3D_2.add(Conv3D(8, (3,3,3), padding='same', input_shape=(18,64,64,3)))\n",
    "modelConv3D_2.add(Activation('relu'))\n",
    "modelConv3D_2.add(BatchNormalization())\n",
    "modelConv3D_2.add(MaxPooling3D(pool_size=(2,2,2)))\n",
    "\n",
    "#modelConv3D_2 layer 2\n",
    "\n",
    "modelConv3D_2.add(Conv3D(16, (3,3,3), padding='same'))\n",
    "modelConv3D_2.add(Activation('relu'))\n",
    "modelConv3D_2.add(BatchNormalization())\n",
    "modelConv3D_2.add(MaxPooling3D(pool_size=(2,2,2)))\n",
    "\n",
    "#modelConv3D_2 layer 3\n",
    "\n",
    "modelConv3D_2.add(Conv3D(32, (3,3,3), padding='same'))\n",
    "modelConv3D_2.add(BatchNormalization())\n",
    "modelConv3D_2.add(Activation('relu'))\n",
    "modelConv3D_2.add(MaxPooling3D(pool_size=(2,2,2)))\n",
    "\n",
    "#modelConv3D_2 layer 4\n",
    "\n",
    "modelConv3D_2.add(Conv3D(64, (3,3,3), padding='same'))\n",
    "modelConv3D_2.add(Activation('relu'))\n",
    "modelConv3D_2.add(BatchNormalization())\n",
    "modelConv3D_2.add(MaxPooling3D(pool_size=(2,2,2)))\n",
    "\n",
    "#modelConv3D_2.add(Dropout(0.50))\n",
    "\n",
    "modelConv3D_2.add(Flatten())\n",
    "modelConv3D_2.add(Dense(64, activation='relu'))\n",
    "modelConv3D_2.add(BatchNormalization())\n",
    "modelConv3D_2.add(Dropout(0.50))\n",
    "\n",
    "modelConv3D_2.add(Dense(64, activation='relu'))\n",
    "modelConv3D_2.add(BatchNormalization())\n",
    "modelConv3D_2.add(Dropout(0.50))\n",
    "\n",
    "modelConv3D_2.add(Dense(5, activation='softmax'))"
   ]
  },
  {
   "cell_type": "code",
   "execution_count": 84,
   "metadata": {},
   "outputs": [
    {
     "name": "stdout",
     "output_type": "stream",
     "text": [
      "WARNING:tensorflow:tf.keras.mixed_precision.experimental.LossScaleOptimizer is deprecated. Please use tf.keras.mixed_precision.LossScaleOptimizer instead. Note that the non-experimental LossScaleOptimizer does not take a DynamicLossScale but instead takes the dynamic configuration directly in the constructor. For example:\n",
      "  opt = tf.keras.mixed_precision.LossScaleOptimizer(opt)\n",
      "\n",
      "Model: \"sequential_5\"\n",
      "_________________________________________________________________\n",
      " Layer (type)                Output Shape              Param #   \n",
      "=================================================================\n",
      " conv3d_20 (Conv3D)          (None, 18, 64, 64, 8)     656       \n",
      "                                                                 \n",
      " activation_20 (Activation)  (None, 18, 64, 64, 8)     0         \n",
      "                                                                 \n",
      " batch_normalization_27 (Bat  (None, 18, 64, 64, 8)    32        \n",
      " chNormalization)                                                \n",
      "                                                                 \n",
      " max_pooling3d_20 (MaxPoolin  (None, 9, 32, 32, 8)     0         \n",
      " g3D)                                                            \n",
      "                                                                 \n",
      " conv3d_21 (Conv3D)          (None, 9, 32, 32, 16)     3472      \n",
      "                                                                 \n",
      " activation_21 (Activation)  (None, 9, 32, 32, 16)     0         \n",
      "                                                                 \n",
      " batch_normalization_28 (Bat  (None, 9, 32, 32, 16)    64        \n",
      " chNormalization)                                                \n",
      "                                                                 \n",
      " max_pooling3d_21 (MaxPoolin  (None, 4, 16, 16, 16)    0         \n",
      " g3D)                                                            \n",
      "                                                                 \n",
      " conv3d_22 (Conv3D)          (None, 4, 16, 16, 32)     13856     \n",
      "                                                                 \n",
      " batch_normalization_29 (Bat  (None, 4, 16, 16, 32)    128       \n",
      " chNormalization)                                                \n",
      "                                                                 \n",
      " activation_22 (Activation)  (None, 4, 16, 16, 32)     0         \n",
      "                                                                 \n",
      " max_pooling3d_22 (MaxPoolin  (None, 2, 8, 8, 32)      0         \n",
      " g3D)                                                            \n",
      "                                                                 \n",
      " conv3d_23 (Conv3D)          (None, 2, 8, 8, 64)       55360     \n",
      "                                                                 \n",
      " activation_23 (Activation)  (None, 2, 8, 8, 64)       0         \n",
      "                                                                 \n",
      " batch_normalization_30 (Bat  (None, 2, 8, 8, 64)      256       \n",
      " chNormalization)                                                \n",
      "                                                                 \n",
      " max_pooling3d_23 (MaxPoolin  (None, 1, 4, 4, 64)      0         \n",
      " g3D)                                                            \n",
      "                                                                 \n",
      " flatten_5 (Flatten)         (None, 1024)              0         \n",
      "                                                                 \n",
      " dense_15 (Dense)            (None, 64)                65600     \n",
      "                                                                 \n",
      " batch_normalization_31 (Bat  (None, 64)               256       \n",
      " chNormalization)                                                \n",
      "                                                                 \n",
      " dropout_11 (Dropout)        (None, 64)                0         \n",
      "                                                                 \n",
      " dense_16 (Dense)            (None, 64)                4160      \n",
      "                                                                 \n",
      " batch_normalization_32 (Bat  (None, 64)               256       \n",
      " chNormalization)                                                \n",
      "                                                                 \n",
      " dropout_12 (Dropout)        (None, 64)                0         \n",
      "                                                                 \n",
      " dense_17 (Dense)            (None, 5)                 325       \n",
      "                                                                 \n",
      "=================================================================\n",
      "Total params: 144,421\n",
      "Trainable params: 143,925\n",
      "Non-trainable params: 496\n",
      "_________________________________________________________________\n",
      "None\n"
     ]
    }
   ],
   "source": [
    "import tensorflow as tf\n",
    "from tensorflow.keras import optimizers\n",
    "\n",
    "# Define the Adam optimizer with a fixed learning rate\n",
    "optimiser = optimizers.Adam(learning_rate=0.0002)  # No decay applied here\n",
    "\n",
    "# Define your model (make sure your modelConv3D_1 is defined before this)\n",
    "modelConv3D_2.compile(optimizer=optimiser, loss='categorical_crossentropy', metrics=['categorical_accuracy'])\n",
    "\n",
    "# Print the model summary\n",
    "print(modelConv3D_2.summary())\n"
   ]
  },
  {
   "cell_type": "code",
   "execution_count": 85,
   "metadata": {},
   "outputs": [
    {
     "name": "stdout",
     "output_type": "stream",
     "text": [
      "Total Params in model: 144421\n"
     ]
    }
   ],
   "source": [
    "print(\"Total Params in model:\", modelConv3D_2.count_params())"
   ]
  },
  {
   "cell_type": "code",
   "execution_count": 86,
   "metadata": {},
   "outputs": [],
   "source": [
    "train_generator = generator(train_path, train_doc, batch_size)\n",
    "val_generator = generator(val_path, val_doc, batch_size)"
   ]
  },
  {
   "cell_type": "code",
   "execution_count": 87,
   "metadata": {},
   "outputs": [],
   "source": [
    "# Get the current date and time for model saving\n",
    "curr_dt_time = datetime.datetime.now()\n",
    "\n",
    "# Create model name with current timestamp\n",
    "model_name = 'model_init_' + str(curr_dt_time).replace(' ', '').replace(':', '_') + '/'\n",
    "\n",
    "# Check if the directory exists, and create if not\n",
    "if not os.path.exists(model_name):\n",
    "    os.mkdir(model_name)\n",
    "\n",
    "filepath = model_name + 'model-{epoch:05d}-{loss:.5f}-{categorical_accuracy:.5f}-{val_loss:.5f}-{val_categorical_accuracy:.5f}.h5'\n",
    "\n",
    "# ModelCheckpoint callback\n",
    "checkpoint = ModelCheckpoint(filepath, monitor='val_loss', verbose=1, save_best_only=False, save_weights_only=False, mode='auto', save_freq='epoch')\n",
    "\n",
    "# ReduceLROnPlateau callback\n",
    "LR = ReduceLROnPlateau(monitor='val_loss', factor=0.2, patience=5, min_lr=0.001, verbose=1)\n",
    "\n",
    "# Combine callbacks into a list\n",
    "callbacks_list = [checkpoint, LR]"
   ]
  },
  {
   "cell_type": "code",
   "execution_count": 88,
   "metadata": {},
   "outputs": [],
   "source": [
    "if (num_train_sequences%batch_size) == 0:\n",
    "    steps_per_epoch = int(num_train_sequences/batch_size)\n",
    "else:\n",
    "    steps_per_epoch = (num_train_sequences//batch_size) + 1\n",
    "\n",
    "if (num_val_sequences%batch_size) == 0:\n",
    "    validation_steps = int(num_val_sequences/batch_size)\n",
    "else:\n",
    "    validation_steps = (num_val_sequences//batch_size) + 1"
   ]
  },
  {
   "cell_type": "code",
   "execution_count": 89,
   "metadata": {
    "scrolled": true
   },
   "outputs": [
    {
     "name": "stdout",
     "output_type": "stream",
     "text": [
      "Source path =  /home/datasets/Project_data/train ; batch size = 16\n",
      "Epoch 1/24\n",
      "42/42 [==============================] - ETA: 0s - loss: 2.5734 - categorical_accuracy: 0.2112Source path =  /home/datasets/Project_data/val ; batch size = 16\n",
      "\n",
      "Epoch 00001: saving model to model_init_2024-11-0606_03_42.713072/model-00001-2.57336-0.21116-1.66469-0.18000.h5\n",
      "42/42 [==============================] - 25s 570ms/step - loss: 2.5734 - categorical_accuracy: 0.2112 - val_loss: 1.6647 - val_categorical_accuracy: 0.1800 - lr: 2.0000e-04\n",
      "Epoch 2/24\n",
      "42/42 [==============================] - ETA: 0s - loss: 2.4331 - categorical_accuracy: 0.2655\n",
      "Epoch 00002: saving model to model_init_2024-11-0606_03_42.713072/model-00002-2.43310-0.26546-1.69809-0.19000.h5\n",
      "42/42 [==============================] - 23s 561ms/step - loss: 2.4331 - categorical_accuracy: 0.2655 - val_loss: 1.6981 - val_categorical_accuracy: 0.1900 - lr: 2.0000e-04\n",
      "Epoch 3/24\n",
      "42/42 [==============================] - ETA: 0s - loss: 2.2708 - categorical_accuracy: 0.2790\n",
      "Epoch 00003: saving model to model_init_2024-11-0606_03_42.713072/model-00003-2.27078-0.27903-1.78984-0.14000.h5\n",
      "42/42 [==============================] - 23s 564ms/step - loss: 2.2708 - categorical_accuracy: 0.2790 - val_loss: 1.7898 - val_categorical_accuracy: 0.1400 - lr: 2.0000e-04\n",
      "Epoch 4/24\n",
      "30/42 [====================>.........] - ETA: 5s - loss: 2.2168 - categorical_accuracy: 0.2688\n",
      "Epoch 00004: saving model to model_init_2024-11-0606_03_42.713072/model-00004-2.22404-0.27451-1.82559-0.13000.h5\n",
      "42/42 [==============================] - 23s 552ms/step - loss: 2.2240 - categorical_accuracy: 0.2745 - val_loss: 1.8256 - val_categorical_accuracy: 0.1300 - lr: 2.0000e-04\n",
      "Epoch 5/24\n",
      "42/42 [==============================] - ETA: 0s - loss: 2.0245 - categorical_accuracy: 0.3273\n",
      "Epoch 00005: saving model to model_init_2024-11-0606_03_42.713072/model-00005-2.02455-0.32730-1.82355-0.15000.h5\n",
      "42/42 [==============================] - 23s 558ms/step - loss: 2.0245 - categorical_accuracy: 0.3273 - val_loss: 1.8236 - val_categorical_accuracy: 0.1500 - lr: 2.0000e-04\n",
      "Epoch 6/24\n",
      "42/42 [==============================] - ETA: 0s - loss: 2.0406 - categorical_accuracy: 0.3198\n",
      "Epoch 00006: saving model to model_init_2024-11-0606_03_42.713072/model-00006-2.04058-0.31976-1.80242-0.19000.h5\n",
      "42/42 [==============================] - 23s 569ms/step - loss: 2.0406 - categorical_accuracy: 0.3198 - val_loss: 1.8024 - val_categorical_accuracy: 0.1900 - lr: 2.0000e-04\n",
      "Epoch 7/24\n",
      "42/42 [==============================] - ETA: 0s - loss: 1.9801 - categorical_accuracy: 0.3152\n",
      "Epoch 00007: saving model to model_init_2024-11-0606_03_42.713072/model-00007-1.98013-0.31523-1.81031-0.16000.h5\n",
      "42/42 [==============================] - 22s 538ms/step - loss: 1.9801 - categorical_accuracy: 0.3152 - val_loss: 1.8103 - val_categorical_accuracy: 0.1600 - lr: 2.0000e-04\n",
      "Epoch 8/24\n",
      "42/42 [==============================] - ETA: 0s - loss: 1.9661 - categorical_accuracy: 0.3107\n",
      "Epoch 00008: saving model to model_init_2024-11-0606_03_42.713072/model-00008-1.96610-0.31071-1.77547-0.21000.h5\n",
      "42/42 [==============================] - 23s 555ms/step - loss: 1.9661 - categorical_accuracy: 0.3107 - val_loss: 1.7755 - val_categorical_accuracy: 0.2100 - lr: 2.0000e-04\n",
      "Epoch 9/24\n",
      "42/42 [==============================] - ETA: 0s - loss: 1.9164 - categorical_accuracy: 0.3152\n",
      "Epoch 00009: saving model to model_init_2024-11-0606_03_42.713072/model-00009-1.91643-0.31523-1.75383-0.20000.h5\n",
      "42/42 [==============================] - 23s 554ms/step - loss: 1.9164 - categorical_accuracy: 0.3152 - val_loss: 1.7538 - val_categorical_accuracy: 0.2000 - lr: 2.0000e-04\n",
      "Epoch 10/24\n",
      "42/42 [==============================] - ETA: 0s - loss: 1.9685 - categorical_accuracy: 0.3228\n",
      "Epoch 00010: saving model to model_init_2024-11-0606_03_42.713072/model-00010-1.96855-0.32278-1.78816-0.23000.h5\n",
      "42/42 [==============================] - 23s 556ms/step - loss: 1.9685 - categorical_accuracy: 0.3228 - val_loss: 1.7882 - val_categorical_accuracy: 0.2300 - lr: 2.0000e-04\n",
      "Epoch 11/24\n",
      "42/42 [==============================] - ETA: 0s - loss: 1.8789 - categorical_accuracy: 0.3665\n",
      "Epoch 00011: saving model to model_init_2024-11-0606_03_42.713072/model-00011-1.87888-0.36652-1.68746-0.24000.h5\n",
      "42/42 [==============================] - 23s 568ms/step - loss: 1.8789 - categorical_accuracy: 0.3665 - val_loss: 1.6875 - val_categorical_accuracy: 0.2400 - lr: 2.0000e-04\n",
      "Epoch 12/24\n",
      "42/42 [==============================] - ETA: 0s - loss: 1.8347 - categorical_accuracy: 0.3620\n",
      "Epoch 00012: saving model to model_init_2024-11-0606_03_42.713072/model-00012-1.83474-0.36199-1.69969-0.28000.h5\n",
      "42/42 [==============================] - 23s 555ms/step - loss: 1.8347 - categorical_accuracy: 0.3620 - val_loss: 1.6997 - val_categorical_accuracy: 0.2800 - lr: 2.0000e-04\n",
      "Epoch 13/24\n",
      "42/42 [==============================] - ETA: 0s - loss: 1.7340 - categorical_accuracy: 0.3741\n",
      "Epoch 00013: saving model to model_init_2024-11-0606_03_42.713072/model-00013-1.73400-0.37406-1.47820-0.33000.h5\n",
      "42/42 [==============================] - 23s 555ms/step - loss: 1.7340 - categorical_accuracy: 0.3741 - val_loss: 1.4782 - val_categorical_accuracy: 0.3300 - lr: 2.0000e-04\n",
      "Epoch 14/24\n",
      "42/42 [==============================] - ETA: 0s - loss: 1.6960 - categorical_accuracy: 0.3575\n",
      "Epoch 00014: saving model to model_init_2024-11-0606_03_42.713072/model-00014-1.69604-0.35747-1.52484-0.32000.h5\n",
      "42/42 [==============================] - 22s 543ms/step - loss: 1.6960 - categorical_accuracy: 0.3575 - val_loss: 1.5248 - val_categorical_accuracy: 0.3200 - lr: 2.0000e-04\n",
      "Epoch 15/24\n",
      "42/42 [==============================] - ETA: 0s - loss: 1.7798 - categorical_accuracy: 0.3861\n",
      "Epoch 00015: saving model to model_init_2024-11-0606_03_42.713072/model-00015-1.77983-0.38612-1.41953-0.40000.h5\n",
      "42/42 [==============================] - 22s 546ms/step - loss: 1.7798 - categorical_accuracy: 0.3861 - val_loss: 1.4195 - val_categorical_accuracy: 0.4000 - lr: 2.0000e-04\n",
      "Epoch 16/24\n",
      "42/42 [==============================] - ETA: 0s - loss: 1.7076 - categorical_accuracy: 0.3876\n",
      "Epoch 00016: saving model to model_init_2024-11-0606_03_42.713072/model-00016-1.70762-0.38763-1.59605-0.30000.h5\n",
      "42/42 [==============================] - 23s 551ms/step - loss: 1.7076 - categorical_accuracy: 0.3876 - val_loss: 1.5961 - val_categorical_accuracy: 0.3000 - lr: 2.0000e-04\n",
      "Epoch 17/24\n",
      "42/42 [==============================] - ETA: 0s - loss: 1.6370 - categorical_accuracy: 0.3665\n",
      "Epoch 00017: saving model to model_init_2024-11-0606_03_42.713072/model-00017-1.63702-0.36652-1.68145-0.35000.h5\n",
      "42/42 [==============================] - 23s 554ms/step - loss: 1.6370 - categorical_accuracy: 0.3665 - val_loss: 1.6814 - val_categorical_accuracy: 0.3500 - lr: 2.0000e-04\n",
      "Epoch 18/24\n",
      "42/42 [==============================] - ETA: 0s - loss: 1.6993 - categorical_accuracy: 0.3846\n",
      "Epoch 00018: saving model to model_init_2024-11-0606_03_42.713072/model-00018-1.69928-0.38462-1.58059-0.38000.h5\n",
      "42/42 [==============================] - 23s 557ms/step - loss: 1.6993 - categorical_accuracy: 0.3846 - val_loss: 1.5806 - val_categorical_accuracy: 0.3800 - lr: 2.0000e-04\n",
      "Epoch 19/24\n",
      "42/42 [==============================] - ETA: 0s - loss: 1.6055 - categorical_accuracy: 0.4148\n",
      "Epoch 00019: saving model to model_init_2024-11-0606_03_42.713072/model-00019-1.60553-0.41478-1.53797-0.38000.h5\n",
      "42/42 [==============================] - 23s 566ms/step - loss: 1.6055 - categorical_accuracy: 0.4148 - val_loss: 1.5380 - val_categorical_accuracy: 0.3800 - lr: 2.0000e-04\n",
      "Epoch 20/24\n",
      "42/42 [==============================] - ETA: 0s - loss: 1.5947 - categorical_accuracy: 0.3741\n",
      "Epoch 00020: saving model to model_init_2024-11-0606_03_42.713072/model-00020-1.59468-0.37406-1.58141-0.35000.h5\n",
      "42/42 [==============================] - 24s 585ms/step - loss: 1.5947 - categorical_accuracy: 0.3741 - val_loss: 1.5814 - val_categorical_accuracy: 0.3500 - lr: 2.0000e-04\n",
      "Epoch 21/24\n",
      "42/42 [==============================] - ETA: 0s - loss: 1.5849 - categorical_accuracy: 0.4148\n",
      "Epoch 00021: saving model to model_init_2024-11-0606_03_42.713072/model-00021-1.58488-0.41478-1.48281-0.37000.h5\n",
      "42/42 [==============================] - 22s 544ms/step - loss: 1.5849 - categorical_accuracy: 0.4148 - val_loss: 1.4828 - val_categorical_accuracy: 0.3700 - lr: 2.0000e-04\n",
      "Epoch 22/24\n",
      "42/42 [==============================] - ETA: 0s - loss: 1.5027 - categorical_accuracy: 0.4374\n",
      "Epoch 00022: saving model to model_init_2024-11-0606_03_42.713072/model-00022-1.50274-0.43741-1.41199-0.35000.h5\n",
      "42/42 [==============================] - 23s 550ms/step - loss: 1.5027 - categorical_accuracy: 0.4374 - val_loss: 1.4120 - val_categorical_accuracy: 0.3500 - lr: 2.0000e-04\n",
      "Epoch 23/24\n",
      "42/42 [==============================] - ETA: 0s - loss: 1.6192 - categorical_accuracy: 0.3997\n",
      "Epoch 00023: saving model to model_init_2024-11-0606_03_42.713072/model-00023-1.61924-0.39970-1.36641-0.45000.h5\n",
      "42/42 [==============================] - 22s 547ms/step - loss: 1.6192 - categorical_accuracy: 0.3997 - val_loss: 1.3664 - val_categorical_accuracy: 0.4500 - lr: 2.0000e-04\n",
      "Epoch 24/24\n",
      "42/42 [==============================] - ETA: 0s - loss: 1.6279 - categorical_accuracy: 0.3922\n",
      "Epoch 00024: saving model to model_init_2024-11-0606_03_42.713072/model-00024-1.62795-0.39216-1.63055-0.34000.h5\n",
      "42/42 [==============================] - 23s 550ms/step - loss: 1.6279 - categorical_accuracy: 0.3922 - val_loss: 1.6305 - val_categorical_accuracy: 0.3400 - lr: 2.0000e-04\n"
     ]
    }
   ],
   "source": [
    "#Model Fit\n",
    "\n",
    "history = modelConv3D_2.fit(train_generator, steps_per_epoch=steps_per_epoch, epochs=num_epochs, verbose=1, \n",
    "                    callbacks=callbacks_list, validation_data=val_generator, \n",
    "                    validation_steps=validation_steps, class_weight=None,\n",
    "                    workers=1, initial_epoch=0)"
   ]
  },
  {
   "cell_type": "code",
   "execution_count": null,
   "metadata": {},
   "outputs": [
    {
     "data": {
      "image/png": "[encoded data removed]",
      "text/plain": [
       "<Figure size 432x288 with 1 Axes>"
      ]
     },
     "metadata": {
      "needs_background": "light"
     },
     "output_type": "display_data"
    },
    {
     "data": {
      "image/png": "[encoded data removed]",
      "text/plain": [
       "<Figure size 432x288 with 1 Axes>"
      ]
     },
     "metadata": {
      "needs_background": "light"
     },
     "output_type": "display_data"
    }
   ],
   "source": [
    "# Plotting the result of Model 2 :\n",
    "\n",
    "# summarize history for accuracy\n",
    "plt.plot(history.history['categorical_accuracy'])\n",
    "plt.plot(history.history['val_categorical_accuracy'])\n",
    "plt.title('model accuracy')\n",
    "plt.ylabel('accuracy')\n",
    "plt.xlabel('epoch')\n",
    "plt.legend(['train', 'test'], loc='upper left')\n",
    "plt.show()\n",
    "\n",
    "# summarize history for loss\n",
    "plt.plot(history.history['loss'])\n",
    "plt.plot(history.history['val_loss'])\n",
    "plt.title('model loss')\n",
    "plt.ylabel('loss')\n",
    "plt.xlabel('epoch')\n",
    "plt.legend(['train', 'test'], loc='upper left')\n",
    "plt.show()"
   ]
  },
  {
   "cell_type": "code",
   "execution_count": 91,
   "metadata": {},
   "outputs": [],
   "source": [
    "#Training Accuracy-39%, Validation Accuracy-34%"
   ]
  },
  {
   "cell_type": "markdown",
   "metadata": {},
   "source": [
    "###  Model 3 : Conv 3D Model  \n",
    "#### Current Model Inputs\n",
    "- image size increaed to 84X84, reduced cropping to 3 % from 10 %\n",
    "- Without dropouts in Conv layer and with batch normalization.\n",
    "- adam optimiser- 0.0002 without decay\n",
    "- Reverted back dropout from 0.50 to 0.25 \n",
    "- 20 epochs and 24 batch size"
   ]
  },
  {
   "cell_type": "code",
   "execution_count": 92,
   "metadata": {},
   "outputs": [],
   "source": [
    "# Modified generator function :\n",
    "\n",
    "def generator_modified(source_path, folder_list, batch_size):\n",
    "    print( 'Source path = ', source_path, '; batch size =', batch_size)\n",
    "    \n",
    "    #create a list of image numbers you want to use for a particular video\n",
    "    img_idx = [1,2,4,6,7,8,10,12,14,16,18,20,21,22,24,26,27,29]\n",
    "    #list(range(0,29,2))\n",
    "    \n",
    "    while True:\n",
    "        t = np.random.permutation(folder_list)\n",
    "        \n",
    "# calculate the number of batches\n",
    "        num_batches = int(len(t)/batch_size)\n",
    "        \n",
    "# we iterate over the number of batches\n",
    "        for batch in range(num_batches): \n",
    "            \n",
    "# x is the number of images you use for each video, (y,z) is the final size of the input images and 3 is the number of channels RGB          \n",
    "            batch_data = np.zeros((batch_size,18,84,84,3))\n",
    "# batch_labels is the one hot representation of the output\n",
    "            batch_labels = np.zeros((batch_size,5))\n",
    "\n",
    "# iterate over the batch_size    \n",
    "            for folder in range(batch_size): \n",
    "# read all the images in the folder        \n",
    "                imgs = os.listdir(source_path+'/'+ t[folder + (batch*batch_size)].split(';')[0]) \n",
    "#  Iterate over the frames/images of a folder to read them in    \n",
    "                for idx,item in enumerate(img_idx):\n",
    "                    image = cv2.imread(source_path+'/'+ t[folder + (batch*batch_size)].strip().split(';')[0]+'/'+imgs[item],cv2.IMREAD_UNCHANGED).astype(np.float32)\n",
    "                    \n",
    "#crop the images and resize them. Note that the images are of 2 different shape \n",
    "#and the conv3D will throw error if the inputs in a batch have different shapes\n",
    "\n",
    "# Cropping image by 3 % of original size :\n",
    "                    image = crop_img(image, 0.03)\n",
    "    \n",
    "# Resizing the image :    \n",
    "                    if image.shape[1] == 160:\n",
    "                        image = cv2.resize(image[:,20:140,:],(84,84),interpolation = cv2.INTER_AREA).astype(np.float32)\n",
    "                    else:\n",
    "                        image = cv2.resize(image,(84,84),interpolation = cv2.INTER_AREA).astype(np.float32)                    \n",
    "                        \n",
    "#normalise and feed in the image\n",
    "\n",
    "                    batch_data[folder,idx,:,:,0] = (image[:,:,0])/255\n",
    "                    batch_data[folder,idx,:,:,1] = (image[:,:,1])/255\n",
    "                    batch_data[folder,idx,:,:,2] = (image[:,:,2])/255\n",
    "                    \n",
    "                batch_labels[folder, int(t[folder + (batch*batch_size)].strip().split(';')[2])] = 1\n",
    "#you yield the batch_data and the batch_labels, remember what does yield do                \n",
    "            yield batch_data, batch_labels \n",
    "\n",
    "        \n",
    "# write the code for the remaining data points which are left after full batches\n",
    "        if (len(t)%batch_size) != 0:\n",
    "            batch_data = np.zeros((len(t)%batch_size,18,84,84,3))\n",
    "            batch_labels = np.zeros((len(t)%batch_size,5))\n",
    "            for folder in range(len(t)%batch_size):\n",
    "                imgs = os.listdir(source_path+'/'+ t[folder + (num_batches*batch_size)].split(';')[0])\n",
    "                for idx,item in enumerate(img_idx):\n",
    "                    image = cv2.imread(source_path+'/'+ t[folder + (num_batches*batch_size)].strip().split(';')[0]+'/'+imgs[item],cv2.IMREAD_UNCHANGED).astype(np.float32)\n",
    "                    \n",
    "# Cropping image by 3 % of original size :\n",
    "                    image = crop_img(image, 0.03)\n",
    "\n",
    "# Resizing the image :\n",
    "                    if image.shape[1] == 160:\n",
    "                        image = cv2.resize(image[:,20:140,:],(84,84),interpolation = cv2.INTER_AREA).astype(np.float32)\n",
    "                    else:\n",
    "                        image = cv2.resize(image,(84,84),interpolation = cv2.INTER_AREA).astype(np.float32)\n",
    "\n",
    "# Perform normalization on images\n",
    "                    batch_data[folder,idx,:,:,0] = (image[:,:,0])/255\n",
    "                    batch_data[folder,idx,:,:,1] = (image[:,:,1])/255\n",
    "                    batch_data[folder,idx,:,:,2] = (image[:,:,2])/255\n",
    "\n",
    "                batch_labels[folder, int(t[folder + (num_batches*batch_size)].strip().split(';')[2])] = 1\n",
    "\n",
    "            yield batch_data, batch_labels\n"
   ]
  },
  {
   "cell_type": "code",
   "execution_count": 93,
   "metadata": {},
   "outputs": [
    {
     "name": "stdout",
     "output_type": "stream",
     "text": [
      "# training sequences = 663\n",
      "# validation sequences = 100\n",
      "# epochs = 20\n",
      "# batch_size = 24\n"
     ]
    }
   ],
   "source": [
    "curr_dt_time = datetime.datetime.now()\n",
    "train_path = '/home/datasets/Project_data/train'\n",
    "val_path = '/home/datasets/Project_data/val'\n",
    "num_train_sequences = len(train_doc)\n",
    "print('# training sequences =', num_train_sequences)\n",
    "num_val_sequences = len(val_doc)\n",
    "print('# validation sequences =', num_val_sequences)\n",
    "\n",
    "# choose the number of epochs & batch size\n",
    "num_epochs = 20\n",
    "print ('# epochs =', num_epochs)\n",
    "batch_size = 24\n",
    "print ('# batch_size =', batch_size)"
   ]
  },
  {
   "cell_type": "code",
   "execution_count": 94,
   "metadata": {},
   "outputs": [],
   "source": [
    "# Building the 3D Conv model:\n",
    "\n",
    "modelConv3D_3 = Sequential()\n",
    "\n",
    "modelConv3D_3.add(Conv3D(8, (3,3,3), padding='same', input_shape=(18,84,84,3)))\n",
    "modelConv3D_3.add(Activation('relu'))\n",
    "modelConv3D_3.add(BatchNormalization())\n",
    "modelConv3D_3.add(MaxPooling3D(pool_size=(2,2,2)))\n",
    "\n",
    "#modelConv3D_3 without dropout\n",
    "\n",
    "modelConv3D_3.add(Conv3D(16, (3,3,3), padding='same'))\n",
    "modelConv3D_3.add(Activation('relu'))\n",
    "modelConv3D_3.add(BatchNormalization())\n",
    "modelConv3D_3.add(MaxPooling3D(pool_size=(2,2,2)))\n",
    "\n",
    "#modelConv3D_3 without droput\n",
    "\n",
    "modelConv3D_3.add(Conv3D(32, (3,3,3), padding='same'))\n",
    "modelConv3D_3.add(BatchNormalization())\n",
    "modelConv3D_3.add(Activation('relu'))\n",
    "modelConv3D_3.add(MaxPooling3D(pool_size=(2,2,2)))\n",
    "\n",
    "#modelConv3D_3 without droput\n",
    "\n",
    "modelConv3D_3.add(Conv3D(64, (3,3,3), padding='same'))\n",
    "modelConv3D_3.add(Activation('relu'))\n",
    "modelConv3D_3.add(BatchNormalization())\n",
    "modelConv3D_3.add(MaxPooling3D(pool_size=(2,2,2)))\n",
    "\n",
    "#modelConv3D_3.add(Dropout(0.25))\n",
    "\n",
    "modelConv3D_3.add(Flatten())\n",
    "\n",
    "modelConv3D_3.add(Dense(64, activation='relu'))\n",
    "modelConv3D_3.add(BatchNormalization())\n",
    "modelConv3D_3.add(Dropout(0.25))\n",
    "\n",
    "modelConv3D_3.add(Dense(64, activation='relu'))\n",
    "modelConv3D_3.add(BatchNormalization())\n",
    "modelConv3D_3.add(Dropout(0.25))\n",
    "\n",
    "modelConv3D_3.add(Dense(5, activation='softmax'))\n"
   ]
  },
  {
   "cell_type": "code",
   "execution_count": 95,
   "metadata": {},
   "outputs": [
    {
     "name": "stdout",
     "output_type": "stream",
     "text": [
      "WARNING:tensorflow:tf.keras.mixed_precision.experimental.LossScaleOptimizer is deprecated. Please use tf.keras.mixed_precision.LossScaleOptimizer instead. Note that the non-experimental LossScaleOptimizer does not take a DynamicLossScale but instead takes the dynamic configuration directly in the constructor. For example:\n",
      "  opt = tf.keras.mixed_precision.LossScaleOptimizer(opt)\n",
      "\n",
      "Model: \"sequential_6\"\n",
      "_________________________________________________________________\n",
      " Layer (type)                Output Shape              Param #   \n",
      "=================================================================\n",
      " conv3d_24 (Conv3D)          (None, 18, 84, 84, 8)     656       \n",
      "                                                                 \n",
      " activation_24 (Activation)  (None, 18, 84, 84, 8)     0         \n",
      "                                                                 \n",
      " batch_normalization_33 (Bat  (None, 18, 84, 84, 8)    32        \n",
      " chNormalization)                                                \n",
      "                                                                 \n",
      " max_pooling3d_24 (MaxPoolin  (None, 9, 42, 42, 8)     0         \n",
      " g3D)                                                            \n",
      "                                                                 \n",
      " conv3d_25 (Conv3D)          (None, 9, 42, 42, 16)     3472      \n",
      "                                                                 \n",
      " activation_25 (Activation)  (None, 9, 42, 42, 16)     0         \n",
      "                                                                 \n",
      " batch_normalization_34 (Bat  (None, 9, 42, 42, 16)    64        \n",
      " chNormalization)                                                \n",
      "                                                                 \n",
      " max_pooling3d_25 (MaxPoolin  (None, 4, 21, 21, 16)    0         \n",
      " g3D)                                                            \n",
      "                                                                 \n",
      " conv3d_26 (Conv3D)          (None, 4, 21, 21, 32)     13856     \n",
      "                                                                 \n",
      " batch_normalization_35 (Bat  (None, 4, 21, 21, 32)    128       \n",
      " chNormalization)                                                \n",
      "                                                                 \n",
      " activation_26 (Activation)  (None, 4, 21, 21, 32)     0         \n",
      "                                                                 \n",
      " max_pooling3d_26 (MaxPoolin  (None, 2, 10, 10, 32)    0         \n",
      " g3D)                                                            \n",
      "                                                                 \n",
      " conv3d_27 (Conv3D)          (None, 2, 10, 10, 64)     55360     \n",
      "                                                                 \n",
      " activation_27 (Activation)  (None, 2, 10, 10, 64)     0         \n",
      "                                                                 \n",
      " batch_normalization_36 (Bat  (None, 2, 10, 10, 64)    256       \n",
      " chNormalization)                                                \n",
      "                                                                 \n",
      " max_pooling3d_27 (MaxPoolin  (None, 1, 5, 5, 64)      0         \n",
      " g3D)                                                            \n",
      "                                                                 \n",
      " flatten_6 (Flatten)         (None, 1600)              0         \n",
      "                                                                 \n",
      " dense_18 (Dense)            (None, 64)                102464    \n",
      "                                                                 \n",
      " batch_normalization_37 (Bat  (None, 64)               256       \n",
      " chNormalization)                                                \n",
      "                                                                 \n",
      " dropout_13 (Dropout)        (None, 64)                0         \n",
      "                                                                 \n",
      " dense_19 (Dense)            (None, 64)                4160      \n",
      "                                                                 \n",
      " batch_normalization_38 (Bat  (None, 64)               256       \n",
      " chNormalization)                                                \n",
      "                                                                 \n",
      " dropout_14 (Dropout)        (None, 64)                0         \n",
      "                                                                 \n",
      " dense_20 (Dense)            (None, 5)                 325       \n",
      "                                                                 \n",
      "=================================================================\n",
      "Total params: 181,285\n",
      "Trainable params: 180,789\n",
      "Non-trainable params: 496\n",
      "_________________________________________________________________\n",
      "None\n"
     ]
    }
   ],
   "source": [
    "import tensorflow as tf\n",
    "from tensorflow.keras import optimizers\n",
    "\n",
    "# Define the Adam optimizer with a fixed learning rate\n",
    "optimiser = optimizers.Adam(learning_rate=0.0002)  # No decay applied here\n",
    "\n",
    "# Define your model (make sure your modelConv3D_1 is defined before this)\n",
    "modelConv3D_3.compile(optimizer=optimiser, loss='categorical_crossentropy', metrics=['categorical_accuracy'])\n",
    "\n",
    "# Print the model summary\n",
    "print(modelConv3D_3.summary())"
   ]
  },
  {
   "cell_type": "code",
   "execution_count": 96,
   "metadata": {},
   "outputs": [
    {
     "name": "stdout",
     "output_type": "stream",
     "text": [
      "Total Params in model: 181285\n"
     ]
    }
   ],
   "source": [
    "print(\"Total Params in model:\", modelConv3D_3.count_params())"
   ]
  },
  {
   "cell_type": "code",
   "execution_count": 97,
   "metadata": {},
   "outputs": [],
   "source": [
    "train_generator = generator_modified(train_path, train_doc, batch_size)\n",
    "val_generator = generator_modified(val_path, val_doc, batch_size)"
   ]
  },
  {
   "cell_type": "code",
   "execution_count": 98,
   "metadata": {},
   "outputs": [
    {
     "data": {
      "text/plain": [
       "[<keras.callbacks.ModelCheckpoint at 0x7f63d092a310>,\n",
       " <keras.callbacks.ReduceLROnPlateau at 0x7f63d0e583a0>]"
      ]
     },
     "execution_count": 98,
     "metadata": {},
     "output_type": "execute_result"
    }
   ],
   "source": [
    "# Get the current date and time for model saving\n",
    "curr_dt_time = datetime.datetime.now()\n",
    "\n",
    "# Create model name with current timestamp\n",
    "model_name = 'model_init_' + str(curr_dt_time).replace(' ', '').replace(':', '_') + '/'\n",
    "\n",
    "# Check if the directory exists, and create if not\n",
    "if not os.path.exists(model_name):\n",
    "    os.mkdir(model_name)\n",
    "\n",
    "filepath = model_name + 'model-{epoch:05d}-{loss:.5f}-{categorical_accuracy:.5f}-{val_loss:.5f}-{val_categorical_accuracy:.5f}.h5'\n",
    "\n",
    "# ModelCheckpoint callback\n",
    "checkpoint = ModelCheckpoint(filepath, monitor='val_loss', verbose=1, save_best_only=False, save_weights_only=False, mode='auto', save_freq='epoch')\n",
    "\n",
    "# ReduceLROnPlateau callback\n",
    "LR = ReduceLROnPlateau(monitor='val_loss', factor=0.2, patience=5, min_lr=0.001, verbose=1)\n",
    "\n",
    "# Combine callbacks into a list\n",
    "callbacks_list"
   ]
  },
  {
   "cell_type": "code",
   "execution_count": 99,
   "metadata": {},
   "outputs": [],
   "source": [
    "if (num_train_sequences%batch_size) == 0:\n",
    "    steps_per_epoch = int(num_train_sequences/batch_size)\n",
    "else:\n",
    "    steps_per_epoch = (num_train_sequences//batch_size) + 1\n",
    "\n",
    "if (num_val_sequences%batch_size) == 0:\n",
    "    validation_steps = int(num_val_sequences/batch_size)\n",
    "else:\n",
    "    validation_steps = (num_val_sequences//batch_size) + 1"
   ]
  },
  {
   "cell_type": "code",
   "execution_count": 100,
   "metadata": {},
   "outputs": [
    {
     "name": "stdout",
     "output_type": "stream",
     "text": [
      "Source path =  /home/datasets/Project_data/train ; batch size = 24\n",
      "Epoch 1/20\n",
      "28/28 [==============================] - ETA: 0s - loss: 2.3065 - categorical_accuracy: 0.2142Source path =  /home/datasets/Project_data/val ; batch size = 24\n",
      "\n",
      "Epoch 00001: saving model to model_init_2024-11-0606_03_42.713072/model-00001-2.30649-0.21418-1.63063-0.14000.h5\n",
      "28/28 [==============================] - 26s 921ms/step - loss: 2.3065 - categorical_accuracy: 0.2142 - val_loss: 1.6306 - val_categorical_accuracy: 0.1400 - lr: 2.0000e-04\n",
      "Epoch 2/20\n",
      "28/28 [==============================] - ETA: 0s - loss: 1.9206 - categorical_accuracy: 0.2866\n",
      "Epoch 00002: saving model to model_init_2024-11-0606_03_42.713072/model-00002-1.92056-0.28658-1.66242-0.19000.h5\n",
      "28/28 [==============================] - 23s 867ms/step - loss: 1.9206 - categorical_accuracy: 0.2866 - val_loss: 1.6624 - val_categorical_accuracy: 0.1900 - lr: 2.0000e-04\n",
      "Epoch 3/20\n",
      "28/28 [==============================] - ETA: 0s - loss: 1.7880 - categorical_accuracy: 0.3213\n",
      "Epoch 00003: saving model to model_init_2024-11-0606_03_42.713072/model-00003-1.78803-0.32127-1.69500-0.23000.h5\n",
      "28/28 [==============================] - 25s 926ms/step - loss: 1.7880 - categorical_accuracy: 0.3213 - val_loss: 1.6950 - val_categorical_accuracy: 0.2300 - lr: 2.0000e-04\n",
      "Epoch 4/20\n",
      "28/28 [==============================] - ETA: 0s - loss: 1.7447 - categorical_accuracy: 0.3273\n",
      "Epoch 00004: saving model to model_init_2024-11-0606_03_42.713072/model-00004-1.74473-0.32730-1.74258-0.17000.h5\n",
      "28/28 [==============================] - 25s 932ms/step - loss: 1.7447 - categorical_accuracy: 0.3273 - val_loss: 1.7426 - val_categorical_accuracy: 0.1700 - lr: 2.0000e-04\n",
      "Epoch 5/20\n",
      "28/28 [==============================] - ETA: 0s - loss: 1.6623 - categorical_accuracy: 0.3379\n",
      "Epoch 00005: saving model to model_init_2024-11-0606_03_42.713072/model-00005-1.66229-0.33786-1.79355-0.16000.h5\n",
      "28/28 [==============================] - 26s 950ms/step - loss: 1.6623 - categorical_accuracy: 0.3379 - val_loss: 1.7936 - val_categorical_accuracy: 0.1600 - lr: 2.0000e-04\n",
      "Epoch 6/20\n",
      "28/28 [==============================] - ETA: 0s - loss: 1.7077 - categorical_accuracy: 0.3514\n",
      "Epoch 00006: saving model to model_init_2024-11-0606_03_42.713072/model-00006-1.70771-0.35143-1.72742-0.16000.h5\n",
      "28/28 [==============================] - 26s 945ms/step - loss: 1.7077 - categorical_accuracy: 0.3514 - val_loss: 1.7274 - val_categorical_accuracy: 0.1600 - lr: 2.0000e-04\n",
      "Epoch 7/20\n",
      "28/28 [==============================] - ETA: 0s - loss: 1.5451 - categorical_accuracy: 0.3922\n",
      "Epoch 00007: saving model to model_init_2024-11-0606_03_42.713072/model-00007-1.54507-0.39216-1.71203-0.14000.h5\n",
      "28/28 [==============================] - 27s 991ms/step - loss: 1.5451 - categorical_accuracy: 0.3922 - val_loss: 1.7120 - val_categorical_accuracy: 0.1400 - lr: 2.0000e-04\n",
      "Epoch 8/20\n",
      "28/28 [==============================] - ETA: 0s - loss: 1.5370 - categorical_accuracy: 0.4012\n",
      "Epoch 00008: saving model to model_init_2024-11-0606_03_42.713072/model-00008-1.53695-0.40121-1.80953-0.16000.h5\n",
      "28/28 [==============================] - 25s 931ms/step - loss: 1.5370 - categorical_accuracy: 0.4012 - val_loss: 1.8095 - val_categorical_accuracy: 0.1600 - lr: 2.0000e-04\n",
      "Epoch 9/20\n",
      "28/28 [==============================] - ETA: 0s - loss: 1.5413 - categorical_accuracy: 0.4057\n",
      "Epoch 00009: saving model to model_init_2024-11-0606_03_42.713072/model-00009-1.54135-0.40573-1.76727-0.21000.h5\n",
      "28/28 [==============================] - 25s 932ms/step - loss: 1.5413 - categorical_accuracy: 0.4057 - val_loss: 1.7673 - val_categorical_accuracy: 0.2100 - lr: 2.0000e-04\n",
      "Epoch 10/20\n",
      "28/28 [==============================] - ETA: 0s - loss: 1.4602 - categorical_accuracy: 0.4133\n",
      "Epoch 00010: saving model to model_init_2024-11-0606_03_42.713072/model-00010-1.46021-0.41327-1.87754-0.14000.h5\n",
      "28/28 [==============================] - 23s 851ms/step - loss: 1.4602 - categorical_accuracy: 0.4133 - val_loss: 1.8775 - val_categorical_accuracy: 0.1400 - lr: 2.0000e-04\n",
      "Epoch 11/20\n",
      "28/28 [==============================] - ETA: 0s - loss: 1.5266 - categorical_accuracy: 0.4178\n",
      "Epoch 00011: saving model to model_init_2024-11-0606_03_42.713072/model-00011-1.52659-0.41780-1.99641-0.17000.h5\n",
      "28/28 [==============================] - 24s 894ms/step - loss: 1.5266 - categorical_accuracy: 0.4178 - val_loss: 1.9964 - val_categorical_accuracy: 0.1700 - lr: 2.0000e-04\n",
      "Epoch 12/20\n",
      "28/28 [==============================] - ETA: 0s - loss: 1.4797 - categorical_accuracy: 0.4238\n",
      "Epoch 00012: saving model to model_init_2024-11-0606_03_42.713072/model-00012-1.47972-0.42383-2.02063-0.14000.h5\n",
      "28/28 [==============================] - 24s 899ms/step - loss: 1.4797 - categorical_accuracy: 0.4238 - val_loss: 2.0206 - val_categorical_accuracy: 0.1400 - lr: 2.0000e-04\n",
      "Epoch 13/20\n",
      "28/28 [==============================] - ETA: 0s - loss: 1.3871 - categorical_accuracy: 0.4344\n",
      "Epoch 00013: saving model to model_init_2024-11-0606_03_42.713072/model-00013-1.38705-0.43439-1.90309-0.20000.h5\n",
      "28/28 [==============================] - 24s 894ms/step - loss: 1.3871 - categorical_accuracy: 0.4344 - val_loss: 1.9031 - val_categorical_accuracy: 0.2000 - lr: 2.0000e-04\n",
      "Epoch 14/20\n",
      "28/28 [==============================] - ETA: 0s - loss: 1.3563 - categorical_accuracy: 0.4465\n",
      "Epoch 00014: saving model to model_init_2024-11-0606_03_42.713072/model-00014-1.35633-0.44646-1.97117-0.22000.h5\n",
      "28/28 [==============================] - 24s 877ms/step - loss: 1.3563 - categorical_accuracy: 0.4465 - val_loss: 1.9712 - val_categorical_accuracy: 0.2200 - lr: 2.0000e-04\n",
      "Epoch 15/20\n",
      "28/28 [==============================] - ETA: 0s - loss: 1.2547 - categorical_accuracy: 0.4872\n",
      "Epoch 00015: saving model to model_init_2024-11-0606_03_42.713072/model-00015-1.25471-0.48718-1.92711-0.21000.h5\n",
      "28/28 [==============================] - 24s 875ms/step - loss: 1.2547 - categorical_accuracy: 0.4872 - val_loss: 1.9271 - val_categorical_accuracy: 0.2100 - lr: 2.0000e-04\n",
      "Epoch 16/20\n",
      "28/28 [==============================] - ETA: 0s - loss: 1.3344 - categorical_accuracy: 0.4706\n",
      "Epoch 00016: saving model to model_init_2024-11-0606_03_42.713072/model-00016-1.33442-0.47059-1.96008-0.13000.h5\n",
      "28/28 [==============================] - 24s 904ms/step - loss: 1.3344 - categorical_accuracy: 0.4706 - val_loss: 1.9601 - val_categorical_accuracy: 0.1300 - lr: 2.0000e-04\n",
      "Epoch 17/20\n",
      "28/28 [==============================] - ETA: 0s - loss: 1.2385 - categorical_accuracy: 0.4992\n",
      "Epoch 00017: saving model to model_init_2024-11-0606_03_42.713072/model-00017-1.23846-0.49925-1.80621-0.23000.h5\n",
      "28/28 [==============================] - 24s 877ms/step - loss: 1.2385 - categorical_accuracy: 0.4992 - val_loss: 1.8062 - val_categorical_accuracy: 0.2300 - lr: 2.0000e-04\n",
      "Epoch 18/20\n",
      "28/28 [==============================] - ETA: 0s - loss: 1.2195 - categorical_accuracy: 0.5354\n",
      "Epoch 00018: saving model to model_init_2024-11-0606_03_42.713072/model-00018-1.21946-0.53544-1.57867-0.41000.h5\n",
      "28/28 [==============================] - 24s 903ms/step - loss: 1.2195 - categorical_accuracy: 0.5354 - val_loss: 1.5787 - val_categorical_accuracy: 0.4100 - lr: 2.0000e-04\n",
      "Epoch 19/20\n",
      "28/28 [==============================] - ETA: 0s - loss: 1.2307 - categorical_accuracy: 0.5370\n",
      "Epoch 00019: saving model to model_init_2024-11-0606_03_42.713072/model-00019-1.23073-0.53695-1.75820-0.30000.h5\n",
      "28/28 [==============================] - 24s 883ms/step - loss: 1.2307 - categorical_accuracy: 0.5370 - val_loss: 1.7582 - val_categorical_accuracy: 0.3000 - lr: 2.0000e-04\n",
      "Epoch 20/20\n",
      "28/28 [==============================] - ETA: 0s - loss: 1.2287 - categorical_accuracy: 0.5234\n",
      "Epoch 00020: saving model to model_init_2024-11-0606_03_42.713072/model-00020-1.22870-0.52338-1.62125-0.33000.h5\n",
      "28/28 [==============================] - 24s 872ms/step - loss: 1.2287 - categorical_accuracy: 0.5234 - val_loss: 1.6213 - val_categorical_accuracy: 0.3300 - lr: 2.0000e-04\n"
     ]
    }
   ],
   "source": [
    "# Model Fit\n",
    "\n",
    "history = modelConv3D_3.fit(train_generator, steps_per_epoch=steps_per_epoch, epochs=num_epochs, verbose=1, \n",
    "                    callbacks=callbacks_list, validation_data=val_generator, \n",
    "                    validation_steps=validation_steps, class_weight=None,\n",
    "                    workers=1, initial_epoch=0)"
   ]
  },
  {
   "cell_type": "code",
   "execution_count": 101,
   "metadata": {},
   "outputs": [
    {
     "data": {
      "image/png": "[encoded data removed]",
      "text/plain": [
       "<Figure size 432x288 with 1 Axes>"
      ]
     },
     "metadata": {
      "needs_background": "light"
     },
     "output_type": "display_data"
    },
    {
     "data": {
      "image/png": "[encoded data removed]",
      "text/plain": [
       "<Figure size 432x288 with 1 Axes>"
      ]
     },
     "metadata": {
      "needs_background": "light"
     },
     "output_type": "display_data"
    }
   ],
   "source": [
    "# Plotting the result of Model 3 :\n",
    "\n",
    "# summarize history for accuracy\n",
    "plt.plot(history.history['categorical_accuracy'])\n",
    "plt.plot(history.history['val_categorical_accuracy'])\n",
    "plt.title('model accuracy')\n",
    "plt.ylabel('accuracy')\n",
    "plt.xlabel('epoch')\n",
    "plt.legend(['train', 'test'], loc='upper left')\n",
    "plt.show()\n",
    "\n",
    "# summarize history for loss\n",
    "plt.plot(history.history['loss'])\n",
    "plt.plot(history.history['val_loss'])\n",
    "plt.title('model loss')\n",
    "plt.ylabel('loss')\n",
    "plt.xlabel('epoch')\n",
    "plt.legend(['train', 'test'], loc='upper left')\n",
    "plt.show()"
   ]
  },
  {
   "cell_type": "code",
   "execution_count": 102,
   "metadata": {},
   "outputs": [],
   "source": [
    "# Training Accuracy 52%, Validation Accuracy 33%."
   ]
  },
  {
   "cell_type": "markdown",
   "metadata": {},
   "source": [
    "### Model-4 : Conv 3D model \n",
    "#### Current Model Inputs \n",
    "- Increase the image size to 100x100, batch size 18, epoch 25"
   ]
  },
  {
   "cell_type": "code",
   "execution_count": 103,
   "metadata": {},
   "outputs": [],
   "source": [
    "train_doc = np.random.permutation(open('/home/datasets/Project_data/train.csv').readlines())\n",
    "val_doc = np.random.permutation(open('/home/datasets/Project_data/val.csv').readlines())"
   ]
  },
  {
   "cell_type": "code",
   "execution_count": 104,
   "metadata": {},
   "outputs": [],
   "source": [
    "def generator(source_path, folder_list, batch_size):\n",
    "    print( 'Source path = ', source_path, '; batch size =', batch_size)\n",
    "    \n",
    "    #create a list of image numbers you want to use for a particular video\n",
    "    img_idx = [1,2,4,6,7,8,10,12,14,16,18,20,21,22,24,26,27,29]\n",
    "    #list(range(0,29,2))\n",
    "    \n",
    "    while True:\n",
    "        t = np.random.permutation(folder_list)\n",
    "        \n",
    "# calculate the number of batches\n",
    "        num_batches = int(len(t)/batch_size)\n",
    "        \n",
    "# we iterate over the number of batches\n",
    "        for batch in range(num_batches): \n",
    "            \n",
    "# x is the number of images you use for each video, (y,z) is the final size of the input images and 3 is the number of channels RGB          \n",
    "            batch_data = np.zeros((batch_size,18,100,100,3))\n",
    "# batch_labels is the one hot representation of the output\n",
    "            batch_labels = np.zeros((batch_size,5))\n",
    "\n",
    "# iterate over the batch_size    \n",
    "            for folder in range(batch_size): \n",
    "# read all the images in the folder        \n",
    "                imgs = os.listdir(source_path+'/'+ t[folder + (batch*batch_size)].split(';')[0]) \n",
    "#  Iterate over the frames/images of a folder to read them in    \n",
    "                for idx,item in enumerate(img_idx):\n",
    "                    image = cv2.imread(source_path+'/'+ t[folder + (batch*batch_size)].strip().split(';')[0]+'/'+imgs[item],cv2.IMREAD_UNCHANGED).astype(np.float32)\n",
    "                    \n",
    "#crop the images and resize them. Note that the images are of 2 different shape \n",
    "#and the conv3D will throw error if the inputs in a batch have different shapes\n",
    "\n",
    "# Cropping image by 10 % of original size :\n",
    "                    image = crop_img(image, 0.02)\n",
    "    \n",
    "# Resizing the image :    \n",
    "                    if image.shape[1] == 160:\n",
    "                        image = cv2.resize(image[:,20:140,:],(100,100),interpolation = cv2.INTER_AREA).astype(np.float32)\n",
    "                    else:\n",
    "                        image = cv2.resize(image,(100,100),interpolation = cv2.INTER_AREA).astype(np.float32)                    \n",
    "                        \n",
    "#normalise and feed in the image\n",
    "\n",
    "                    batch_data[folder,idx,:,:,0] = (image[:,:,0])/255\n",
    "                    batch_data[folder,idx,:,:,1] = (image[:,:,1])/255\n",
    "                    batch_data[folder,idx,:,:,2] = (image[:,:,2])/255\n",
    "                    \n",
    "                batch_labels[folder, int(t[folder + (batch*batch_size)].strip().split(';')[2])] = 1\n",
    "#you yield the batch_data and the batch_labels, remember what does yield do                \n",
    "            yield batch_data, batch_labels \n",
    "\n",
    "        \n",
    "# write the code for the remaining data points which are left after full batches\n",
    "        if (len(t)%batch_size) != 0:\n",
    "            batch_data = np.zeros((len(t)%batch_size,18,100,100,3))\n",
    "            batch_labels = np.zeros((len(t)%batch_size,5))\n",
    "            for folder in range(len(t)%batch_size):\n",
    "                imgs = os.listdir(source_path+'/'+ t[folder + (num_batches*batch_size)].split(';')[0])\n",
    "                for idx,item in enumerate(img_idx):\n",
    "                    image = cv2.imread(source_path+'/'+ t[folder + (num_batches*batch_size)].strip().split(';')[0]+'/'+imgs[item],cv2.IMREAD_UNCHANGED).astype(np.float32)\n",
    "                    \n",
    "# Cropping image by 10 % of original size :\n",
    "                    image = crop_img(image, 0.02)\n",
    "\n",
    "# Resizing the image :\n",
    "                    if image.shape[1] == 160:\n",
    "                        image = cv2.resize(image[:,20:140,:],(100,100),interpolation = cv2.INTER_AREA).astype(np.float32)\n",
    "                    else:\n",
    "                        image = cv2.resize(image,(100,100),interpolation = cv2.INTER_AREA).astype(np.float32)\n",
    "\n",
    "# Perform normalization on images\n",
    "                    batch_data[folder,idx,:,:,0] = (image[:,:,0])/255\n",
    "                    batch_data[folder,idx,:,:,1] = (image[:,:,1])/255\n",
    "                    batch_data[folder,idx,:,:,2] = (image[:,:,2])/255\n",
    "\n",
    "                batch_labels[folder, int(t[folder + (num_batches*batch_size)].strip().split(';')[2])] = 1\n",
    "\n",
    "            yield batch_data, batch_labels\n"
   ]
  },
  {
   "cell_type": "code",
   "execution_count": 105,
   "metadata": {},
   "outputs": [],
   "source": [
    "modelConv3D_4 = Sequential()\n",
    "\n",
    "modelConv3D_4.add(Conv3D(8, kernel_size=(3,3,3), input_shape=(18,100,100,3),padding='same'))\n",
    "modelConv3D_4.add(BatchNormalization())\n",
    "modelConv3D_4.add(Activation('relu'))\n",
    "\n",
    "modelConv3D_4.add(MaxPooling3D(pool_size=(2,2,2)))\n",
    "modelConv3D_4.add(Conv3D(16,kernel_size=(3,3,3), padding='same'))\n",
    "modelConv3D_4.add(BatchNormalization())\n",
    "modelConv3D_4.add(Activation('relu'))\n",
    "\n",
    "modelConv3D_4.add(MaxPooling3D(pool_size=(2,2,2)))\n",
    "modelConv3D_4.add(Conv3D(32,kernel_size=(1,3,3),padding='same'))\n",
    "modelConv3D_4.add(BatchNormalization())\n",
    "modelConv3D_4.add(Activation('relu'))\n",
    "\n",
    "modelConv3D_4.add(MaxPooling3D(pool_size=(2,2,2)))\n",
    "modelConv3D_4.add(Conv3D(64, kernel_size=(1,3,3), padding='same'))\n",
    "modelConv3D_4.add(Activation('relu'))\n",
    "modelConv3D_4.add(Dropout(0.25))\n",
    "\n",
    "modelConv3D_4.add(MaxPooling3D(pool_size=(2,2,2)))\n",
    "\n",
    "#Flatten Layers\n",
    "modelConv3D_4.add(Flatten())\n",
    "\n",
    "modelConv3D_4.add(Dense(128, activation='relu'))\n",
    "modelConv3D_4.add(Dropout(0.5))\n",
    "\n",
    "modelConv3D_4.add(Dense(64, activation='relu'))\n",
    "modelConv3D_4.add(Dropout(0.25))\n",
    "\n",
    "#softmax layer\n",
    "modelConv3D_4.add(Dense(5, activation='softmax'))"
   ]
  },
  {
   "cell_type": "code",
   "execution_count": 106,
   "metadata": {},
   "outputs": [
    {
     "name": "stdout",
     "output_type": "stream",
     "text": [
      "WARNING:tensorflow:tf.keras.mixed_precision.experimental.LossScaleOptimizer is deprecated. Please use tf.keras.mixed_precision.LossScaleOptimizer instead. Note that the non-experimental LossScaleOptimizer does not take a DynamicLossScale but instead takes the dynamic configuration directly in the constructor. For example:\n",
      "  opt = tf.keras.mixed_precision.LossScaleOptimizer(opt)\n",
      "\n",
      "Model: \"sequential_7\"\n",
      "_________________________________________________________________\n",
      " Layer (type)                Output Shape              Param #   \n",
      "=================================================================\n",
      " conv3d_28 (Conv3D)          (None, 18, 100, 100, 8)   656       \n",
      "                                                                 \n",
      " batch_normalization_39 (Bat  (None, 18, 100, 100, 8)  32        \n",
      " chNormalization)                                                \n",
      "                                                                 \n",
      " activation_28 (Activation)  (None, 18, 100, 100, 8)   0         \n",
      "                                                                 \n",
      " max_pooling3d_28 (MaxPoolin  (None, 9, 50, 50, 8)     0         \n",
      " g3D)                                                            \n",
      "                                                                 \n",
      " conv3d_29 (Conv3D)          (None, 9, 50, 50, 16)     3472      \n",
      "                                                                 \n",
      " batch_normalization_40 (Bat  (None, 9, 50, 50, 16)    64        \n",
      " chNormalization)                                                \n",
      "                                                                 \n",
      " activation_29 (Activation)  (None, 9, 50, 50, 16)     0         \n",
      "                                                                 \n",
      " max_pooling3d_29 (MaxPoolin  (None, 4, 25, 25, 16)    0         \n",
      " g3D)                                                            \n",
      "                                                                 \n",
      " conv3d_30 (Conv3D)          (None, 4, 25, 25, 32)     4640      \n",
      "                                                                 \n",
      " batch_normalization_41 (Bat  (None, 4, 25, 25, 32)    128       \n",
      " chNormalization)                                                \n",
      "                                                                 \n",
      " activation_30 (Activation)  (None, 4, 25, 25, 32)     0         \n",
      "                                                                 \n",
      " max_pooling3d_30 (MaxPoolin  (None, 2, 12, 12, 32)    0         \n",
      " g3D)                                                            \n",
      "                                                                 \n",
      " conv3d_31 (Conv3D)          (None, 2, 12, 12, 64)     18496     \n",
      "                                                                 \n",
      " activation_31 (Activation)  (None, 2, 12, 12, 64)     0         \n",
      "                                                                 \n",
      " dropout_15 (Dropout)        (None, 2, 12, 12, 64)     0         \n",
      "                                                                 \n",
      " max_pooling3d_31 (MaxPoolin  (None, 1, 6, 6, 64)      0         \n",
      " g3D)                                                            \n",
      "                                                                 \n",
      " flatten_7 (Flatten)         (None, 2304)              0         \n",
      "                                                                 \n",
      " dense_21 (Dense)            (None, 128)               295040    \n",
      "                                                                 \n",
      " dropout_16 (Dropout)        (None, 128)               0         \n",
      "                                                                 \n",
      " dense_22 (Dense)            (None, 64)                8256      \n",
      "                                                                 \n",
      " dropout_17 (Dropout)        (None, 64)                0         \n",
      "                                                                 \n",
      " dense_23 (Dense)            (None, 5)                 325       \n",
      "                                                                 \n",
      "=================================================================\n",
      "Total params: 331,109\n",
      "Trainable params: 330,997\n",
      "Non-trainable params: 112\n",
      "_________________________________________________________________\n",
      "None\n"
     ]
    }
   ],
   "source": [
    "import tensorflow as tf\n",
    "from tensorflow.keras import optimizers\n",
    "\n",
    "# Define the Adam optimizer with a fixed learning rate\n",
    "optimiser = optimizers.Adam()  # No decay applied here\n",
    "\n",
    "# Define your model (make sure your modelConv3D_1 is defined before this)\n",
    "modelConv3D_4.compile(optimizer=optimiser, loss='categorical_crossentropy', metrics=['categorical_accuracy'])\n",
    "\n",
    "# Print the model summary\n",
    "print(modelConv3D_4.summary())"
   ]
  },
  {
   "cell_type": "code",
   "execution_count": 107,
   "metadata": {},
   "outputs": [
    {
     "name": "stdout",
     "output_type": "stream",
     "text": [
      "Total Params in model: 331109\n"
     ]
    }
   ],
   "source": [
    "print(\"Total Params in model:\", modelConv3D_4.count_params())"
   ]
  },
  {
   "cell_type": "code",
   "execution_count": 108,
   "metadata": {},
   "outputs": [
    {
     "name": "stdout",
     "output_type": "stream",
     "text": [
      "# training sequences = 663\n",
      "# validation sequences = 100\n"
     ]
    }
   ],
   "source": [
    "curr_dt_time = datetime.datetime.now()\n",
    "train_path = '/home/datasets/Project_data/train'\n",
    "val_path = '/home/datasets/Project_data/val'\n",
    "num_train_sequences = len(train_doc)\n",
    "print('# training sequences =', num_train_sequences)\n",
    "num_val_sequences = len(val_doc)\n",
    "print('# validation sequences =', num_val_sequences)\n",
    "\n",
    "batch_size = 18\n",
    "num_epochs = 25\n",
    "\n",
    "train_generator = generator(train_path, train_doc, batch_size)\n",
    "val_generator = generator(val_path, val_doc, batch_size)"
   ]
  },
  {
   "cell_type": "code",
   "execution_count": 109,
   "metadata": {},
   "outputs": [
    {
     "data": {
      "text/plain": [
       "[<keras.callbacks.ModelCheckpoint at 0x7f63d092a310>,\n",
       " <keras.callbacks.ReduceLROnPlateau at 0x7f63d0e583a0>]"
      ]
     },
     "execution_count": 109,
     "metadata": {},
     "output_type": "execute_result"
    }
   ],
   "source": [
    "# Get the current date and time for model saving\n",
    "curr_dt_time = datetime.datetime.now()\n",
    "\n",
    "# Create model name with current timestamp\n",
    "model_name = 'model_init_' + str(curr_dt_time).replace(' ', '').replace(':', '_') + '/'\n",
    "\n",
    "# Check if the directory exists, and create if not\n",
    "if not os.path.exists(model_name):\n",
    "    os.mkdir(model_name)\n",
    "\n",
    "filepath = model_name + 'model-{epoch:05d}-{loss:.5f}-{categorical_accuracy:.5f}-{val_loss:.5f}-{val_categorical_accuracy:.5f}.h5'\n",
    "\n",
    "# ModelCheckpoint callback\n",
    "checkpoint = ModelCheckpoint(filepath, monitor='val_loss', verbose=1, save_best_only=False, save_weights_only=False, mode='auto', save_freq='epoch')\n",
    "\n",
    "# ReduceLROnPlateau callback\n",
    "LR = ReduceLROnPlateau(monitor='val_loss', factor=0.2, patience=5, min_lr=0.001, verbose=1)\n",
    "\n",
    "# Combine callbacks into a list\n",
    "callbacks_list"
   ]
  },
  {
   "cell_type": "code",
   "execution_count": 110,
   "metadata": {},
   "outputs": [],
   "source": [
    "if (num_train_sequences%batch_size) == 0:\n",
    "    steps_per_epoch = int(num_train_sequences/batch_size)\n",
    "else:\n",
    "    steps_per_epoch = (num_train_sequences//batch_size) + 1\n",
    "\n",
    "if (num_val_sequences%batch_size) == 0:\n",
    "    validation_steps = int(num_val_sequences/batch_size)\n",
    "else:\n",
    "    validation_steps = (num_val_sequences//batch_size) + 1\n",
    "    "
   ]
  },
  {
   "cell_type": "code",
   "execution_count": 111,
   "metadata": {},
   "outputs": [
    {
     "name": "stdout",
     "output_type": "stream",
     "text": [
      "Source path =  /home/datasets/Project_data/train ; batch size = 18\n",
      "Epoch 1/25\n",
      "37/37 [==============================] - ETA: 0s - loss: 1.8493 - categorical_accuracy: 0.2398Source path =  /home/datasets/Project_data/val ; batch size = 18\n",
      "\n",
      "Epoch 00001: saving model to model_init_2024-11-0606_03_42.713072/model-00001-1.84933-0.23982-1.60785-0.25000.h5\n",
      "37/37 [==============================] - 28s 735ms/step - loss: 1.8493 - categorical_accuracy: 0.2398 - val_loss: 1.6079 - val_categorical_accuracy: 0.2500 - lr: 0.0010\n",
      "Epoch 2/25\n",
      "37/37 [==============================] - ETA: 0s - loss: 1.5779 - categorical_accuracy: 0.2790\n",
      "Epoch 00002: saving model to model_init_2024-11-0606_03_42.713072/model-00002-1.57788-0.27903-1.60801-0.26000.h5\n",
      "37/37 [==============================] - 26s 707ms/step - loss: 1.5779 - categorical_accuracy: 0.2790 - val_loss: 1.6080 - val_categorical_accuracy: 0.2600 - lr: 0.0010\n",
      "Epoch 3/25\n",
      "37/37 [==============================] - ETA: 0s - loss: 1.5654 - categorical_accuracy: 0.2579\n",
      "Epoch 00003: saving model to model_init_2024-11-0606_03_42.713072/model-00003-1.56536-0.25792-1.60287-0.21000.h5\n",
      "37/37 [==============================] - 26s 715ms/step - loss: 1.5654 - categorical_accuracy: 0.2579 - val_loss: 1.6029 - val_categorical_accuracy: 0.2100 - lr: 0.0010\n",
      "Epoch 4/25\n",
      "37/37 [==============================] - ETA: 0s - loss: 1.5403 - categorical_accuracy: 0.3303\n",
      "Epoch 00004: saving model to model_init_2024-11-0606_03_42.713072/model-00004-1.54032-0.33032-1.60369-0.30000.h5\n",
      "37/37 [==============================] - 26s 727ms/step - loss: 1.5403 - categorical_accuracy: 0.3303 - val_loss: 1.6037 - val_categorical_accuracy: 0.3000 - lr: 0.0010\n",
      "Epoch 5/25\n",
      "37/37 [==============================] - ETA: 0s - loss: 1.5674 - categorical_accuracy: 0.2700\n",
      "Epoch 00005: saving model to model_init_2024-11-0606_03_42.713072/model-00005-1.56741-0.26998-1.61092-0.24000.h5\n",
      "37/37 [==============================] - 26s 727ms/step - loss: 1.5674 - categorical_accuracy: 0.2700 - val_loss: 1.6109 - val_categorical_accuracy: 0.2400 - lr: 0.0010\n",
      "Epoch 6/25\n",
      "37/37 [==============================] - ETA: 0s - loss: 1.5539 - categorical_accuracy: 0.3062\n",
      "Epoch 00006: saving model to model_init_2024-11-0606_03_42.713072/model-00006-1.55388-0.30618-1.59572-0.32000.h5\n",
      "37/37 [==============================] - 27s 736ms/step - loss: 1.5539 - categorical_accuracy: 0.3062 - val_loss: 1.5957 - val_categorical_accuracy: 0.3200 - lr: 0.0010\n",
      "Epoch 7/25\n",
      "37/37 [==============================] - ETA: 0s - loss: 1.5550 - categorical_accuracy: 0.2896\n",
      "Epoch 00007: saving model to model_init_2024-11-0606_03_42.713072/model-00007-1.55502-0.28959-1.56416-0.27000.h5\n",
      "37/37 [==============================] - 26s 725ms/step - loss: 1.5550 - categorical_accuracy: 0.2896 - val_loss: 1.5642 - val_categorical_accuracy: 0.2700 - lr: 0.0010\n",
      "Epoch 8/25\n",
      "37/37 [==============================] - ETA: 0s - loss: 1.5297 - categorical_accuracy: 0.3228\n",
      "Epoch 00008: saving model to model_init_2024-11-0606_03_42.713072/model-00008-1.52967-0.32278-1.58480-0.25000.h5\n",
      "37/37 [==============================] - 26s 714ms/step - loss: 1.5297 - categorical_accuracy: 0.3228 - val_loss: 1.5848 - val_categorical_accuracy: 0.2500 - lr: 0.0010\n",
      "Epoch 9/25\n",
      "37/37 [==============================] - ETA: 0s - loss: 1.5074 - categorical_accuracy: 0.3107\n",
      "Epoch 00009: saving model to model_init_2024-11-0606_03_42.713072/model-00009-1.50741-0.31071-1.45049-0.36000.h5\n",
      "37/37 [==============================] - 26s 722ms/step - loss: 1.5074 - categorical_accuracy: 0.3107 - val_loss: 1.4505 - val_categorical_accuracy: 0.3600 - lr: 0.0010\n",
      "Epoch 10/25\n",
      "37/37 [==============================] - ETA: 0s - loss: 1.4925 - categorical_accuracy: 0.3348\n",
      "Epoch 00010: saving model to model_init_2024-11-0606_03_42.713072/model-00010-1.49246-0.33484-1.44395-0.36000.h5\n",
      "37/37 [==============================] - 25s 704ms/step - loss: 1.4925 - categorical_accuracy: 0.3348 - val_loss: 1.4439 - val_categorical_accuracy: 0.3600 - lr: 0.0010\n",
      "Epoch 11/25\n",
      "37/37 [==============================] - ETA: 0s - loss: 1.4607 - categorical_accuracy: 0.3695\n",
      "Epoch 00011: saving model to model_init_2024-11-0606_03_42.713072/model-00011-1.46072-0.36953-1.40863-0.40000.h5\n",
      "37/37 [==============================] - 26s 717ms/step - loss: 1.4607 - categorical_accuracy: 0.3695 - val_loss: 1.4086 - val_categorical_accuracy: 0.4000 - lr: 0.0010\n",
      "Epoch 12/25\n",
      "37/37 [==============================] - ETA: 0s - loss: 1.4902 - categorical_accuracy: 0.3409\n",
      "Epoch 00012: saving model to model_init_2024-11-0606_03_42.713072/model-00012-1.49019-0.34087-1.41736-0.34000.h5\n",
      "37/37 [==============================] - 26s 714ms/step - loss: 1.4902 - categorical_accuracy: 0.3409 - val_loss: 1.4174 - val_categorical_accuracy: 0.3400 - lr: 0.0010\n",
      "Epoch 13/25\n",
      "37/37 [==============================] - ETA: 0s - loss: 1.4700 - categorical_accuracy: 0.3605\n",
      "Epoch 00013: saving model to model_init_2024-11-0606_03_42.713072/model-00013-1.46998-0.36048-1.44221-0.29000.h5\n",
      "37/37 [==============================] - 26s 723ms/step - loss: 1.4700 - categorical_accuracy: 0.3605 - val_loss: 1.4422 - val_categorical_accuracy: 0.2900 - lr: 0.0010\n",
      "Epoch 14/25\n",
      "37/37 [==============================] - ETA: 0s - loss: 1.4730 - categorical_accuracy: 0.3756\n",
      "Epoch 00014: saving model to model_init_2024-11-0606_03_42.713072/model-00014-1.47300-0.37557-1.46084-0.34000.h5\n",
      "37/37 [==============================] - 26s 711ms/step - loss: 1.4730 - categorical_accuracy: 0.3756 - val_loss: 1.4608 - val_categorical_accuracy: 0.3400 - lr: 0.0010\n",
      "Epoch 15/25\n",
      "37/37 [==============================] - ETA: 0s - loss: 1.4318 - categorical_accuracy: 0.3831\n",
      "Epoch 00015: saving model to model_init_2024-11-0606_03_42.713072/model-00015-1.43183-0.38311-1.48557-0.35000.h5\n",
      "37/37 [==============================] - 27s 742ms/step - loss: 1.4318 - categorical_accuracy: 0.3831 - val_loss: 1.4856 - val_categorical_accuracy: 0.3500 - lr: 0.0010\n",
      "Epoch 16/25\n",
      "37/37 [==============================] - ETA: 0s - loss: 1.4325 - categorical_accuracy: 0.3967\n",
      "Epoch 00016: saving model to model_init_2024-11-0606_03_42.713072/model-00016-1.43246-0.39668-1.50350-0.36000.h5\n",
      "37/37 [==============================] - 27s 750ms/step - loss: 1.4325 - categorical_accuracy: 0.3967 - val_loss: 1.5035 - val_categorical_accuracy: 0.3600 - lr: 0.0010\n",
      "Epoch 17/25\n",
      "37/37 [==============================] - ETA: 0s - loss: 1.4188 - categorical_accuracy: 0.3982\n",
      "Epoch 00017: saving model to model_init_2024-11-0606_03_42.713072/model-00017-1.41882-0.39819-1.50537-0.31000.h5\n",
      "37/37 [==============================] - 26s 734ms/step - loss: 1.4188 - categorical_accuracy: 0.3982 - val_loss: 1.5054 - val_categorical_accuracy: 0.3100 - lr: 0.0010\n",
      "Epoch 18/25\n",
      "37/37 [==============================] - ETA: 0s - loss: 1.4009 - categorical_accuracy: 0.4072\n",
      "Epoch 00018: saving model to model_init_2024-11-0606_03_42.713072/model-00018-1.40085-0.40724-1.38896-0.38000.h5\n",
      "37/37 [==============================] - 26s 723ms/step - loss: 1.4009 - categorical_accuracy: 0.4072 - val_loss: 1.3890 - val_categorical_accuracy: 0.3800 - lr: 0.0010\n",
      "Epoch 19/25\n",
      "37/37 [==============================] - ETA: 0s - loss: 1.4108 - categorical_accuracy: 0.4042\n",
      "Epoch 00019: saving model to model_init_2024-11-0606_03_42.713072/model-00019-1.41083-0.40422-1.52402-0.32000.h5\n",
      "37/37 [==============================] - 26s 731ms/step - loss: 1.4108 - categorical_accuracy: 0.4042 - val_loss: 1.5240 - val_categorical_accuracy: 0.3200 - lr: 0.0010\n",
      "Epoch 20/25\n",
      "37/37 [==============================] - ETA: 0s - loss: 1.4048 - categorical_accuracy: 0.3861\n",
      "Epoch 00020: saving model to model_init_2024-11-0606_03_42.713072/model-00020-1.40480-0.38612-1.36664-0.40000.h5\n",
      "37/37 [==============================] - 27s 737ms/step - loss: 1.4048 - categorical_accuracy: 0.3861 - val_loss: 1.3666 - val_categorical_accuracy: 0.4000 - lr: 0.0010\n",
      "Epoch 21/25\n",
      "37/37 [==============================] - ETA: 0s - loss: 1.3954 - categorical_accuracy: 0.3997\n",
      "Epoch 00021: saving model to model_init_2024-11-0606_03_42.713072/model-00021-1.39542-0.39970-1.47391-0.36000.h5\n",
      "37/37 [==============================] - 26s 729ms/step - loss: 1.3954 - categorical_accuracy: 0.3997 - val_loss: 1.4739 - val_categorical_accuracy: 0.3600 - lr: 0.0010\n",
      "Epoch 22/25\n",
      "37/37 [==============================] - ETA: 0s - loss: 1.3593 - categorical_accuracy: 0.4103\n",
      "Epoch 00022: saving model to model_init_2024-11-0606_03_42.713072/model-00022-1.35932-0.41026-1.34340-0.46000.h5\n",
      "37/37 [==============================] - 26s 729ms/step - loss: 1.3593 - categorical_accuracy: 0.4103 - val_loss: 1.3434 - val_categorical_accuracy: 0.4600 - lr: 0.0010\n",
      "Epoch 23/25\n",
      "37/37 [==============================] - ETA: 0s - loss: 1.3428 - categorical_accuracy: 0.4600\n",
      "Epoch 00023: saving model to model_init_2024-11-0606_03_42.713072/model-00023-1.34280-0.46003-1.45371-0.37000.h5\n",
      "37/37 [==============================] - 27s 737ms/step - loss: 1.3428 - categorical_accuracy: 0.4600 - val_loss: 1.4537 - val_categorical_accuracy: 0.3700 - lr: 0.0010\n",
      "Epoch 24/25\n",
      "37/37 [==============================] - ETA: 0s - loss: 1.3599 - categorical_accuracy: 0.4103\n",
      "Epoch 00024: saving model to model_init_2024-11-0606_03_42.713072/model-00024-1.35993-0.41026-1.45172-0.36000.h5\n",
      "37/37 [==============================] - 26s 720ms/step - loss: 1.3599 - categorical_accuracy: 0.4103 - val_loss: 1.4517 - val_categorical_accuracy: 0.3600 - lr: 0.0010\n",
      "Epoch 25/25\n",
      "37/37 [==============================] - ETA: 0s - loss: 1.3255 - categorical_accuracy: 0.4449\n",
      "Epoch 00025: saving model to model_init_2024-11-0606_03_42.713072/model-00025-1.32547-0.44495-1.34783-0.44000.h5\n",
      "37/37 [==============================] - 27s 740ms/step - loss: 1.3255 - categorical_accuracy: 0.4449 - val_loss: 1.3478 - val_categorical_accuracy: 0.4400 - lr: 0.0010\n"
     ]
    }
   ],
   "source": [
    "# Model Fit\n",
    "\n",
    "history = modelConv3D_4.fit(train_generator, steps_per_epoch=steps_per_epoch, epochs=num_epochs, verbose=1, \n",
    "                    callbacks=callbacks_list, validation_data=val_generator, \n",
    "                    validation_steps=validation_steps, class_weight=None,\n",
    "                    workers=1, initial_epoch=0)"
   ]
  },
  {
   "cell_type": "code",
   "execution_count": 112,
   "metadata": {},
   "outputs": [
    {
     "data": {
      "image/png": "[encoded data removed]",
      "text/plain": [
       "<Figure size 432x288 with 1 Axes>"
      ]
     },
     "metadata": {
      "needs_background": "light"
     },
     "output_type": "display_data"
    },
    {
     "data": {
      "image/png": "[encoded data removed]",
      "text/plain": [
       "<Figure size 432x288 with 1 Axes>"
      ]
     },
     "metadata": {
      "needs_background": "light"
     },
     "output_type": "display_data"
    }
   ],
   "source": [
    "# Plotting the result of Model 4 :\n",
    "\n",
    "# summarize history for accuracy\n",
    "plt.plot(history.history['categorical_accuracy'])\n",
    "plt.plot(history.history['val_categorical_accuracy'])\n",
    "plt.title('model accuracy')\n",
    "plt.ylabel('accuracy')\n",
    "plt.xlabel('epoch')\n",
    "plt.legend(['train', 'test'], loc='upper left')\n",
    "plt.show()\n",
    "\n",
    "# summarize history for loss\n",
    "plt.plot(history.history['loss'])\n",
    "plt.plot(history.history['val_loss'])\n",
    "plt.title('model loss')\n",
    "plt.ylabel('loss')\n",
    "plt.xlabel('epoch')\n",
    "plt.legend(['train', 'test'], loc='upper left')\n",
    "plt.show()"
   ]
  },
  {
   "cell_type": "code",
   "execution_count": 113,
   "metadata": {},
   "outputs": [],
   "source": [
    "# Training Accuracy  44%, Validation Accuracy 44%"
   ]
  },
  {
   "cell_type": "markdown",
   "metadata": {},
   "source": [
    "### Model 5 : Conv 3D model\n",
    "\n",
    "#### Current Model inputs: \n",
    "- batch size 16, increased image inputs to 30 , image size reduced to 84"
   ]
  },
  {
   "cell_type": "code",
   "execution_count": 125,
   "metadata": {},
   "outputs": [],
   "source": [
    "batch_size = 16"
   ]
  },
  {
   "cell_type": "code",
   "execution_count": 126,
   "metadata": {},
   "outputs": [],
   "source": [
    "def generator(source_path, folder_list, batch_size):\n",
    "    print( 'Source path = ', source_path, '; batch size =', batch_size)\n",
    "    \n",
    "    #create a list of image numbers you want to use for a particular video\n",
    "    img_idx = [x for x in range(0, 30)] \n",
    "    #list(range(0,29,2))\n",
    "    \n",
    "    while True:\n",
    "        t = np.random.permutation(folder_list)\n",
    "        \n",
    "# calculate the number of batches\n",
    "        num_batches = int(len(t)/batch_size)\n",
    "        \n",
    "# we iterate over the number of batches\n",
    "        for batch in range(num_batches): \n",
    "            \n",
    "# x is the number of images you use for each video, (y,z) is the final size of the input images and 3 is the number of channels RGB          \n",
    "            batch_data = np.zeros((batch_size,30,84,84,3))\n",
    "# batch_labels is the one hot representation of the output\n",
    "            batch_labels = np.zeros((batch_size,5))\n",
    "\n",
    "# iterate over the batch_size    \n",
    "            for folder in range(batch_size): \n",
    "# read all the images in the folder        \n",
    "                imgs = os.listdir(source_path+'/'+ t[folder + (batch*batch_size)].split(';')[0]) \n",
    "#  Iterate over the frames/images of a folder to read them in    \n",
    "                for idx,item in enumerate(img_idx):\n",
    "                    image = cv2.imread(source_path+'/'+ t[folder + (batch*batch_size)].strip().split(';')[0]+'/'+imgs[item],cv2.IMREAD_UNCHANGED).astype(np.float32)\n",
    "                    \n",
    "#crop the images and resize them. Note that the images are of 2 different shape \n",
    "#and the conv3D will throw error if the inputs in a batch have different shapes\n",
    "                    if image.shape[1] == 160:\n",
    "                        image = cv2.resize(image[:,20:140,:],(84,84),interpolation = cv2.INTER_AREA).astype(np.float32)\n",
    "                    else:\n",
    "                        image = cv2.resize(image,(84,84),interpolation = cv2.INTER_AREA).astype(np.float32)\n",
    "                                \n",
    "#normalise and feed in the image\n",
    "\n",
    "                    batch_data[folder,idx,:,:,0] = (image[:,:,0])/255\n",
    "                    batch_data[folder,idx,:,:,1] = (image[:,:,1])/255\n",
    "                    batch_data[folder,idx,:,:,2] = (image[:,:,2])/255\n",
    "                    \n",
    "                batch_labels[folder, int(t[folder + (batch*batch_size)].strip().split(';')[2])] = 1\n",
    "#you yield the batch_data and the batch_labels, remember what does yield do                \n",
    "            yield batch_data, batch_labels \n",
    "\n",
    "        \n",
    "# write the code for the remaining data points which are left after full batches\n",
    "        if (len(t)%batch_size) != 0:\n",
    "            batch_data = np.zeros((len(t)%batch_size,30,84,84,3))\n",
    "            batch_labels = np.zeros((len(t)%batch_size,5))\n",
    "            for folder in range(len(t)%batch_size):\n",
    "                imgs = os.listdir(source_path+'/'+ t[folder + (num_batches*batch_size)].split(';')[0])\n",
    "                for idx,item in enumerate(img_idx):\n",
    "                    image = cv2.imread(source_path+'/'+ t[folder + (num_batches*batch_size)].strip().split(';')[0]+'/'+imgs[item],cv2.IMREAD_UNCHANGED).astype(np.float32)\n",
    "                    if image.shape[1] == 160:\n",
    "                        image = cv2.resize(image[:,20:140,:],(84,84),interpolation = cv2.INTER_AREA).astype(np.float32)\n",
    "                    else:\n",
    "                        image = cv2.resize(image,(84,84),interpolation = cv2.INTER_AREA).astype(np.float32)\n",
    "\n",
    "                    batch_data[folder,idx,:,:,0] = (image[:,:,0])/255\n",
    "                    batch_data[folder,idx,:,:,1] = (image[:,:,1])/255\n",
    "                    batch_data[folder,idx,:,:,2] = (image[:,:,2])/255\n",
    "\n",
    "                batch_labels[folder, int(t[folder + (num_batches*batch_size)].strip().split(';')[2])] = 1\n",
    "\n",
    "            yield batch_data, batch_labels"
   ]
  },
  {
   "cell_type": "code",
   "execution_count": 127,
   "metadata": {},
   "outputs": [
    {
     "name": "stdout",
     "output_type": "stream",
     "text": [
      "# training sequences = 663\n",
      "# validation sequences = 100\n",
      "# epochs = 22\n"
     ]
    }
   ],
   "source": [
    "curr_dt_time = datetime.datetime.now()\n",
    "train_path = '/home/datasets/Project_data/train'\n",
    "val_path = '/home/datasets/Project_data/val'\n",
    "num_train_sequences = len(train_doc)\n",
    "print('# training sequences =', num_train_sequences)\n",
    "num_val_sequences = len(val_doc)\n",
    "print('# validation sequences =', num_val_sequences)\n",
    "# choose the number of epochs\n",
    "num_epochs = 22\n",
    "print ('# epochs =', num_epochs)"
   ]
  },
  {
   "cell_type": "code",
   "execution_count": 128,
   "metadata": {},
   "outputs": [],
   "source": [
    "#write your model here\n",
    "\n",
    "from tensorflow.keras.regularizers import l2\n",
    "\n",
    "# Model Definition\n",
    "modelConv3D_5 = Sequential()\n",
    "\n",
    "# First Conv3D Layer with L2 regularization\n",
    "modelConv3D_5.add(Conv3D(8, (3,3,3), padding='same', input_shape=(30,84,84,3), kernel_regularizer=l2(0.01)))\n",
    "modelConv3D_5.add(Activation('relu'))\n",
    "modelConv3D_5.add(BatchNormalization())\n",
    "modelConv3D_5.add(MaxPooling3D(pool_size=(2,2,2)))\n",
    "\n",
    "# Second Conv3D Layer with L2 regularization\n",
    "modelConv3D_5.add(Conv3D(16, (3,3,3), padding='same', kernel_regularizer=l2(0.01)))\n",
    "modelConv3D_5.add(Activation('relu'))\n",
    "modelConv3D_5.add(BatchNormalization())\n",
    "modelConv3D_5.add(MaxPooling3D(pool_size=(2,2,2)))\n",
    "\n",
    "# Third Conv3D Layer with L2 regularization\n",
    "modelConv3D_5.add(Conv3D(32, (3,3,3), padding='same', kernel_regularizer=l2(0.01)))\n",
    "modelConv3D_5.add(BatchNormalization())\n",
    "modelConv3D_5.add(Activation('relu'))\n",
    "modelConv3D_5.add(MaxPooling3D(pool_size=(2,2,2)))\n",
    "\n",
    "# Fourth Conv3D Layer with L2 regularization\n",
    "modelConv3D_5.add(Conv3D(64, (3,3,3), padding='same', kernel_regularizer=l2(0.01)))\n",
    "modelConv3D_5.add(Activation('relu'))\n",
    "modelConv3D_5.add(BatchNormalization())\n",
    "modelConv3D_5.add(MaxPooling3D(pool_size=(2,2,2)))\n",
    "\n",
    "# Flatten and Dense layers with increased dropout\n",
    "modelConv3D_5.add(Flatten())\n",
    "modelConv3D_5.add(Dense(64, activation='relu', kernel_regularizer=l2(0.01)))\n",
    "modelConv3D_5.add(BatchNormalization())\n",
    "modelConv3D_5.add(Dropout(0.4))\n",
    "\n",
    "modelConv3D_5.add(Dense(64, activation='relu', kernel_regularizer=l2(0.01)))\n",
    "modelConv3D_5.add(BatchNormalization())\n",
    "modelConv3D_5.add(Dropout(0.4))\n",
    "\n",
    "# Output Layer\n",
    "modelConv3D_5.add(Dense(5, activation='softmax'))"
   ]
  },
  {
   "cell_type": "code",
   "execution_count": 129,
   "metadata": {},
   "outputs": [
    {
     "name": "stdout",
     "output_type": "stream",
     "text": [
      "WARNING:tensorflow:tf.keras.mixed_precision.experimental.LossScaleOptimizer is deprecated. Please use tf.keras.mixed_precision.LossScaleOptimizer instead. Note that the non-experimental LossScaleOptimizer does not take a DynamicLossScale but instead takes the dynamic configuration directly in the constructor. For example:\n",
      "  opt = tf.keras.mixed_precision.LossScaleOptimizer(opt)\n",
      "\n",
      "Model: \"sequential_9\"\n",
      "_________________________________________________________________\n",
      " Layer (type)                Output Shape              Param #   \n",
      "=================================================================\n",
      " conv3d_36 (Conv3D)          (None, 30, 84, 84, 8)     656       \n",
      "                                                                 \n",
      " activation_36 (Activation)  (None, 30, 84, 84, 8)     0         \n",
      "                                                                 \n",
      " batch_normalization_48 (Bat  (None, 30, 84, 84, 8)    32        \n",
      " chNormalization)                                                \n",
      "                                                                 \n",
      " max_pooling3d_36 (MaxPoolin  (None, 15, 42, 42, 8)    0         \n",
      " g3D)                                                            \n",
      "                                                                 \n",
      " conv3d_37 (Conv3D)          (None, 15, 42, 42, 16)    3472      \n",
      "                                                                 \n",
      " activation_37 (Activation)  (None, 15, 42, 42, 16)    0         \n",
      "                                                                 \n",
      " batch_normalization_49 (Bat  (None, 15, 42, 42, 16)   64        \n",
      " chNormalization)                                                \n",
      "                                                                 \n",
      " max_pooling3d_37 (MaxPoolin  (None, 7, 21, 21, 16)    0         \n",
      " g3D)                                                            \n",
      "                                                                 \n",
      " conv3d_38 (Conv3D)          (None, 7, 21, 21, 32)     13856     \n",
      "                                                                 \n",
      " batch_normalization_50 (Bat  (None, 7, 21, 21, 32)    128       \n",
      " chNormalization)                                                \n",
      "                                                                 \n",
      " activation_38 (Activation)  (None, 7, 21, 21, 32)     0         \n",
      "                                                                 \n",
      " max_pooling3d_38 (MaxPoolin  (None, 3, 10, 10, 32)    0         \n",
      " g3D)                                                            \n",
      "                                                                 \n",
      " conv3d_39 (Conv3D)          (None, 3, 10, 10, 64)     55360     \n",
      "                                                                 \n",
      " activation_39 (Activation)  (None, 3, 10, 10, 64)     0         \n",
      "                                                                 \n",
      " batch_normalization_51 (Bat  (None, 3, 10, 10, 64)    256       \n",
      " chNormalization)                                                \n",
      "                                                                 \n",
      " max_pooling3d_39 (MaxPoolin  (None, 1, 5, 5, 64)      0         \n",
      " g3D)                                                            \n",
      "                                                                 \n",
      " flatten_9 (Flatten)         (None, 1600)              0         \n",
      "                                                                 \n",
      " dense_27 (Dense)            (None, 64)                102464    \n",
      "                                                                 \n",
      " batch_normalization_52 (Bat  (None, 64)               256       \n",
      " chNormalization)                                                \n",
      "                                                                 \n",
      " dropout_20 (Dropout)        (None, 64)                0         \n",
      "                                                                 \n",
      " dense_28 (Dense)            (None, 64)                4160      \n",
      "                                                                 \n",
      " batch_normalization_53 (Bat  (None, 64)               256       \n",
      " chNormalization)                                                \n",
      "                                                                 \n",
      " dropout_21 (Dropout)        (None, 64)                0         \n",
      "                                                                 \n",
      " dense_29 (Dense)            (None, 5)                 325       \n",
      "                                                                 \n",
      "=================================================================\n",
      "Total params: 181,285\n",
      "Trainable params: 180,789\n",
      "Non-trainable params: 496\n",
      "_________________________________________________________________\n",
      "None\n"
     ]
    }
   ],
   "source": [
    "import tensorflow as tf\n",
    "from tensorflow.keras import optimizers\n",
    "\n",
    "# Define the Adam optimizer with a fixed learning rate\n",
    "optimiser = optimizers.Adam(learning_rate=0.0001)  # No decay applied here\n",
    "\n",
    "# Define your model (make sure your modelConv3D_1 is defined before this)\n",
    "modelConv3D_5.compile(optimizer=optimiser, loss='categorical_crossentropy', metrics=['categorical_accuracy'])\n",
    "\n",
    "# Print the model summary\n",
    "print(modelConv3D_5.summary())\n"
   ]
  },
  {
   "cell_type": "code",
   "execution_count": 130,
   "metadata": {},
   "outputs": [
    {
     "name": "stdout",
     "output_type": "stream",
     "text": [
      "Total Params in model: 181285\n"
     ]
    }
   ],
   "source": [
    "print(\"Total Params in model:\", modelConv3D_5.count_params())"
   ]
  },
  {
   "cell_type": "code",
   "execution_count": 131,
   "metadata": {},
   "outputs": [],
   "source": [
    "train_generator = generator(train_path, train_doc, batch_size)\n",
    "val_generator = generator(val_path, val_doc, batch_size)"
   ]
  },
  {
   "cell_type": "code",
   "execution_count": 132,
   "metadata": {},
   "outputs": [
    {
     "data": {
      "text/plain": [
       "[<keras.callbacks.ModelCheckpoint at 0x7f63d092a310>,\n",
       " <keras.callbacks.ReduceLROnPlateau at 0x7f63d0e583a0>]"
      ]
     },
     "execution_count": 132,
     "metadata": {},
     "output_type": "execute_result"
    }
   ],
   "source": [
    "# Get the current date and time for model saving\n",
    "curr_dt_time = datetime.datetime.now()\n",
    "\n",
    "# Create model name with current timestamp\n",
    "model_name = 'model_init_' + str(curr_dt_time).replace(' ', '').replace(':', '_') + '/'\n",
    "\n",
    "# Check if the directory exists, and create if not\n",
    "if not os.path.exists(model_name):\n",
    "    os.mkdir(model_name)\n",
    "\n",
    "filepath = model_name + 'model-{epoch:05d}-{loss:.5f}-{categorical_accuracy:.5f}-{val_loss:.5f}-{val_categorical_accuracy:.5f}.h5'\n",
    "\n",
    "# ModelCheckpoint callback\n",
    "checkpoint = ModelCheckpoint(filepath, monitor='val_loss', verbose=1, save_best_only=False, save_weights_only=False, mode='auto', save_freq='epoch')\n",
    "\n",
    "# ReduceLROnPlateau callback\n",
    "LR = ReduceLROnPlateau(monitor='val_loss', factor=0.2, patience=5, min_lr=0.001, verbose=1)\n",
    "\n",
    "# Combine callbacks into a list\n",
    "callbacks_list"
   ]
  },
  {
   "cell_type": "code",
   "execution_count": 133,
   "metadata": {},
   "outputs": [],
   "source": [
    "if (num_train_sequences%batch_size) == 0:\n",
    "    steps_per_epoch = int(num_train_sequences/batch_size)\n",
    "else:\n",
    "    steps_per_epoch = (num_train_sequences//batch_size) + 1\n",
    "\n",
    "if (num_val_sequences%batch_size) == 0:\n",
    "    validation_steps = int(num_val_sequences/batch_size)\n",
    "else:\n",
    "    validation_steps = (num_val_sequences//batch_size) + 1"
   ]
  },
  {
   "cell_type": "code",
   "execution_count": 134,
   "metadata": {},
   "outputs": [
    {
     "name": "stdout",
     "output_type": "stream",
     "text": [
      "Source path =  /home/datasets/Project_data/train ; batch size = 16\n",
      "Epoch 1/22\n",
      "42/42 [==============================] - ETA: 0s - loss: 5.1850 - categorical_accuracy: 0.1719Source path =  /home/datasets/Project_data/val ; batch size = 16\n",
      "\n",
      "Epoch 00001: saving model to model_init_2024-11-0606_03_42.713072/model-00001-5.18504-0.17195-4.25932-0.23000.h5\n",
      "42/42 [==============================] - 50s 1s/step - loss: 5.1850 - categorical_accuracy: 0.1719 - val_loss: 4.2593 - val_categorical_accuracy: 0.2300 - lr: 1.0000e-04\n",
      "Epoch 2/22\n",
      "42/42 [==============================] - ETA: 0s - loss: 4.7841 - categorical_accuracy: 0.2594\n",
      "Epoch 00002: saving model to model_init_2024-11-0606_03_42.713072/model-00002-4.78407-0.25943-4.29935-0.23000.h5\n",
      "42/42 [==============================] - 47s 1s/step - loss: 4.7841 - categorical_accuracy: 0.2594 - val_loss: 4.2994 - val_categorical_accuracy: 0.2300 - lr: 1.0000e-04\n",
      "Epoch 3/22\n",
      "42/42 [==============================] - ETA: 0s - loss: 4.5809 - categorical_accuracy: 0.3318\n",
      "Epoch 00003: saving model to model_init_2024-11-0606_03_42.713072/model-00003-4.58089-0.33183-4.50713-0.22000.h5\n",
      "42/42 [==============================] - 47s 1s/step - loss: 4.5809 - categorical_accuracy: 0.3318 - val_loss: 4.5071 - val_categorical_accuracy: 0.2200 - lr: 1.0000e-04\n",
      "Epoch 4/22\n",
      "42/42 [==============================] - ETA: 0s - loss: 4.4090 - categorical_accuracy: 0.3454\n",
      "Epoch 00004: saving model to model_init_2024-11-0606_03_42.713072/model-00004-4.40895-0.34540-4.80687-0.18000.h5\n",
      "42/42 [==============================] - 46s 1s/step - loss: 4.4090 - categorical_accuracy: 0.3454 - val_loss: 4.8069 - val_categorical_accuracy: 0.1800 - lr: 1.0000e-04\n",
      "Epoch 5/22\n",
      "42/42 [==============================] - ETA: 0s - loss: 4.2832 - categorical_accuracy: 0.3967\n",
      "Epoch 00005: saving model to model_init_2024-11-0606_03_42.713072/model-00005-4.28318-0.39668-5.13912-0.17000.h5\n",
      "42/42 [==============================] - 47s 1s/step - loss: 4.2832 - categorical_accuracy: 0.3967 - val_loss: 5.1391 - val_categorical_accuracy: 0.1700 - lr: 1.0000e-04\n",
      "Epoch 6/22\n",
      "42/42 [==============================] - ETA: 0s - loss: 4.1859 - categorical_accuracy: 0.4148\n",
      "Epoch 00006: saving model to model_init_2024-11-0606_03_42.713072/model-00006-4.18590-0.41478-5.16462-0.17000.h5\n",
      "42/42 [==============================] - 47s 1s/step - loss: 4.1859 - categorical_accuracy: 0.4148 - val_loss: 5.1646 - val_categorical_accuracy: 0.1700 - lr: 1.0000e-04\n",
      "Epoch 7/22\n",
      "42/42 [==============================] - ETA: 0s - loss: 4.1306 - categorical_accuracy: 0.4193\n",
      "Epoch 00007: saving model to model_init_2024-11-0606_03_42.713072/model-00007-4.13060-0.41931-5.56029-0.18000.h5\n",
      "42/42 [==============================] - 47s 1s/step - loss: 4.1306 - categorical_accuracy: 0.4193 - val_loss: 5.5603 - val_categorical_accuracy: 0.1800 - lr: 1.0000e-04\n",
      "Epoch 8/22\n",
      "42/42 [==============================] - ETA: 0s - loss: 4.0563 - categorical_accuracy: 0.4344\n",
      "Epoch 00008: saving model to model_init_2024-11-0606_03_42.713072/model-00008-4.05635-0.43439-5.55498-0.16000.h5\n",
      "42/42 [==============================] - 48s 1s/step - loss: 4.0563 - categorical_accuracy: 0.4344 - val_loss: 5.5550 - val_categorical_accuracy: 0.1600 - lr: 1.0000e-04\n",
      "Epoch 9/22\n",
      "42/42 [==============================] - ETA: 0s - loss: 4.0327 - categorical_accuracy: 0.4676\n",
      "Epoch 00009: saving model to model_init_2024-11-0606_03_42.713072/model-00009-4.03270-0.46757-5.30232-0.18000.h5\n",
      "42/42 [==============================] - 47s 1s/step - loss: 4.0327 - categorical_accuracy: 0.4676 - val_loss: 5.3023 - val_categorical_accuracy: 0.1800 - lr: 1.0000e-04\n",
      "Epoch 10/22\n",
      "42/42 [==============================] - ETA: 0s - loss: 3.8847 - categorical_accuracy: 0.5234\n",
      "Epoch 00010: saving model to model_init_2024-11-0606_03_42.713072/model-00010-3.88473-0.52338-4.90805-0.17000.h5\n",
      "42/42 [==============================] - 46s 1s/step - loss: 3.8847 - categorical_accuracy: 0.5234 - val_loss: 4.9081 - val_categorical_accuracy: 0.1700 - lr: 1.0000e-04\n",
      "Epoch 11/22\n",
      "42/42 [==============================] - ETA: 0s - loss: 3.7869 - categorical_accuracy: 0.5430\n",
      "Epoch 00011: saving model to model_init_2024-11-0606_03_42.713072/model-00011-3.78692-0.54299-4.68152-0.23000.h5\n",
      "42/42 [==============================] - 48s 1s/step - loss: 3.7869 - categorical_accuracy: 0.5430 - val_loss: 4.6815 - val_categorical_accuracy: 0.2300 - lr: 1.0000e-04\n",
      "Epoch 12/22\n",
      "42/42 [==============================] - ETA: 0s - loss: 3.8088 - categorical_accuracy: 0.5385\n",
      "Epoch 00012: saving model to model_init_2024-11-0606_03_42.713072/model-00012-3.80882-0.53846-4.20605-0.30000.h5\n",
      "42/42 [==============================] - 47s 1s/step - loss: 3.8088 - categorical_accuracy: 0.5385 - val_loss: 4.2060 - val_categorical_accuracy: 0.3000 - lr: 1.0000e-04\n",
      "Epoch 13/22\n",
      "42/42 [==============================] - ETA: 0s - loss: 3.8026 - categorical_accuracy: 0.5324\n",
      "Epoch 00013: saving model to model_init_2024-11-0606_03_42.713072/model-00013-3.80258-0.53243-3.85725-0.43000.h5\n",
      "42/42 [==============================] - 46s 1s/step - loss: 3.8026 - categorical_accuracy: 0.5324 - val_loss: 3.8572 - val_categorical_accuracy: 0.4300 - lr: 1.0000e-04\n",
      "Epoch 14/22\n",
      "42/42 [==============================] - ETA: 0s - loss: 3.6587 - categorical_accuracy: 0.5641\n",
      "Epoch 00014: saving model to model_init_2024-11-0606_03_42.713072/model-00014-3.65867-0.56410-3.79251-0.55000.h5\n",
      "42/42 [==============================] - 46s 1s/step - loss: 3.6587 - categorical_accuracy: 0.5641 - val_loss: 3.7925 - val_categorical_accuracy: 0.5500 - lr: 1.0000e-04\n",
      "Epoch 15/22\n",
      "42/42 [==============================] - ETA: 0s - loss: 3.6509 - categorical_accuracy: 0.5852\n",
      "Epoch 00015: saving model to model_init_2024-11-0606_03_42.713072/model-00015-3.65095-0.58522-3.51011-0.68000.h5\n",
      "42/42 [==============================] - 47s 1s/step - loss: 3.6509 - categorical_accuracy: 0.5852 - val_loss: 3.5101 - val_categorical_accuracy: 0.6800 - lr: 1.0000e-04\n",
      "Epoch 16/22\n",
      "42/42 [==============================] - ETA: 0s - loss: 3.6110 - categorical_accuracy: 0.6259\n",
      "Epoch 00016: saving model to model_init_2024-11-0606_03_42.713072/model-00016-3.61105-0.62594-3.40989-0.75000.h5\n",
      "42/42 [==============================] - 48s 1s/step - loss: 3.6110 - categorical_accuracy: 0.6259 - val_loss: 3.4099 - val_categorical_accuracy: 0.7500 - lr: 1.0000e-04\n",
      "Epoch 17/22\n",
      "42/42 [==============================] - ETA: 0s - loss: 3.5469 - categorical_accuracy: 0.6259\n",
      "Epoch 00017: saving model to model_init_2024-11-0606_03_42.713072/model-00017-3.54687-0.62594-3.37525-0.73000.h5\n",
      "42/42 [==============================] - 47s 1s/step - loss: 3.5469 - categorical_accuracy: 0.6259 - val_loss: 3.3752 - val_categorical_accuracy: 0.7300 - lr: 1.0000e-04\n",
      "Epoch 18/22\n",
      "42/42 [==============================] - ETA: 0s - loss: 3.4419 - categorical_accuracy: 0.6259\n",
      "Epoch 00018: saving model to model_init_2024-11-0606_03_42.713072/model-00018-3.44192-0.62594-3.38755-0.65000.h5\n",
      "42/42 [==============================] - 47s 1s/step - loss: 3.4419 - categorical_accuracy: 0.6259 - val_loss: 3.3876 - val_categorical_accuracy: 0.6500 - lr: 1.0000e-04\n",
      "Epoch 19/22\n",
      "42/42 [==============================] - ETA: 0s - loss: 3.4121 - categorical_accuracy: 0.6516\n",
      "Epoch 00019: saving model to model_init_2024-11-0606_03_42.713072/model-00019-3.41207-0.65158-3.16838-0.76000.h5\n",
      "42/42 [==============================] - 46s 1s/step - loss: 3.4121 - categorical_accuracy: 0.6516 - val_loss: 3.1684 - val_categorical_accuracy: 0.7600 - lr: 1.0000e-04\n",
      "Epoch 20/22\n",
      "42/42 [==============================] - ETA: 0s - loss: 3.3867 - categorical_accuracy: 0.6667\n",
      "Epoch 00020: saving model to model_init_2024-11-0606_03_42.713072/model-00020-3.38671-0.66667-3.31757-0.74000.h5\n",
      "42/42 [==============================] - 47s 1s/step - loss: 3.3867 - categorical_accuracy: 0.6667 - val_loss: 3.3176 - val_categorical_accuracy: 0.7400 - lr: 1.0000e-04\n",
      "Epoch 21/22\n",
      "42/42 [==============================] - ETA: 0s - loss: 3.3619 - categorical_accuracy: 0.6591\n",
      "Epoch 00021: saving model to model_init_2024-11-0606_03_42.713072/model-00021-3.36189-0.65913-3.22412-0.71000.h5\n",
      "42/42 [==============================] - 47s 1s/step - loss: 3.3619 - categorical_accuracy: 0.6591 - val_loss: 3.2241 - val_categorical_accuracy: 0.7100 - lr: 1.0000e-04\n",
      "Epoch 22/22\n",
      "42/42 [==============================] - ETA: 0s - loss: 3.2893 - categorical_accuracy: 0.7029\n",
      "Epoch 00022: saving model to model_init_2024-11-0606_03_42.713072/model-00022-3.28931-0.70287-3.14955-0.82000.h5\n",
      "42/42 [==============================] - 48s 1s/step - loss: 3.2893 - categorical_accuracy: 0.7029 - val_loss: 3.1495 - val_categorical_accuracy: 0.8200 - lr: 1.0000e-04\n"
     ]
    }
   ],
   "source": [
    "# Model Fit\n",
    "\n",
    "history = modelConv3D_5.fit(train_generator, steps_per_epoch=steps_per_epoch, epochs=num_epochs, verbose=1, \n",
    "                    callbacks=callbacks_list, validation_data=val_generator, \n",
    "                    validation_steps=validation_steps, class_weight=None,\n",
    "                    workers=1, initial_epoch=0)"
   ]
  },
  {
   "cell_type": "code",
   "execution_count": 135,
   "metadata": {},
   "outputs": [
    {
     "data": {
      "image/png": "[encoded data removed]",
      "text/plain": [
       "<Figure size 432x288 with 1 Axes>"
      ]
     },
     "metadata": {
      "needs_background": "light"
     },
     "output_type": "display_data"
    },
    {
     "data": {
      "image/png": "[encoded data removed]",
      "text/plain": [
       "<Figure size 432x288 with 1 Axes>"
      ]
     },
     "metadata": {
      "needs_background": "light"
     },
     "output_type": "display_data"
    }
   ],
   "source": [
    "# Plotting the result of Model 5 :\n",
    "\n",
    "# summarize history for accuracy\n",
    "plt.plot(history.history['categorical_accuracy'])\n",
    "plt.plot(history.history['val_categorical_accuracy'])\n",
    "plt.title('model accuracy')\n",
    "plt.ylabel('accuracy')\n",
    "plt.xlabel('epoch')\n",
    "plt.legend(['train', 'test'], loc='upper left')\n",
    "plt.show()\n",
    "\n",
    "# summarize history for loss\n",
    "plt.plot(history.history['loss'])\n",
    "plt.plot(history.history['val_loss'])\n",
    "plt.title('model loss')\n",
    "plt.ylabel('loss')\n",
    "plt.xlabel('epoch')\n",
    "plt.legend(['train', 'test'], loc='upper left')\n",
    "plt.show()"
   ]
  },
  {
   "cell_type": "code",
   "execution_count": 70,
   "metadata": {},
   "outputs": [],
   "source": [
    "# Training Accuracy 70%, Validation Accuracy 82%"
   ]
  },
  {
   "cell_type": "markdown",
   "metadata": {},
   "source": [
    "### Model 6 : TimeDistributed Conv2D+LSTM Model "
   ]
  },
  {
   "cell_type": "code",
   "execution_count": 11,
   "metadata": {},
   "outputs": [],
   "source": [
    "# Input\n",
    "input_shape=(30,100,100,3)"
   ]
  },
  {
   "cell_type": "code",
   "execution_count": 12,
   "metadata": {},
   "outputs": [
    {
     "name": "stderr",
     "output_type": "stream",
     "text": [
      "2024-11-06 11:43:14.716353: I tensorflow/core/common_runtime/gpu/gpu_device.cc:1525] Created device /job:localhost/replica:0/task:0/device:GPU:0 with 14800 MB memory:  -> device: 0, name: Quadro RTX 5000, pci bus id: 0000:40:00.0, compute capability: 7.5\n"
     ]
    }
   ],
   "source": [
    "#write your model here\n",
    "CNNlstm_1 = Sequential()\n",
    "\n",
    "CNNlstm_1.add(TimeDistributed(Conv2D(16, (3, 3) , padding='same', activation='relu'),\n",
    "                          input_shape=input_shape))\n",
    "CNNlstm_1.add(TimeDistributed(BatchNormalization()))\n",
    "CNNlstm_1.add(TimeDistributed(MaxPooling2D((2, 2))))\n",
    "\n",
    "CNNlstm_1.add(TimeDistributed(Conv2D(32, (3, 3) , padding='same', activation='relu')))\n",
    "CNNlstm_1.add(TimeDistributed(BatchNormalization()))\n",
    "CNNlstm_1.add(TimeDistributed(MaxPooling2D((2, 2))))\n",
    "\n",
    "CNNlstm_1.add(TimeDistributed(Conv2D(64, (3, 3) , padding='same', activation='relu')))\n",
    "CNNlstm_1.add(TimeDistributed(BatchNormalization()))\n",
    "CNNlstm_1.add(TimeDistributed(MaxPooling2D((2, 2))))\n",
    "\n",
    "CNNlstm_1.add(TimeDistributed(Conv2D(128, (3, 3) , padding='same', activation='relu')))\n",
    "CNNlstm_1.add(TimeDistributed(BatchNormalization()))\n",
    "CNNlstm_1.add(TimeDistributed(MaxPooling2D((2, 2))))\n",
    "\n",
    "CNNlstm_1.add(TimeDistributed(Conv2D(256, (3, 3) , padding='same', activation='relu')))\n",
    "CNNlstm_1.add(TimeDistributed(BatchNormalization()))\n",
    "CNNlstm_1.add(TimeDistributed(MaxPooling2D((2, 2))))\n",
    "\n",
    "CNNlstm_1.add(TimeDistributed(Flatten()))\n",
    "\n",
    "\n",
    "CNNlstm_1.add(LSTM(64))\n",
    "CNNlstm_1.add(Dropout(0.4))\n",
    "\n",
    "CNNlstm_1.add(Dense(64,activation='relu'))\n",
    "CNNlstm_1.add(Dropout(0.4))\n",
    "\n",
    "CNNlstm_1.add(Dense(5, activation='softmax'))"
   ]
  },
  {
   "cell_type": "code",
   "execution_count": 13,
   "metadata": {},
   "outputs": [
    {
     "name": "stdout",
     "output_type": "stream",
     "text": [
      "Model: \"sequential\"\n",
      "_________________________________________________________________\n",
      " Layer (type)                Output Shape              Param #   \n",
      "=================================================================\n",
      " time_distributed (TimeDistr  (None, 30, 100, 100, 16)  448      \n",
      " ibuted)                                                         \n",
      "                                                                 \n",
      " time_distributed_1 (TimeDis  (None, 30, 100, 100, 16)  64       \n",
      " tributed)                                                       \n",
      "                                                                 \n",
      " time_distributed_2 (TimeDis  (None, 30, 50, 50, 16)   0         \n",
      " tributed)                                                       \n",
      "                                                                 \n",
      " time_distributed_3 (TimeDis  (None, 30, 50, 50, 32)   4640      \n",
      " tributed)                                                       \n",
      "                                                                 \n",
      " time_distributed_4 (TimeDis  (None, 30, 50, 50, 32)   128       \n",
      " tributed)                                                       \n",
      "                                                                 \n",
      " time_distributed_5 (TimeDis  (None, 30, 25, 25, 32)   0         \n",
      " tributed)                                                       \n",
      "                                                                 \n",
      " time_distributed_6 (TimeDis  (None, 30, 25, 25, 64)   18496     \n",
      " tributed)                                                       \n",
      "                                                                 \n",
      " time_distributed_7 (TimeDis  (None, 30, 25, 25, 64)   256       \n",
      " tributed)                                                       \n",
      "                                                                 \n",
      " time_distributed_8 (TimeDis  (None, 30, 12, 12, 64)   0         \n",
      " tributed)                                                       \n",
      "                                                                 \n",
      " time_distributed_9 (TimeDis  (None, 30, 12, 12, 128)  73856     \n",
      " tributed)                                                       \n",
      "                                                                 \n",
      " time_distributed_10 (TimeDi  (None, 30, 12, 12, 128)  512       \n",
      " stributed)                                                      \n",
      "                                                                 \n",
      " time_distributed_11 (TimeDi  (None, 30, 6, 6, 128)    0         \n",
      " stributed)                                                      \n",
      "                                                                 \n",
      " time_distributed_12 (TimeDi  (None, 30, 6, 6, 256)    295168    \n",
      " stributed)                                                      \n",
      "                                                                 \n",
      " time_distributed_13 (TimeDi  (None, 30, 6, 6, 256)    1024      \n",
      " stributed)                                                      \n",
      "                                                                 \n",
      " time_distributed_14 (TimeDi  (None, 30, 3, 3, 256)    0         \n",
      " stributed)                                                      \n",
      "                                                                 \n",
      " time_distributed_15 (TimeDi  (None, 30, 2304)         0         \n",
      " stributed)                                                      \n",
      "                                                                 \n",
      " lstm (LSTM)                 (None, 64)                606464    \n",
      "                                                                 \n",
      " dropout (Dropout)           (None, 64)                0         \n",
      "                                                                 \n",
      " dense (Dense)               (None, 64)                4160      \n",
      "                                                                 \n",
      " dropout_1 (Dropout)         (None, 64)                0         \n",
      "                                                                 \n",
      " dense_1 (Dense)             (None, 5)                 325       \n",
      "                                                                 \n",
      "=================================================================\n",
      "Total params: 1,005,541\n",
      "Trainable params: 1,004,549\n",
      "Non-trainable params: 992\n",
      "_________________________________________________________________\n",
      "None\n"
     ]
    }
   ],
   "source": [
    "import tensorflow as tf\n",
    "from tensorflow.keras import optimizers\n",
    "\n",
    "# Define the Adam optimizer with a fixed learning rate\n",
    "optimiser = optimizers.Adam(learning_rate=0.001)  # No decay applied here\n",
    "\n",
    "# Define your model (make sure your modelConv3D_1 is defined before this)\n",
    "CNNlstm_1.compile(optimizer=optimiser, loss='categorical_crossentropy', metrics=['categorical_accuracy'])\n",
    "\n",
    "# Print the model summary\n",
    "print(CNNlstm_1.summary())"
   ]
  },
  {
   "cell_type": "code",
   "execution_count": 14,
   "metadata": {},
   "outputs": [
    {
     "name": "stdout",
     "output_type": "stream",
     "text": [
      "# training sequences = 663\n",
      "# validation sequences = 100\n",
      "# epochs = 21\n"
     ]
    }
   ],
   "source": [
    "batch_size = 10\n",
    "curr_dt_time = datetime.datetime.now()\n",
    "train_path = '/home/datasets/Project_data/train'\n",
    "val_path = '/home/datasets/Project_data/val'\n",
    "num_train_sequences = len(train_doc)\n",
    "print('# training sequences =', num_train_sequences)\n",
    "num_val_sequences = len(val_doc)\n",
    "print('# validation sequences =', num_val_sequences)\n",
    "# choose the number of epochs\n",
    "num_epochs = 21\n",
    "print ('# epochs =', num_epochs)\n"
   ]
  },
  {
   "cell_type": "code",
   "execution_count": 15,
   "metadata": {},
   "outputs": [],
   "source": [
    "def generatorLSTM(source_path, folder_list, batch_size):\n",
    "    print( 'Source path = ', source_path, '; batch size =', batch_size)\n",
    "    \n",
    "    #create a list of image numbers you want to use for a particular video\n",
    "    img_idx = [x for x in range(0, 30)]\n",
    "    #list(range(0,29,2))\n",
    "    \n",
    "    while True:\n",
    "        t = np.random.permutation(folder_list)\n",
    "        \n",
    "# calculate the number of batches\n",
    "        num_batches = int(len(t)/batch_size)\n",
    "        \n",
    "# we iterate over the number of batches\n",
    "        for batch in range(num_batches): \n",
    "            \n",
    "# x is the number of images you use for each video, (y,z) is the final size of the input images and 3 is the number of channels RGB          \n",
    "            batch_data = np.zeros((batch_size,30,100,100,3))\n",
    "# batch_labels is the one hot representation of the output\n",
    "            batch_labels = np.zeros((batch_size,5))\n",
    "\n",
    "# iterate over the batch_size    \n",
    "            for folder in range(batch_size): \n",
    "# read all the images in the folder        \n",
    "                imgs = os.listdir(source_path+'/'+ t[folder + (batch*batch_size)].split(';')[0]) \n",
    "#  Iterate over the frames/images of a folder to read them in    \n",
    "                for idx,item in enumerate(img_idx):\n",
    "                    image = cv2.imread(source_path+'/'+ t[folder + (batch*batch_size)].strip().split(';')[0]+'/'+imgs[item],cv2.IMREAD_UNCHANGED).astype(np.float32)\n",
    "                    \n",
    "#crop the images and resize them. Note that the images are of 2 different shape \n",
    "#and the conv3D will throw error if the inputs in a batch have different shapes\n",
    "                    if image.shape[1] == 160:\n",
    "                        image = cv2.resize(image[:,20:140,:],(100,100),interpolation = cv2.INTER_AREA).astype(np.float32)\n",
    "                    else:\n",
    "                        image = cv2.resize(image,(100,100),interpolation = cv2.INTER_AREA).astype(np.float32)\n",
    "                                \n",
    "#normalise and feed in the image\n",
    "\n",
    "                    batch_data[folder,idx,:,:,0] = (image[:,:,0])/255\n",
    "                    batch_data[folder,idx,:,:,1] = (image[:,:,1])/255\n",
    "                    batch_data[folder,idx,:,:,2] = (image[:,:,2])/255\n",
    "                    \n",
    "                batch_labels[folder, int(t[folder + (batch*batch_size)].strip().split(';')[2])] = 1\n",
    "#you yield the batch_data and the batch_labels, remember what does yield do                \n",
    "            yield batch_data, batch_labels \n",
    "\n",
    "        \n",
    "# write the code for the remaining data points which are left after full batches\n",
    "        if (len(t)%batch_size) != 0:\n",
    "            batch_data = np.zeros((len(t)%batch_size,30,100,100,3))\n",
    "            batch_labels = np.zeros((len(t)%batch_size,5))\n",
    "            for folder in range(len(t)%batch_size):\n",
    "                imgs = os.listdir(source_path+'/'+ t[folder + (num_batches*batch_size)].split(';')[0])\n",
    "                for idx,item in enumerate(img_idx):\n",
    "                    image = cv2.imread(source_path+'/'+ t[folder + (num_batches*batch_size)].strip().split(';')[0]+'/'+imgs[item],cv2.IMREAD_UNCHANGED).astype(np.float32)\n",
    "                    if image.shape[1] == 160:\n",
    "                        image = cv2.resize(image[:,20:140,:],(100,100),interpolation = cv2.INTER_AREA).astype(np.float32)\n",
    "                    else:\n",
    "                        image = cv2.resize(image,(100,100),interpolation = cv2.INTER_AREA).astype(np.float32)\n",
    "\n",
    "                    batch_data[folder,idx,:,:,0] = (image[:,:,0])/255\n",
    "                    batch_data[folder,idx,:,:,1] = (image[:,:,1])/255\n",
    "                    batch_data[folder,idx,:,:,2] = (image[:,:,2])/255\n",
    "\n",
    "                batch_labels[folder, int(t[folder + (num_batches*batch_size)].strip().split(';')[2])] = 1\n",
    "\n",
    "            yield batch_data, batch_labels"
   ]
  },
  {
   "cell_type": "code",
   "execution_count": 16,
   "metadata": {},
   "outputs": [],
   "source": [
    "train_generator = generatorLSTM(train_path, train_doc, batch_size)\n",
    "val_generator = generatorLSTM(val_path, val_doc, batch_size)"
   ]
  },
  {
   "cell_type": "code",
   "execution_count": 30,
   "metadata": {},
   "outputs": [],
   "source": [
    "import datetime\n",
    "import os\n",
    "from tensorflow.keras.callbacks import ModelCheckpoint, ReduceLROnPlateau, EarlyStopping\n",
    "\n",
    "# Get the current date and time for model saving \n",
    "curr_dt_time = datetime.datetime.now()\n",
    "\n",
    "# Create model name with current timestamp\n",
    "model_name = 'model_init_' + str(curr_dt_time).replace(' ', '').replace(':', '_') + '/'\n",
    "\n",
    "# Check if the directory exists, and create it if not\n",
    "if not os.path.exists(model_name):\n",
    "    os.mkdir(model_name)\n",
    "\n",
    "# Define the file path with placeholders for epoch and performance metrics\n",
    "filepath = model_name + 'model-{epoch:05d}-{loss:.5f}-{categorical_accuracy:.5f}-{val_loss:.5f}-{val_categorical_accuracy:.5f}.h5'\n",
    "\n",
    "# ModelCheckpoint callback\n",
    "checkpoint = ModelCheckpoint(filepath, monitor='val_loss', verbose=1, save_best_only=False, save_weights_only=False, mode='auto', save_freq='epoch')\n",
    "\n",
    "# ReduceLROnPlateau callback (adjusted to monitor 'val_categorical_accuracy')\n",
    "reduce_lr = ReduceLROnPlateau(monitor='val_categorical_accuracy', factor=0.5, patience=3, min_lr=1e-6, verbose=1)\n",
    "\n",
    "# EarlyStopping callback\n",
    "early_stopping = EarlyStopping(monitor='val_categorical_accuracy', patience=5, restore_best_weights=True)\n",
    "\n",
    "# Combine callbacks into a list\n",
    "callbacks_list = [checkpoint, reduce_lr, early_stopping]"
   ]
  },
  {
   "cell_type": "code",
   "execution_count": 31,
   "metadata": {},
   "outputs": [],
   "source": [
    "if (num_train_sequences%batch_size) == 0:\n",
    "    steps_per_epoch = int(num_train_sequences/batch_size)\n",
    "else:\n",
    "    steps_per_epoch = (num_train_sequences//batch_size) + 1\n",
    "\n",
    "if (num_val_sequences%batch_size) == 0:\n",
    "    validation_steps = int(num_val_sequences/batch_size)\n",
    "else:\n",
    "    validation_steps = (num_val_sequences//batch_size) + 1"
   ]
  },
  {
   "cell_type": "code",
   "execution_count": 32,
   "metadata": {},
   "outputs": [
    {
     "name": "stdout",
     "output_type": "stream",
     "text": [
      "Source path =  /home/datasets/Project_data/train ; batch size = 10\n",
      "Epoch 1/21\n",
      "67/67 [==============================] - ETA: 0s - loss: 1.5974 - categorical_accuracy: 0.2730Source path =  /home/datasets/Project_data/val ; batch size = 10\n",
      "\n",
      "Epoch 00001: saving model to model_init_2024-11-0610_03_30.198006/model-00001-1.59742-0.27300-1.72852-0.22000.h5\n",
      "67/67 [==============================] - 63s 910ms/step - loss: 1.5974 - categorical_accuracy: 0.2730 - val_loss: 1.7285 - val_categorical_accuracy: 0.2200 - lr: 0.0010\n",
      "Epoch 2/21\n",
      "67/67 [==============================] - ETA: 0s - loss: 1.4602 - categorical_accuracy: 0.3439\n",
      "Epoch 00002: saving model to model_init_2024-11-0610_03_30.198006/model-00002-1.46021-0.34389-1.82793-0.18000.h5\n",
      "67/67 [==============================] - 48s 734ms/step - loss: 1.4602 - categorical_accuracy: 0.3439 - val_loss: 1.8279 - val_categorical_accuracy: 0.1800 - lr: 0.0010\n",
      "Epoch 3/21\n",
      "67/67 [==============================] - ETA: 0s - loss: 1.4010 - categorical_accuracy: 0.3967\n",
      "Epoch 00003: saving model to model_init_2024-11-0610_03_30.198006/model-00003-1.40105-0.39668-2.16855-0.17000.h5\n",
      "67/67 [==============================] - 48s 727ms/step - loss: 1.4010 - categorical_accuracy: 0.3967 - val_loss: 2.1686 - val_categorical_accuracy: 0.1700 - lr: 0.0010\n",
      "Epoch 4/21\n",
      "67/67 [==============================] - ETA: 0s - loss: 1.3494 - categorical_accuracy: 0.4103\n",
      "Epoch 00004: saving model to model_init_2024-11-0610_03_30.198006/model-00004-1.34942-0.41026-1.86201-0.25000.h5\n",
      "67/67 [==============================] - 47s 716ms/step - loss: 1.3494 - categorical_accuracy: 0.4103 - val_loss: 1.8620 - val_categorical_accuracy: 0.2500 - lr: 0.0010\n",
      "Epoch 5/21\n",
      "67/67 [==============================] - ETA: 0s - loss: 1.3300 - categorical_accuracy: 0.4268\n",
      "Epoch 00005: saving model to model_init_2024-11-0610_03_30.198006/model-00005-1.32999-0.42685-1.55518-0.32000.h5\n",
      "67/67 [==============================] - 48s 722ms/step - loss: 1.3300 - categorical_accuracy: 0.4268 - val_loss: 1.5552 - val_categorical_accuracy: 0.3200 - lr: 0.0010\n",
      "Epoch 6/21\n",
      "67/67 [==============================] - ETA: 0s - loss: 1.2434 - categorical_accuracy: 0.4570\n",
      "Epoch 00006: saving model to model_init_2024-11-0610_03_30.198006/model-00006-1.24343-0.45701-1.27393-0.52000.h5\n",
      "67/67 [==============================] - 48s 726ms/step - loss: 1.2434 - categorical_accuracy: 0.4570 - val_loss: 1.2739 - val_categorical_accuracy: 0.5200 - lr: 0.0010\n",
      "Epoch 7/21\n",
      "67/67 [==============================] - ETA: 0s - loss: 1.1263 - categorical_accuracy: 0.5309\n",
      "Epoch 00007: saving model to model_init_2024-11-0610_03_30.198006/model-00007-1.12628-0.53092-1.30068-0.48000.h5\n",
      "67/67 [==============================] - 46s 692ms/step - loss: 1.1263 - categorical_accuracy: 0.5309 - val_loss: 1.3007 - val_categorical_accuracy: 0.4800 - lr: 0.0010\n",
      "Epoch 8/21\n",
      "67/67 [==============================] - ETA: 0s - loss: 1.1928 - categorical_accuracy: 0.4872\n",
      "Epoch 00008: saving model to model_init_2024-11-0610_03_30.198006/model-00008-1.19284-0.48718-1.11226-0.56000.h5\n",
      "67/67 [==============================] - 47s 708ms/step - loss: 1.1928 - categorical_accuracy: 0.4872 - val_loss: 1.1123 - val_categorical_accuracy: 0.5600 - lr: 0.0010\n",
      "Epoch 9/21\n",
      "67/67 [==============================] - ETA: 0s - loss: 1.1862 - categorical_accuracy: 0.5053\n",
      "Epoch 00009: saving model to model_init_2024-11-0610_03_30.198006/model-00009-1.18623-0.50528-1.31035-0.48000.h5\n",
      "67/67 [==============================] - 46s 702ms/step - loss: 1.1862 - categorical_accuracy: 0.5053 - val_loss: 1.3104 - val_categorical_accuracy: 0.4800 - lr: 0.0010\n",
      "Epoch 10/21\n",
      "67/67 [==============================] - ETA: 0s - loss: 1.0196 - categorical_accuracy: 0.5852\n",
      "Epoch 00010: saving model to model_init_2024-11-0610_03_30.198006/model-00010-1.01960-0.58522-0.91694-0.64000.h5\n",
      "67/67 [==============================] - 46s 701ms/step - loss: 1.0196 - categorical_accuracy: 0.5852 - val_loss: 0.9169 - val_categorical_accuracy: 0.6400 - lr: 0.0010\n",
      "Epoch 11/21\n",
      "67/67 [==============================] - ETA: 0s - loss: 1.1043 - categorical_accuracy: 0.5581\n",
      "Epoch 00011: saving model to model_init_2024-11-0610_03_30.198006/model-00011-1.10429-0.55807-1.35298-0.52000.h5\n",
      "67/67 [==============================] - 48s 724ms/step - loss: 1.1043 - categorical_accuracy: 0.5581 - val_loss: 1.3530 - val_categorical_accuracy: 0.5200 - lr: 0.0010\n",
      "Epoch 12/21\n",
      "67/67 [==============================] - ETA: 0s - loss: 1.0167 - categorical_accuracy: 0.5973\n",
      "Epoch 00012: saving model to model_init_2024-11-0610_03_30.198006/model-00012-1.01669-0.59729-0.91001-0.65000.h5\n",
      "67/67 [==============================] - 48s 727ms/step - loss: 1.0167 - categorical_accuracy: 0.5973 - val_loss: 0.9100 - val_categorical_accuracy: 0.6500 - lr: 0.0010\n",
      "Epoch 13/21\n",
      "67/67 [==============================] - ETA: 0s - loss: 1.0021 - categorical_accuracy: 0.5837\n",
      "Epoch 00013: saving model to model_init_2024-11-0610_03_30.198006/model-00013-1.00211-0.58371-1.86445-0.25000.h5\n",
      "67/67 [==============================] - 47s 716ms/step - loss: 1.0021 - categorical_accuracy: 0.5837 - val_loss: 1.8645 - val_categorical_accuracy: 0.2500 - lr: 0.0010\n",
      "Epoch 14/21\n",
      "67/67 [==============================] - ETA: 0s - loss: 1.0086 - categorical_accuracy: 0.5867\n",
      "Epoch 00014: saving model to model_init_2024-11-0610_03_30.198006/model-00014-1.00864-0.58673-1.11055-0.64000.h5\n",
      "67/67 [==============================] - 48s 729ms/step - loss: 1.0086 - categorical_accuracy: 0.5867 - val_loss: 1.1105 - val_categorical_accuracy: 0.6400 - lr: 0.0010\n",
      "Epoch 15/21\n",
      "67/67 [==============================] - ETA: 0s - loss: 1.0226 - categorical_accuracy: 0.6018\n",
      "Epoch 00015: saving model to model_init_2024-11-0610_03_30.198006/model-00015-1.02259-0.60181-0.87437-0.63000.h5\n",
      "\n",
      "Epoch 00015: ReduceLROnPlateau reducing learning rate to 0.0005000000237487257.\n",
      "67/67 [==============================] - 48s 733ms/step - loss: 1.0226 - categorical_accuracy: 0.6018 - val_loss: 0.8744 - val_categorical_accuracy: 0.6300 - lr: 0.0010\n",
      "Epoch 16/21\n",
      "67/67 [==============================] - ETA: 0s - loss: 0.8970 - categorical_accuracy: 0.6395\n",
      "Epoch 00016: saving model to model_init_2024-11-0610_03_30.198006/model-00016-0.89704-0.63952-0.79819-0.64000.h5\n",
      "67/67 [==============================] - 53s 803ms/step - loss: 0.8970 - categorical_accuracy: 0.6395 - val_loss: 0.7982 - val_categorical_accuracy: 0.6400 - lr: 5.0000e-04\n",
      "Epoch 17/21\n",
      "67/67 [==============================] - ETA: 0s - loss: 0.8126 - categorical_accuracy: 0.6772\n",
      "Epoch 00017: saving model to model_init_2024-11-0610_03_30.198006/model-00017-0.81259-0.67722-0.83643-0.69000.h5\n",
      "67/67 [==============================] - 49s 738ms/step - loss: 0.8126 - categorical_accuracy: 0.6772 - val_loss: 0.8364 - val_categorical_accuracy: 0.6900 - lr: 5.0000e-04\n",
      "Epoch 18/21\n",
      "67/67 [==============================] - ETA: 0s - loss: 0.8796 - categorical_accuracy: 0.6335\n",
      "Epoch 00018: saving model to model_init_2024-11-0610_03_30.198006/model-00018-0.87957-0.63348-1.09097-0.55000.h5\n",
      "67/67 [==============================] - 49s 742ms/step - loss: 0.8796 - categorical_accuracy: 0.6335 - val_loss: 1.0910 - val_categorical_accuracy: 0.5500 - lr: 5.0000e-04\n",
      "Epoch 19/21\n",
      "67/67 [==============================] - ETA: 0s - loss: 0.9470 - categorical_accuracy: 0.6259\n",
      "Epoch 00019: saving model to model_init_2024-11-0610_03_30.198006/model-00019-0.94702-0.62594-0.80908-0.71000.h5\n",
      "67/67 [==============================] - 48s 734ms/step - loss: 0.9470 - categorical_accuracy: 0.6259 - val_loss: 0.8091 - val_categorical_accuracy: 0.7100 - lr: 5.0000e-04\n",
      "Epoch 20/21\n",
      "67/67 [==============================] - ETA: 0s - loss: 0.7356 - categorical_accuracy: 0.7285\n",
      "Epoch 00020: saving model to model_init_2024-11-0610_03_30.198006/model-00020-0.73556-0.72851-0.74111-0.72000.h5\n",
      "67/67 [==============================] - 49s 735ms/step - loss: 0.7356 - categorical_accuracy: 0.7285 - val_loss: 0.7411 - val_categorical_accuracy: 0.7200 - lr: 5.0000e-04\n",
      "Epoch 21/21\n",
      "67/67 [==============================] - ETA: 0s - loss: 0.7315 - categorical_accuracy: 0.7164\n",
      "Epoch 00021: saving model to model_init_2024-11-0610_03_30.198006/model-00021-0.73153-0.71644-0.80454-0.70000.h5\n",
      "67/67 [==============================] - 49s 735ms/step - loss: 0.7315 - categorical_accuracy: 0.7164 - val_loss: 0.8045 - val_categorical_accuracy: 0.7000 - lr: 5.0000e-04\n"
     ]
    }
   ],
   "source": [
    "#Model Fit\n",
    "\n",
    "history = CNNlstm_1.fit(train_generator, steps_per_epoch=steps_per_epoch, epochs=num_epochs, verbose=1, \n",
    "                    callbacks=callbacks_list, validation_data=val_generator, \n",
    "                    validation_steps=validation_steps, class_weight=None,\n",
    "                    workers=1, initial_epoch=0)"
   ]
  },
  {
   "cell_type": "code",
   "execution_count": 33,
   "metadata": {},
   "outputs": [
    {
     "data": {
      "image/png": "[encoded data removed]",
      "text/plain": [
       "<Figure size 432x288 with 1 Axes>"
      ]
     },
     "metadata": {
      "needs_background": "light"
     },
     "output_type": "display_data"
    },
    {
     "data": {
      "image/png": "[encoded data removed]",
      "text/plain": [
       "<Figure size 432x288 with 1 Axes>"
      ]
     },
     "metadata": {
      "needs_background": "light"
     },
     "output_type": "display_data"
    }
   ],
   "source": [
    "# Plotting the result of Model 6 :\n",
    "\n",
    "# summarize history for accuracy\n",
    "plt.plot(history.history['categorical_accuracy'])\n",
    "plt.plot(history.history['val_categorical_accuracy'])\n",
    "plt.title('model accuracy')\n",
    "plt.ylabel('accuracy')\n",
    "plt.xlabel('epoch')\n",
    "plt.legend(['train', 'test'], loc='upper left')\n",
    "plt.show()\n",
    "\n",
    "# summarize history for loss\n",
    "plt.plot(history.history['loss'])\n",
    "plt.plot(history.history['val_loss'])\n",
    "plt.title('model loss')\n",
    "plt.ylabel('loss')\n",
    "plt.xlabel('epoch')\n",
    "plt.legend(['train', 'test'], loc='upper left')\n",
    "plt.show()"
   ]
  },
  {
   "cell_type": "code",
   "execution_count": 82,
   "metadata": {},
   "outputs": [],
   "source": [
    "# Training  Accuracy 71%, Validation Accuracy 70%"
   ]
  },
  {
   "cell_type": "markdown",
   "metadata": {},
   "source": [
    "### Model 7 : TimeDistributed Conv2D+LSTM Model \n",
    "#### Current Model Inputs:\n",
    "-Increased input image size to 120x120 "
   ]
  },
  {
   "cell_type": "code",
   "execution_count": 17,
   "metadata": {},
   "outputs": [],
   "source": [
    "# Input\n",
    "input_shape=(30,120,120,3)\n",
    "\n",
    "\n",
    "#write your model here\n",
    "CNNlstm_2 = Sequential()\n",
    "\n",
    "CNNlstm_2.add(TimeDistributed(Conv2D(16, (3, 3) , padding='same', activation='relu'),\n",
    "                          input_shape=input_shape))\n",
    "CNNlstm_2.add(TimeDistributed(BatchNormalization()))\n",
    "CNNlstm_2.add(TimeDistributed(MaxPooling2D((2, 2))))\n",
    "\n",
    "CNNlstm_2.add(TimeDistributed(Conv2D(32, (3, 3) , padding='same', activation='relu')))\n",
    "CNNlstm_2.add(TimeDistributed(BatchNormalization()))\n",
    "CNNlstm_2.add(TimeDistributed(MaxPooling2D((2, 2))))\n",
    "\n",
    "CNNlstm_2.add(TimeDistributed(Conv2D(64, (3, 3) , padding='same', activation='relu')))\n",
    "CNNlstm_2.add(TimeDistributed(BatchNormalization()))\n",
    "CNNlstm_2.add(TimeDistributed(MaxPooling2D((2, 2))))\n",
    "\n",
    "CNNlstm_2.add(TimeDistributed(Conv2D(128, (3, 3) , padding='same', activation='relu')))\n",
    "CNNlstm_2.add(TimeDistributed(BatchNormalization()))\n",
    "CNNlstm_2.add(TimeDistributed(MaxPooling2D((2, 2))))\n",
    "\n",
    "CNNlstm_2.add(TimeDistributed(Conv2D(256, (3, 3) , padding='same', activation='relu')))\n",
    "CNNlstm_2.add(TimeDistributed(BatchNormalization()))\n",
    "CNNlstm_2.add(TimeDistributed(MaxPooling2D((2, 2))))\n",
    "\n",
    "CNNlstm_2.add(TimeDistributed(Flatten()))\n",
    "\n",
    "\n",
    "CNNlstm_2.add(LSTM(64))\n",
    "CNNlstm_2.add(Dropout(0.3))\n",
    "\n",
    "CNNlstm_2.add(Dense(64,activation='relu'))\n",
    "CNNlstm_2.add(Dropout(0.3))\n",
    "\n",
    "CNNlstm_2.add(Dense(5, activation='softmax'))"
   ]
  },
  {
   "cell_type": "code",
   "execution_count": 18,
   "metadata": {},
   "outputs": [
    {
     "name": "stdout",
     "output_type": "stream",
     "text": [
      "Model: \"sequential_1\"\n",
      "_________________________________________________________________\n",
      " Layer (type)                Output Shape              Param #   \n",
      "=================================================================\n",
      " time_distributed_16 (TimeDi  (None, 30, 120, 120, 16)  448      \n",
      " stributed)                                                      \n",
      "                                                                 \n",
      " time_distributed_17 (TimeDi  (None, 30, 120, 120, 16)  64       \n",
      " stributed)                                                      \n",
      "                                                                 \n",
      " time_distributed_18 (TimeDi  (None, 30, 60, 60, 16)   0         \n",
      " stributed)                                                      \n",
      "                                                                 \n",
      " time_distributed_19 (TimeDi  (None, 30, 60, 60, 32)   4640      \n",
      " stributed)                                                      \n",
      "                                                                 \n",
      " time_distributed_20 (TimeDi  (None, 30, 60, 60, 32)   128       \n",
      " stributed)                                                      \n",
      "                                                                 \n",
      " time_distributed_21 (TimeDi  (None, 30, 30, 30, 32)   0         \n",
      " stributed)                                                      \n",
      "                                                                 \n",
      " time_distributed_22 (TimeDi  (None, 30, 30, 30, 64)   18496     \n",
      " stributed)                                                      \n",
      "                                                                 \n",
      " time_distributed_23 (TimeDi  (None, 30, 30, 30, 64)   256       \n",
      " stributed)                                                      \n",
      "                                                                 \n",
      " time_distributed_24 (TimeDi  (None, 30, 15, 15, 64)   0         \n",
      " stributed)                                                      \n",
      "                                                                 \n",
      " time_distributed_25 (TimeDi  (None, 30, 15, 15, 128)  73856     \n",
      " stributed)                                                      \n",
      "                                                                 \n",
      " time_distributed_26 (TimeDi  (None, 30, 15, 15, 128)  512       \n",
      " stributed)                                                      \n",
      "                                                                 \n",
      " time_distributed_27 (TimeDi  (None, 30, 7, 7, 128)    0         \n",
      " stributed)                                                      \n",
      "                                                                 \n",
      " time_distributed_28 (TimeDi  (None, 30, 7, 7, 256)    295168    \n",
      " stributed)                                                      \n",
      "                                                                 \n",
      " time_distributed_29 (TimeDi  (None, 30, 7, 7, 256)    1024      \n",
      " stributed)                                                      \n",
      "                                                                 \n",
      " time_distributed_30 (TimeDi  (None, 30, 3, 3, 256)    0         \n",
      " stributed)                                                      \n",
      "                                                                 \n",
      " time_distributed_31 (TimeDi  (None, 30, 2304)         0         \n",
      " stributed)                                                      \n",
      "                                                                 \n",
      " lstm_1 (LSTM)               (None, 64)                606464    \n",
      "                                                                 \n",
      " dropout_2 (Dropout)         (None, 64)                0         \n",
      "                                                                 \n",
      " dense_2 (Dense)             (None, 64)                4160      \n",
      "                                                                 \n",
      " dropout_3 (Dropout)         (None, 64)                0         \n",
      "                                                                 \n",
      " dense_3 (Dense)             (None, 5)                 325       \n",
      "                                                                 \n",
      "=================================================================\n",
      "Total params: 1,005,541\n",
      "Trainable params: 1,004,549\n",
      "Non-trainable params: 992\n",
      "_________________________________________________________________\n",
      "None\n"
     ]
    }
   ],
   "source": [
    "import tensorflow as tf\n",
    "from tensorflow.keras import optimizers\n",
    "\n",
    "# Define the Adam optimizer with a fixed learning rate\n",
    "optimiser = optimizers.Adam(learning_rate=0.001)  # No decay applied here\n",
    "\n",
    "# Define your model (make sure your modelConv3D_1 is defined before this)\n",
    "CNNlstm_2.compile(optimizer=optimiser, loss='categorical_crossentropy', metrics=['categorical_accuracy'])\n",
    "\n",
    "# Print the model summary\n",
    "print(CNNlstm_2.summary())"
   ]
  },
  {
   "cell_type": "code",
   "execution_count": 19,
   "metadata": {},
   "outputs": [
    {
     "name": "stdout",
     "output_type": "stream",
     "text": [
      "Total Params in model: 1005541\n"
     ]
    }
   ],
   "source": [
    "print(\"Total Params in model:\", CNNlstm_2.count_params())"
   ]
  },
  {
   "cell_type": "code",
   "execution_count": 20,
   "metadata": {},
   "outputs": [],
   "source": [
    "def generatorLSTM(source_path, folder_list, batch_size):\n",
    "    print( 'Source path = ', source_path, '; batch size =', batch_size)\n",
    "    \n",
    "    #create a list of image numbers you want to use for a particular video\n",
    "    img_idx = [x for x in range(0, 30)]\n",
    "    #list(range(0,29,2))\n",
    "    \n",
    "    while True:\n",
    "        t = np.random.permutation(folder_list)\n",
    "        \n",
    "# calculate the number of batches\n",
    "        num_batches = int(len(t)/batch_size)\n",
    "        \n",
    "# we iterate over the number of batches\n",
    "        for batch in range(num_batches): \n",
    "            \n",
    "# x is the number of images you use for each video, (y,z) is the final size of the input images and 3 is the number of channels RGB          \n",
    "            batch_data = np.zeros((batch_size,30,120,120,3))\n",
    "# batch_labels is the one hot representation of the output\n",
    "            batch_labels = np.zeros((batch_size,5))\n",
    "\n",
    "# iterate over the batch_size    \n",
    "            for folder in range(batch_size): \n",
    "# read all the images in the folder        \n",
    "                imgs = os.listdir(source_path+'/'+ t[folder + (batch*batch_size)].split(';')[0]) \n",
    "#  Iterate over the frames/images of a folder to read them in    \n",
    "                for idx,item in enumerate(img_idx):\n",
    "                    image = cv2.imread(source_path+'/'+ t[folder + (batch*batch_size)].strip().split(';')[0]+'/'+imgs[item],cv2.IMREAD_UNCHANGED).astype(np.float32)\n",
    "                    \n",
    "#crop the images and resize them. Note that the images are of 2 different shape \n",
    "#and the conv3D will throw error if the inputs in a batch have different shapes\n",
    "                    if image.shape[1] == 160:\n",
    "                        image = cv2.resize(image[:,20:140,:],(120,120),interpolation = cv2.INTER_AREA).astype(np.float32)\n",
    "                    else:\n",
    "                        image = cv2.resize(image,(120,120),interpolation = cv2.INTER_AREA).astype(np.float32)\n",
    "                                \n",
    "#normalise and feed in the image\n",
    "\n",
    "                    batch_data[folder,idx,:,:,0] = (image[:,:,0])/255\n",
    "                    batch_data[folder,idx,:,:,1] = (image[:,:,1])/255\n",
    "                    batch_data[folder,idx,:,:,2] = (image[:,:,2])/255\n",
    "                    \n",
    "                batch_labels[folder, int(t[folder + (batch*batch_size)].strip().split(';')[2])] = 1\n",
    "#you yield the batch_data and the batch_labels, remember what does yield do                \n",
    "            yield batch_data, batch_labels \n",
    "\n",
    "        \n",
    "# write the code for the remaining data points which are left after full batches\n",
    "        if (len(t)%batch_size) != 0:\n",
    "            batch_data = np.zeros((len(t)%batch_size,30,120,120,3))\n",
    "            batch_labels = np.zeros((len(t)%batch_size,5))\n",
    "            for folder in range(len(t)%batch_size):\n",
    "                imgs = os.listdir(source_path+'/'+ t[folder + (num_batches*batch_size)].split(';')[0])\n",
    "                for idx,item in enumerate(img_idx):\n",
    "                    image = cv2.imread(source_path+'/'+ t[folder + (num_batches*batch_size)].strip().split(';')[0]+'/'+imgs[item],cv2.IMREAD_UNCHANGED).astype(np.float32)\n",
    "                    if image.shape[1] == 160:\n",
    "                        image = cv2.resize(image[:,20:140,:],(120,120),interpolation = cv2.INTER_AREA).astype(np.float32)\n",
    "                    else:\n",
    "                        image = cv2.resize(image,(120,120),interpolation = cv2.INTER_AREA).astype(np.float32)\n",
    "\n",
    "                    batch_data[folder,idx,:,:,0] = (image[:,:,0])/255\n",
    "                    batch_data[folder,idx,:,:,1] = (image[:,:,1])/255\n",
    "                    batch_data[folder,idx,:,:,2] = (image[:,:,2])/255\n",
    "\n",
    "                batch_labels[folder, int(t[folder + (num_batches*batch_size)].strip().split(';')[2])] = 1\n",
    "\n",
    "            yield batch_data, batch_labels"
   ]
  },
  {
   "cell_type": "code",
   "execution_count": 21,
   "metadata": {},
   "outputs": [
    {
     "name": "stdout",
     "output_type": "stream",
     "text": [
      "# training sequences = 663\n",
      "# validation sequences = 100\n",
      "# epochs = 16\n"
     ]
    }
   ],
   "source": [
    "batch_size = 16\n",
    "curr_dt_time = datetime.datetime.now()\n",
    "train_path = '/home/datasets/Project_data/train'\n",
    "val_path = '/home/datasets/Project_data/val'\n",
    "num_train_sequences = len(train_doc)\n",
    "print('# training sequences =', num_train_sequences)\n",
    "num_val_sequences = len(val_doc)\n",
    "print('# validation sequences =', num_val_sequences)\n",
    "# choose the number of epochs\n",
    "num_epochs = 16\n",
    "print ('# epochs =', num_epochs)\n"
   ]
  },
  {
   "cell_type": "code",
   "execution_count": 22,
   "metadata": {},
   "outputs": [],
   "source": [
    "train_generator = generatorLSTM(train_path, train_doc, batch_size)\n",
    "val_generator = generatorLSTM(val_path, val_doc, batch_size)"
   ]
  },
  {
   "cell_type": "code",
   "execution_count": 23,
   "metadata": {},
   "outputs": [],
   "source": [
    "import datetime\n",
    "import os\n",
    "from tensorflow.keras.callbacks import ModelCheckpoint, ReduceLROnPlateau, EarlyStopping\n",
    "\n",
    "# Get the current date and time for model saving \n",
    "curr_dt_time = datetime.datetime.now()\n",
    "\n",
    "# Create model name with current timestamp\n",
    "model_name = 'model_init_' + str(curr_dt_time).replace(' ', '').replace(':', '_') + '/'\n",
    "\n",
    "# Check if the directory exists, and create it if not\n",
    "if not os.path.exists(model_name):\n",
    "    os.mkdir(model_name)\n",
    "\n",
    "# Define the file path with placeholders for epoch and performance metrics\n",
    "filepath = model_name + 'model-{epoch:05d}-{loss:.5f}-{categorical_accuracy:.5f}-{val_loss:.5f}-{val_categorical_accuracy:.5f}.h5'\n",
    "\n",
    "# ModelCheckpoint callback\n",
    "checkpoint = ModelCheckpoint(filepath, monitor='val_loss', verbose=1, save_best_only=False, save_weights_only=False, mode='auto', save_freq='epoch')\n",
    "\n",
    "# ReduceLROnPlateau callback (adjusted to monitor 'val_categorical_accuracy')\n",
    "reduce_lr = ReduceLROnPlateau(monitor='val_categorical_accuracy', factor=0.5, patience=3, min_lr=1e-6, verbose=1)\n",
    "\n",
    "# EarlyStopping callback\n",
    "early_stopping = EarlyStopping(monitor='val_categorical_accuracy', patience=5, restore_best_weights=True)\n",
    "\n",
    "# Combine callbacks into a list\n",
    "callbacks_list = [checkpoint, reduce_lr, early_stopping]"
   ]
  },
  {
   "cell_type": "code",
   "execution_count": 24,
   "metadata": {},
   "outputs": [],
   "source": [
    "if (num_train_sequences%batch_size) == 0:\n",
    "    steps_per_epoch = int(num_train_sequences/batch_size)\n",
    "else:\n",
    "    steps_per_epoch = (num_train_sequences//batch_size) + 1\n",
    "\n",
    "if (num_val_sequences%batch_size) == 0:\n",
    "    validation_steps = int(num_val_sequences/batch_size)\n",
    "else:\n",
    "    validation_steps = (num_val_sequences//batch_size) + 1"
   ]
  },
  {
   "cell_type": "code",
   "execution_count": 160,
   "metadata": {},
   "outputs": [
    {
     "name": "stdout",
     "output_type": "stream",
     "text": [
      "Source path =  /home/datasets/Project_data/train ; batch size = 16\n",
      "Epoch 1/16\n",
      "42/42 [==============================] - ETA: 0s - loss: 1.5358 - categorical_accuracy: 0.3394Source path =  /home/datasets/Project_data/val ; batch size = 16\n",
      "\n",
      "Epoch 00001: saving model to model_init_2024-11-0608_00_48.646260/model-00001-1.53585-0.33937-1.68070-0.25000.h5\n",
      "42/42 [==============================] - 53s 1s/step - loss: 1.5358 - categorical_accuracy: 0.3394 - val_loss: 1.6807 - val_categorical_accuracy: 0.2500 - lr: 0.0010\n",
      "Epoch 2/16\n",
      "42/42 [==============================] - ETA: 0s - loss: 1.3419 - categorical_accuracy: 0.4299\n",
      "Epoch 00002: saving model to model_init_2024-11-0608_00_48.646260/model-00002-1.34186-0.42986-2.16703-0.21000.h5\n",
      "42/42 [==============================] - 50s 1s/step - loss: 1.3419 - categorical_accuracy: 0.4299 - val_loss: 2.1670 - val_categorical_accuracy: 0.2100 - lr: 0.0010\n",
      "Epoch 3/16\n",
      "42/42 [==============================] - ETA: 0s - loss: 1.2417 - categorical_accuracy: 0.4902\n",
      "Epoch 00003: saving model to model_init_2024-11-0608_00_48.646260/model-00003-1.24167-0.49020-2.23695-0.19000.h5\n",
      "42/42 [==============================] - 48s 1s/step - loss: 1.2417 - categorical_accuracy: 0.4902 - val_loss: 2.2370 - val_categorical_accuracy: 0.1900 - lr: 0.0010\n",
      "Epoch 4/16\n",
      "42/42 [==============================] - ETA: 0s - loss: 1.1143 - categorical_accuracy: 0.5204\n",
      "Epoch 00004: saving model to model_init_2024-11-0608_00_48.646260/model-00004-1.11428-0.52036-2.37492-0.19000.h5\n",
      "\n",
      "Epoch 00004: ReduceLROnPlateau reducing learning rate to 0.0005000000237487257.\n",
      "42/42 [==============================] - 50s 1s/step - loss: 1.1143 - categorical_accuracy: 0.5204 - val_loss: 2.3749 - val_categorical_accuracy: 0.1900 - lr: 0.0010\n",
      "Epoch 5/16\n",
      "42/42 [==============================] - ETA: 0s - loss: 1.0702 - categorical_accuracy: 0.5505\n",
      "Epoch 00005: saving model to model_init_2024-11-0608_00_48.646260/model-00005-1.07019-0.55053-2.06516-0.34000.h5\n",
      "42/42 [==============================] - 49s 1s/step - loss: 1.0702 - categorical_accuracy: 0.5505 - val_loss: 2.0652 - val_categorical_accuracy: 0.3400 - lr: 5.0000e-04\n",
      "Epoch 6/16\n",
      "42/42 [==============================] - ETA: 0s - loss: 1.0017 - categorical_accuracy: 0.5777\n",
      "Epoch 00006: saving model to model_init_2024-11-0608_00_48.646260/model-00006-1.00175-0.57768-1.84383-0.30000.h5\n",
      "42/42 [==============================] - 50s 1s/step - loss: 1.0017 - categorical_accuracy: 0.5777 - val_loss: 1.8438 - val_categorical_accuracy: 0.3000 - lr: 5.0000e-04\n",
      "Epoch 7/16\n",
      "42/42 [==============================] - ETA: 0s - loss: 0.9354 - categorical_accuracy: 0.6335\n",
      "Epoch 00007: saving model to model_init_2024-11-0608_00_48.646260/model-00007-0.93541-0.63348-2.10875-0.24000.h5\n",
      "42/42 [==============================] - 48s 1s/step - loss: 0.9354 - categorical_accuracy: 0.6335 - val_loss: 2.1088 - val_categorical_accuracy: 0.2400 - lr: 5.0000e-04\n",
      "Epoch 8/16\n",
      "42/42 [==============================] - ETA: 0s - loss: 0.9680 - categorical_accuracy: 0.6229\n",
      "Epoch 00008: saving model to model_init_2024-11-0608_00_48.646260/model-00008-0.96803-0.62293-1.77305-0.32000.h5\n",
      "\n",
      "Epoch 00008: ReduceLROnPlateau reducing learning rate to 0.0002500000118743628.\n",
      "42/42 [==============================] - 50s 1s/step - loss: 0.9680 - categorical_accuracy: 0.6229 - val_loss: 1.7730 - val_categorical_accuracy: 0.3200 - lr: 5.0000e-04\n",
      "Epoch 9/16\n",
      "42/42 [==============================] - ETA: 0s - loss: 0.8782 - categorical_accuracy: 0.6410\n",
      "Epoch 00009: saving model to model_init_2024-11-0608_00_48.646260/model-00009-0.87819-0.64103-1.75492-0.33000.h5\n",
      "42/42 [==============================] - 49s 1s/step - loss: 0.8782 - categorical_accuracy: 0.6410 - val_loss: 1.7549 - val_categorical_accuracy: 0.3300 - lr: 2.5000e-04\n",
      "Epoch 10/16\n",
      "42/42 [==============================] - ETA: 0s - loss: 0.7982 - categorical_accuracy: 0.6863\n",
      "Epoch 00010: saving model to model_init_2024-11-0608_00_48.646260/model-00010-0.79823-0.68627-1.68477-0.40000.h5\n",
      "42/42 [==============================] - 51s 1s/step - loss: 0.7982 - categorical_accuracy: 0.6863 - val_loss: 1.6848 - val_categorical_accuracy: 0.4000 - lr: 2.5000e-04\n",
      "Epoch 11/16\n",
      "42/42 [==============================] - ETA: 0s - loss: 0.7194 - categorical_accuracy: 0.7345\n",
      "Epoch 00011: saving model to model_init_2024-11-0608_00_48.646260/model-00011-0.71942-0.73454-1.61168-0.42000.h5\n",
      "42/42 [==============================] - 52s 1s/step - loss: 0.7194 - categorical_accuracy: 0.7345 - val_loss: 1.6117 - val_categorical_accuracy: 0.4200 - lr: 2.5000e-04\n",
      "Epoch 12/16\n",
      "42/42 [==============================] - ETA: 0s - loss: 0.6825 - categorical_accuracy: 0.7451\n",
      "Epoch 00012: saving model to model_init_2024-11-0608_00_48.646260/model-00012-0.68254-0.74510-1.21154-0.46000.h5\n",
      "42/42 [==============================] - 51s 1s/step - loss: 0.6825 - categorical_accuracy: 0.7451 - val_loss: 1.2115 - val_categorical_accuracy: 0.4600 - lr: 2.5000e-04\n",
      "Epoch 13/16\n",
      "42/42 [==============================] - ETA: 0s - loss: 0.6104 - categorical_accuracy: 0.7647\n",
      "Epoch 00013: saving model to model_init_2024-11-0608_00_48.646260/model-00013-0.61041-0.76471-1.32367-0.46000.h5\n",
      "42/42 [==============================] - 50s 1s/step - loss: 0.6104 - categorical_accuracy: 0.7647 - val_loss: 1.3237 - val_categorical_accuracy: 0.4600 - lr: 2.5000e-04\n",
      "Epoch 14/16\n",
      "42/42 [==============================] - ETA: 0s - loss: 0.6558 - categorical_accuracy: 0.7753\n",
      "Epoch 00014: saving model to model_init_2024-11-0608_00_48.646260/model-00014-0.65583-0.77526-1.28070-0.52000.h5\n",
      "42/42 [==============================] - 48s 1s/step - loss: 0.6558 - categorical_accuracy: 0.7753 - val_loss: 1.2807 - val_categorical_accuracy: 0.5200 - lr: 2.5000e-04\n",
      "Epoch 15/16\n",
      "42/42 [==============================] - ETA: 0s - loss: 0.5827 - categorical_accuracy: 0.8069\n",
      "Epoch 00015: saving model to model_init_2024-11-0608_00_48.646260/model-00015-0.58274-0.80694-0.95241-0.57000.h5\n",
      "42/42 [==============================] - 50s 1s/step - loss: 0.5827 - categorical_accuracy: 0.8069 - val_loss: 0.9524 - val_categorical_accuracy: 0.5700 - lr: 2.5000e-04\n",
      "Epoch 16/16\n",
      "42/42 [==============================] - ETA: 0s - loss: 0.5294 - categorical_accuracy: 0.8205\n",
      "Epoch 00016: saving model to model_init_2024-11-0608_00_48.646260/model-00016-0.52941-0.82051-0.73594-0.75000.h5\n",
      "42/42 [==============================] - 50s 1s/step - loss: 0.5294 - categorical_accuracy: 0.8205 - val_loss: 0.7359 - val_categorical_accuracy: 0.7500 - lr: 2.5000e-04\n"
     ]
    }
   ],
   "source": [
    "# Model Fit\n",
    "\n",
    "history = CNNlstm_2.fit(train_generator, steps_per_epoch=steps_per_epoch, epochs=num_epochs, verbose=1, \n",
    "                    callbacks=callbacks_list, validation_data=val_generator, \n",
    "                    validation_steps=validation_steps, class_weight=None,\n",
    "                    workers=1, initial_epoch=0)"
   ]
  },
  {
   "cell_type": "code",
   "execution_count": 162,
   "metadata": {},
   "outputs": [
    {
     "data": {
      "image/png": "[encoded data removed]",
      "text/plain": [
       "<Figure size 432x288 with 1 Axes>"
      ]
     },
     "metadata": {
      "needs_background": "light"
     },
     "output_type": "display_data"
    },
    {
     "data": {
      "image/png": "[encoded data removed]",
      "text/plain": [
       "<Figure size 432x288 with 1 Axes>"
      ]
     },
     "metadata": {
      "needs_background": "light"
     },
     "output_type": "display_data"
    }
   ],
   "source": [
    "# Plotting the result of Model 7 :\n",
    "\n",
    "# summarize history for accuracy\n",
    "plt.plot(history.history['categorical_accuracy'])\n",
    "plt.plot(history.history['val_categorical_accuracy'])\n",
    "plt.title('model accuracy')\n",
    "plt.ylabel('accuracy')\n",
    "plt.xlabel('epoch')\n",
    "plt.legend(['train', 'test'], loc='upper left')\n",
    "plt.show()\n",
    "\n",
    "# summarize history for loss\n",
    "plt.plot(history.history['loss'])\n",
    "plt.plot(history.history['val_loss'])\n",
    "plt.title('model loss')\n",
    "\n",
    "plt.ylabel('loss')\n",
    "plt.xlabel('epoch')\n",
    "plt.legend(['train', 'test'], loc='upper left')\n",
    "plt.show()"
   ]
  },
  {
   "cell_type": "code",
   "execution_count": 96,
   "metadata": {},
   "outputs": [],
   "source": [
    "# Training Accuracy 82%, Validation Accuracy 75% "
   ]
  },
  {
   "cell_type": "markdown",
   "metadata": {},
   "source": [
    "### Model 8 : Conv3D+LSTM Model\n",
    "#### Current Changes in Model\n",
    "- Increased layers "
   ]
  },
  {
   "cell_type": "code",
   "execution_count": 25,
   "metadata": {},
   "outputs": [],
   "source": [
    "from tensorflow.keras.layers import GlobalAveragePooling3D\n",
    "input_shape = (30, 120, 120, 3)\n",
    "\n",
    "CNNlstm_3 = Sequential()\n",
    "CNNlstm_3.add(Conv3D(16, (3,3,3), padding='same', input_shape=input_shape))\n",
    "CNNlstm_3.add(Activation('relu'))\n",
    "CNNlstm_3.add(BatchNormalization())\n",
    "\n",
    "CNNlstm_3.add(Conv3D(16, (3,3,3), padding='same'))\n",
    "CNNlstm_3.add(Activation('relu'))\n",
    "CNNlstm_3.add(BatchNormalization())\n",
    "CNNlstm_3.add(MaxPooling3D(pool_size=(2, 2, 2)))\n",
    "\n",
    "CNNlstm_3.add(Conv3D(32, (3,3,3), padding='same'))\n",
    "CNNlstm_3.add(Activation('relu'))\n",
    "CNNlstm_3.add(BatchNormalization())\n",
    "\n",
    "CNNlstm_3.add(Conv3D(32, (3,3,3), padding='same'))\n",
    "CNNlstm_3.add(Activation('relu'))\n",
    "CNNlstm_3.add(BatchNormalization())\n",
    "CNNlstm_3.add(MaxPooling3D(pool_size=(2, 2, 2)))\n",
    "\n",
    "CNNlstm_3.add(Conv3D(64, (3,3,3), padding='same'))\n",
    "CNNlstm_3.add(Activation('relu'))\n",
    "CNNlstm_3.add(BatchNormalization())\n",
    "\n",
    "CNNlstm_3.add(Conv3D(64, (3,3,3), padding='same'))\n",
    "CNNlstm_3.add(Activation('relu'))\n",
    "CNNlstm_3.add(BatchNormalization())\n",
    "CNNlstm_3.add(MaxPooling3D(pool_size=(2, 2, 2)))\n",
    "\n",
    "CNNlstm_3.add(Conv3D(128, (3,3,3), padding='same'))\n",
    "CNNlstm_3.add(Activation('relu'))\n",
    "CNNlstm_3.add(BatchNormalization())\n",
    "\n",
    "CNNlstm_3.add(Conv3D(128, (3,3,3), padding='same'))\n",
    "CNNlstm_3.add(Activation('relu'))\n",
    "CNNlstm_3.add(BatchNormalization())\n",
    "CNNlstm_3.add(MaxPooling3D(pool_size=(2, 2, 2)))\n",
    "\n",
    "# Replace Flatten with GlobalAveragePooling3D for compatibility\n",
    "CNNlstm_3.add(GlobalAveragePooling3D())\n",
    "\n",
    "# Fully connected layers\n",
    "CNNlstm_3.add(Dense(64, activation='relu'))\n",
    "CNNlstm_3.add(BatchNormalization())\n",
    "CNNlstm_3.add(Dropout(0.3))\n",
    "\n",
    "CNNlstm_3.add(Dense(64, activation='relu'))\n",
    "CNNlstm_3.add(BatchNormalization())\n",
    "CNNlstm_3.add(Dropout(0.3))\n",
    "\n",
    "# Output layer\n",
    "CNNlstm_3.add(Dense(5, activation='softmax'))"
   ]
  },
  {
   "cell_type": "code",
   "execution_count": 26,
   "metadata": {},
   "outputs": [
    {
     "name": "stdout",
     "output_type": "stream",
     "text": [
      "Model: \"sequential_2\"\n",
      "_________________________________________________________________\n",
      " Layer (type)                Output Shape              Param #   \n",
      "=================================================================\n",
      " conv3d (Conv3D)             (None, 30, 120, 120, 16)  1312      \n",
      "                                                                 \n",
      " activation (Activation)     (None, 30, 120, 120, 16)  0         \n",
      "                                                                 \n",
      " batch_normalization_10 (Bat  (None, 30, 120, 120, 16)  64       \n",
      " chNormalization)                                                \n",
      "                                                                 \n",
      " conv3d_1 (Conv3D)           (None, 30, 120, 120, 16)  6928      \n",
      "                                                                 \n",
      " activation_1 (Activation)   (None, 30, 120, 120, 16)  0         \n",
      "                                                                 \n",
      " batch_normalization_11 (Bat  (None, 30, 120, 120, 16)  64       \n",
      " chNormalization)                                                \n",
      "                                                                 \n",
      " max_pooling3d (MaxPooling3D  (None, 15, 60, 60, 16)   0         \n",
      " )                                                               \n",
      "                                                                 \n",
      " conv3d_2 (Conv3D)           (None, 15, 60, 60, 32)    13856     \n",
      "                                                                 \n",
      " activation_2 (Activation)   (None, 15, 60, 60, 32)    0         \n",
      "                                                                 \n",
      " batch_normalization_12 (Bat  (None, 15, 60, 60, 32)   128       \n",
      " chNormalization)                                                \n",
      "                                                                 \n",
      " conv3d_3 (Conv3D)           (None, 15, 60, 60, 32)    27680     \n",
      "                                                                 \n",
      " activation_3 (Activation)   (None, 15, 60, 60, 32)    0         \n",
      "                                                                 \n",
      " batch_normalization_13 (Bat  (None, 15, 60, 60, 32)   128       \n",
      " chNormalization)                                                \n",
      "                                                                 \n",
      " max_pooling3d_1 (MaxPooling  (None, 7, 30, 30, 32)    0         \n",
      " 3D)                                                             \n",
      "                                                                 \n",
      " conv3d_4 (Conv3D)           (None, 7, 30, 30, 64)     55360     \n",
      "                                                                 \n",
      " activation_4 (Activation)   (None, 7, 30, 30, 64)     0         \n",
      "                                                                 \n",
      " batch_normalization_14 (Bat  (None, 7, 30, 30, 64)    256       \n",
      " chNormalization)                                                \n",
      "                                                                 \n",
      " conv3d_5 (Conv3D)           (None, 7, 30, 30, 64)     110656    \n",
      "                                                                 \n",
      " activation_5 (Activation)   (None, 7, 30, 30, 64)     0         \n",
      "                                                                 \n",
      " batch_normalization_15 (Bat  (None, 7, 30, 30, 64)    256       \n",
      " chNormalization)                                                \n",
      "                                                                 \n",
      " max_pooling3d_2 (MaxPooling  (None, 3, 15, 15, 64)    0         \n",
      " 3D)                                                             \n",
      "                                                                 \n",
      " conv3d_6 (Conv3D)           (None, 3, 15, 15, 128)    221312    \n",
      "                                                                 \n",
      " activation_6 (Activation)   (None, 3, 15, 15, 128)    0         \n",
      "                                                                 \n",
      " batch_normalization_16 (Bat  (None, 3, 15, 15, 128)   512       \n",
      " chNormalization)                                                \n",
      "                                                                 \n",
      " conv3d_7 (Conv3D)           (None, 3, 15, 15, 128)    442496    \n",
      "                                                                 \n",
      " activation_7 (Activation)   (None, 3, 15, 15, 128)    0         \n",
      "                                                                 \n",
      " batch_normalization_17 (Bat  (None, 3, 15, 15, 128)   512       \n",
      " chNormalization)                                                \n",
      "                                                                 \n",
      " max_pooling3d_3 (MaxPooling  (None, 1, 7, 7, 128)     0         \n",
      " 3D)                                                             \n",
      "                                                                 \n",
      " global_average_pooling3d (G  (None, 128)              0         \n",
      " lobalAveragePooling3D)                                          \n",
      "                                                                 \n",
      " dense_4 (Dense)             (None, 64)                8256      \n",
      "                                                                 \n",
      " batch_normalization_18 (Bat  (None, 64)               256       \n",
      " chNormalization)                                                \n",
      "                                                                 \n",
      " dropout_4 (Dropout)         (None, 64)                0         \n",
      "                                                                 \n",
      " dense_5 (Dense)             (None, 64)                4160      \n",
      "                                                                 \n",
      " batch_normalization_19 (Bat  (None, 64)               256       \n",
      " chNormalization)                                                \n",
      "                                                                 \n",
      " dropout_5 (Dropout)         (None, 64)                0         \n",
      "                                                                 \n",
      " dense_6 (Dense)             (None, 5)                 325       \n",
      "                                                                 \n",
      "=================================================================\n",
      "Total params: 894,773\n",
      "Trainable params: 893,557\n",
      "Non-trainable params: 1,216\n",
      "_________________________________________________________________\n",
      "None\n"
     ]
    }
   ],
   "source": [
    "import tensorflow as tf\n",
    "from tensorflow.keras import optimizers\n",
    "\n",
    "# Define the Adam optimizer with a fixed learning rate\n",
    "optimiser = optimizers.Adam(learning_rate=0.001)  # No decay applied here\n",
    "\n",
    "# Define your model (make sure your modelConv3D_1 is defined before this)\n",
    "CNNlstm_3.compile(optimizer=optimiser, loss='categorical_crossentropy', metrics=['categorical_accuracy'])\n",
    "\n",
    "# Print the model summary\n",
    "print(CNNlstm_3.summary())\n"
   ]
  },
  {
   "cell_type": "code",
   "execution_count": 27,
   "metadata": {},
   "outputs": [
    {
     "name": "stdout",
     "output_type": "stream",
     "text": [
      "Total Params in model: 894773\n"
     ]
    }
   ],
   "source": [
    "print(\"Total Params in model:\", CNNlstm_3.count_params())"
   ]
  },
  {
   "cell_type": "code",
   "execution_count": 28,
   "metadata": {},
   "outputs": [
    {
     "name": "stdout",
     "output_type": "stream",
     "text": [
      "# training sequences = 663\n",
      "# validation sequences = 100\n",
      "# epochs = 18\n"
     ]
    }
   ],
   "source": [
    "curr_dt_time = datetime.datetime.now()\n",
    "train_path = '/home/datasets/Project_data/train'\n",
    "val_path = '/home/datasets/Project_data/val'\n",
    "num_train_sequences = len(train_doc)\n",
    "print('# training sequences =', num_train_sequences)\n",
    "num_val_sequences = len(val_doc)\n",
    "print('# validation sequences =', num_val_sequences)\n",
    "\n",
    "# choose the number of epochs & batch -size\n",
    "batch_size = 16\n",
    "num_epochs = 18\n",
    "print ('# epochs =', num_epochs)\n"
   ]
  },
  {
   "cell_type": "code",
   "execution_count": 29,
   "metadata": {},
   "outputs": [],
   "source": [
    "train_generator = generatorLSTM(train_path, train_doc, batch_size)\n",
    "val_generator = generatorLSTM(val_path, val_doc, batch_size)"
   ]
  },
  {
   "cell_type": "code",
   "execution_count": 33,
   "metadata": {},
   "outputs": [],
   "source": [
    "import datetime\n",
    "import os\n",
    "from tensorflow.keras.callbacks import ModelCheckpoint, ReduceLROnPlateau, EarlyStopping\n",
    "\n",
    "# Get the current date and time for model saving\n",
    "curr_dt_time = datetime.datetime.now()\n",
    "\n",
    "# Create model name with current timestamp\n",
    "model_name = 'model_init_' + str(curr_dt_time).replace(' ', '').replace(':', '_') + '/'\n",
    "\n",
    "# Check if the directory exists, and create it if not\n",
    "if not os.path.exists(model_name):\n",
    "    os.mkdir(model_name)\n",
    "\n",
    "# Define the file path with placeholders for epoch and performance metrics\n",
    "filepath = model_name + 'model-{epoch:05d}-{loss:.5f}-{categorical_accuracy:.5f}-{val_loss:.5f}-{val_categorical_accuracy:.5f}.h5'\n",
    "\n",
    "# ModelCheckpoint callback - only saves the best model to prevent storage issues\n",
    "checkpoint = ModelCheckpoint(filepath, monitor='val_loss', verbose=1, save_best_only=True, save_weights_only=False, mode='auto', save_freq='epoch')\n",
    "\n",
    "# ReduceLROnPlateau callback - reduces LR if 'val_categorical_accuracy' plateaus\n",
    "reduce_lr = ReduceLROnPlateau(monitor='val_categorical_accuracy', factor=0.5, patience=3, min_lr=1e-6, verbose=1)\n",
    "\n",
    "# EarlyStopping callback - stops training early if there's no improvement in 'val_categorical_accuracy'\n",
    "early_stopping = EarlyStopping(monitor='val_categorical_accuracy', patience=5, restore_best_weights=True)\n",
    "\n",
    "# Combine callbacks into a list\n",
    "callbacks_list = [checkpoint, reduce_lr, early_stopping]"
   ]
  },
  {
   "cell_type": "code",
   "execution_count": 34,
   "metadata": {},
   "outputs": [],
   "source": [
    "if (num_train_sequences%batch_size) == 0:\n",
    "    steps_per_epoch = int(num_train_sequences/batch_size)\n",
    "else:\n",
    "    steps_per_epoch = (num_train_sequences//batch_size) + 1\n",
    "\n",
    "if (num_val_sequences%batch_size) == 0:\n",
    "    validation_steps = int(num_val_sequences/batch_size)\n",
    "else:\n",
    "    validation_steps = (num_val_sequences//batch_size) + 1"
   ]
  },
  {
   "cell_type": "code",
   "execution_count": 35,
   "metadata": {},
   "outputs": [
    {
     "name": "stdout",
     "output_type": "stream",
     "text": [
      "Epoch 1/18\n",
      "42/42 [==============================] - ETA: 0s - loss: 1.2275 - categorical_accuracy: 0.4781\n",
      "Epoch 00001: val_loss improved from inf to 4.59325, saving model to model_init_2024-11-0611_50_42.907619/model-00001-1.22751-0.47813-4.59325-0.17000.h5\n",
      "42/42 [==============================] - 50s 1s/step - loss: 1.2275 - categorical_accuracy: 0.4781 - val_loss: 4.5933 - val_categorical_accuracy: 0.1700 - lr: 0.0010\n",
      "Epoch 2/18\n",
      "42/42 [==============================] - ETA: 0s - loss: 1.1964 - categorical_accuracy: 0.4857\n",
      "Epoch 00002: val_loss improved from 4.59325 to 1.96328, saving model to model_init_2024-11-0611_50_42.907619/model-00002-1.19637-0.48567-1.96328-0.43000.h5\n",
      "42/42 [==============================] - 49s 1s/step - loss: 1.1964 - categorical_accuracy: 0.4857 - val_loss: 1.9633 - val_categorical_accuracy: 0.4300 - lr: 0.0010\n",
      "Epoch 3/18\n",
      "42/42 [==============================] - ETA: 0s - loss: 1.0908 - categorical_accuracy: 0.5189\n",
      "Epoch 00003: val_loss did not improve from 1.96328\n",
      "42/42 [==============================] - 51s 1s/step - loss: 1.0908 - categorical_accuracy: 0.5189 - val_loss: 3.4344 - val_categorical_accuracy: 0.2500 - lr: 0.0010\n",
      "Epoch 4/18\n",
      "42/42 [==============================] - ETA: 0s - loss: 1.0329 - categorical_accuracy: 0.5490\n",
      "Epoch 00004: val_loss did not improve from 1.96328\n",
      "42/42 [==============================] - 48s 1s/step - loss: 1.0329 - categorical_accuracy: 0.5490 - val_loss: 3.2937 - val_categorical_accuracy: 0.2200 - lr: 0.0010\n",
      "Epoch 5/18\n",
      "42/42 [==============================] - ETA: 0s - loss: 1.0141 - categorical_accuracy: 0.5566\n",
      "Epoch 00005: val_loss did not improve from 1.96328\n",
      "\n",
      "Epoch 00005: ReduceLROnPlateau reducing learning rate to 0.0005000000237487257.\n",
      "42/42 [==============================] - 52s 1s/step - loss: 1.0141 - categorical_accuracy: 0.5566 - val_loss: 2.1956 - val_categorical_accuracy: 0.2800 - lr: 0.0010\n",
      "Epoch 6/18\n",
      "42/42 [==============================] - ETA: 0s - loss: 0.9769 - categorical_accuracy: 0.5852\n",
      "Epoch 00006: val_loss improved from 1.96328 to 1.10774, saving model to model_init_2024-11-0611_50_42.907619/model-00006-0.97689-0.58522-1.10774-0.48000.h5\n",
      "42/42 [==============================] - 50s 1s/step - loss: 0.9769 - categorical_accuracy: 0.5852 - val_loss: 1.1077 - val_categorical_accuracy: 0.4800 - lr: 5.0000e-04\n",
      "Epoch 7/18\n",
      "42/42 [==============================] - ETA: 0s - loss: 0.9007 - categorical_accuracy: 0.6531\n",
      "Epoch 00007: val_loss improved from 1.10774 to 1.05661, saving model to model_init_2024-11-0611_50_42.907619/model-00007-0.90070-0.65309-1.05661-0.49000.h5\n",
      "42/42 [==============================] - 50s 1s/step - loss: 0.9007 - categorical_accuracy: 0.6531 - val_loss: 1.0566 - val_categorical_accuracy: 0.4900 - lr: 5.0000e-04\n",
      "Epoch 8/18\n",
      "42/42 [==============================] - ETA: 0s - loss: 0.8805 - categorical_accuracy: 0.6410\n",
      "Epoch 00008: val_loss did not improve from 1.05661\n",
      "42/42 [==============================] - 51s 1s/step - loss: 0.8805 - categorical_accuracy: 0.6410 - val_loss: 1.3190 - val_categorical_accuracy: 0.5600 - lr: 5.0000e-04\n",
      "Epoch 9/18\n",
      "42/42 [==============================] - ETA: 0s - loss: 0.8185 - categorical_accuracy: 0.6637\n",
      "Epoch 00009: val_loss improved from 1.05661 to 1.05145, saving model to model_init_2024-11-0611_50_42.907619/model-00009-0.81848-0.66365-1.05145-0.56000.h5\n",
      "42/42 [==============================] - 50s 1s/step - loss: 0.8185 - categorical_accuracy: 0.6637 - val_loss: 1.0515 - val_categorical_accuracy: 0.5600 - lr: 5.0000e-04\n",
      "Epoch 10/18\n",
      "42/42 [==============================] - ETA: 0s - loss: 0.7442 - categorical_accuracy: 0.6923\n",
      "Epoch 00010: val_loss improved from 1.05145 to 0.88106, saving model to model_init_2024-11-0611_50_42.907619/model-00010-0.74425-0.69231-0.88106-0.68000.h5\n",
      "42/42 [==============================] - 49s 1s/step - loss: 0.7442 - categorical_accuracy: 0.6923 - val_loss: 0.8811 - val_categorical_accuracy: 0.6800 - lr: 5.0000e-04\n",
      "Epoch 11/18\n",
      "42/42 [==============================] - ETA: 0s - loss: 0.7640 - categorical_accuracy: 0.6893\n",
      "Epoch 00011: val_loss did not improve from 0.88106\n",
      "42/42 [==============================] - 49s 1s/step - loss: 0.7640 - categorical_accuracy: 0.6893 - val_loss: 4.5152 - val_categorical_accuracy: 0.1800 - lr: 5.0000e-04\n",
      "Epoch 12/18\n",
      "42/42 [==============================] - ETA: 0s - loss: 0.7641 - categorical_accuracy: 0.6938\n",
      "Epoch 00012: val_loss improved from 0.88106 to 0.76535, saving model to model_init_2024-11-0611_50_42.907619/model-00012-0.76407-0.69382-0.76535-0.71000.h5\n",
      "42/42 [==============================] - 51s 1s/step - loss: 0.7641 - categorical_accuracy: 0.6938 - val_loss: 0.7654 - val_categorical_accuracy: 0.7100 - lr: 5.0000e-04\n",
      "Epoch 13/18\n",
      "42/42 [==============================] - ETA: 0s - loss: 0.6915 - categorical_accuracy: 0.7270\n",
      "Epoch 00013: val_loss improved from 0.76535 to 0.60273, saving model to model_init_2024-11-0611_50_42.907619/model-00013-0.69155-0.72700-0.60273-0.77000.h5\n",
      "42/42 [==============================] - 54s 1s/step - loss: 0.6915 - categorical_accuracy: 0.7270 - val_loss: 0.6027 - val_categorical_accuracy: 0.7700 - lr: 5.0000e-04\n",
      "Epoch 14/18\n",
      "42/42 [==============================] - ETA: 0s - loss: 0.6221 - categorical_accuracy: 0.7858\n",
      "Epoch 00014: val_loss did not improve from 0.60273\n",
      "42/42 [==============================] - 51s 1s/step - loss: 0.6221 - categorical_accuracy: 0.7858 - val_loss: 1.6940 - val_categorical_accuracy: 0.5400 - lr: 5.0000e-04\n",
      "Epoch 15/18\n",
      "42/42 [==============================] - ETA: 0s - loss: 0.6980 - categorical_accuracy: 0.7255\n",
      "Epoch 00015: val_loss did not improve from 0.60273\n",
      "42/42 [==============================] - 59s 1s/step - loss: 0.6980 - categorical_accuracy: 0.7255 - val_loss: 1.0784 - val_categorical_accuracy: 0.6400 - lr: 5.0000e-04\n",
      "Epoch 16/18\n",
      "42/42 [==============================] - ETA: 0s - loss: 0.6414 - categorical_accuracy: 0.7632\n",
      "Epoch 00016: val_loss did not improve from 0.60273\n",
      "\n",
      "Epoch 00016: ReduceLROnPlateau reducing learning rate to 0.0002500000118743628.\n",
      "42/42 [==============================] - 48s 1s/step - loss: 0.6414 - categorical_accuracy: 0.7632 - val_loss: 0.8660 - val_categorical_accuracy: 0.7300 - lr: 5.0000e-04\n",
      "Epoch 17/18\n",
      "42/42 [==============================] - ETA: 0s - loss: 0.5184 - categorical_accuracy: 0.8009\n",
      "Epoch 00017: val_loss improved from 0.60273 to 0.53989, saving model to model_init_2024-11-0611_50_42.907619/model-00017-0.51843-0.80090-0.53989-0.77000.h5\n",
      "42/42 [==============================] - 53s 1s/step - loss: 0.5184 - categorical_accuracy: 0.8009 - val_loss: 0.5399 - val_categorical_accuracy: 0.7700 - lr: 2.5000e-04\n",
      "Epoch 18/18\n",
      "42/42 [==============================] - ETA: 0s - loss: 0.5172 - categorical_accuracy: 0.8100\n",
      "Epoch 00018: val_loss did not improve from 0.53989\n",
      "42/42 [==============================] - 49s 1s/step - loss: 0.5172 - categorical_accuracy: 0.8100 - val_loss: 0.6541 - val_categorical_accuracy: 0.7300 - lr: 2.5000e-04\n"
     ]
    }
   ],
   "source": [
    "#Model Fit\n",
    "\n",
    "history = CNNlstm_3.fit(train_generator, steps_per_epoch=steps_per_epoch, epochs=num_epochs, verbose=1, \n",
    "                    callbacks=callbacks_list, validation_data=val_generator, \n",
    "                    validation_steps=validation_steps, class_weight=None,\n",
    "                    workers=1, initial_epoch=0)"
   ]
  },
  {
   "cell_type": "code",
   "execution_count": 39,
   "metadata": {},
   "outputs": [
    {
     "data": {
      "image/png": "[encoded data removed]",
      "text/plain": [
       "<Figure size 432x288 with 1 Axes>"
      ]
     },
     "metadata": {
      "needs_background": "light"
     },
     "output_type": "display_data"
    },
    {
     "data": {
      "image/png": "[encoded data removed]",
      "text/plain": [
       "<Figure size 432x288 with 1 Axes>"
      ]
     },
     "metadata": {
      "needs_background": "light"
     },
     "output_type": "display_data"
    }
   ],
   "source": [
    "# Plotting the result of Model 8 :\n",
    "\n",
    "# summarize history for accuracy\n",
    "plt.plot(history.history['categorical_accuracy'])\n",
    "plt.plot(history.history['val_categorical_accuracy'])\n",
    "plt.title('model accuracy')\n",
    "plt.ylabel('accuracy')\n",
    "plt.xlabel('epoch')\n",
    "plt.legend(['train', 'test'], loc='upper left')\n",
    "plt.show()\n",
    "\n",
    "# summarize history for loss\n",
    "plt.plot(history.history['loss'])\n",
    "plt.plot(history.history['val_loss'])\n",
    "plt.title('model loss')\n",
    "plt.ylabel('loss')\n",
    "plt.xlabel('epoch')\n",
    "plt.legend(['train', 'test'], loc='upper left')\n",
    "plt.show()"
   ]
  },
  {
   "cell_type": "code",
   "execution_count": 38,
   "metadata": {},
   "outputs": [],
   "source": [
    "# Accuracy 81% validation Accuracy 73%"
   ]
  },
  {
   "cell_type": "markdown",
   "metadata": {},
   "source": [
    "### Model 9 : TimeDistributed Conv2D+GRU LSTM"
   ]
  },
  {
   "cell_type": "code",
   "execution_count": 138,
   "metadata": {},
   "outputs": [],
   "source": [
    "from tensorflow.keras.models import Sequential\n",
    "from tensorflow.keras.layers import TimeDistributed, Conv2D, BatchNormalization, MaxPooling2D, GRU, Dropout, Dense, Flatten\n",
    "\n",
    "input_shape = (30, 120, 120, 3)\n",
    "\n",
    "GRU_lstm = Sequential()\n",
    "\n",
    "GRU_lstm.add(TimeDistributed(Conv2D(16, (3, 3), padding='same', activation='relu'), input_shape=input_shape))\n",
    "GRU_lstm.add(TimeDistributed(BatchNormalization()))\n",
    "GRU_lstm.add(TimeDistributed(MaxPooling2D((2, 2))))\n",
    "\n",
    "GRU_lstm.add(TimeDistributed(Conv2D(32, (3, 3), padding='same', activation='relu')))\n",
    "GRU_lstm.add(TimeDistributed(BatchNormalization()))\n",
    "GRU_lstm.add(TimeDistributed(MaxPooling2D((2, 2))))\n",
    "\n",
    "GRU_lstm.add(TimeDistributed(Conv2D(64, (3, 3), padding='same', activation='relu')))\n",
    "GRU_lstm.add(TimeDistributed(BatchNormalization()))\n",
    "GRU_lstm.add(TimeDistributed(MaxPooling2D((2, 2))))\n",
    "\n",
    "GRU_lstm.add(TimeDistributed(Conv2D(128, (3, 3), padding='same', activation='relu')))\n",
    "GRU_lstm.add(TimeDistributed(BatchNormalization()))\n",
    "GRU_lstm.add(TimeDistributed(MaxPooling2D((2, 2))))\n",
    "\n",
    "# Flatten each frame's feature map to prepare it for the GRU layer\n",
    "GRU_lstm.add(TimeDistributed(Flatten()))\n",
    "\n",
    "# GRU layer to process temporal sequence\n",
    "GRU_lstm.add(GRU(64))\n",
    "GRU_lstm.add(Dropout(0.3))\n",
    "\n",
    "# Fully connected layers for classification\n",
    "GRU_lstm.add(Dense(64, activation='relu'))\n",
    "GRU_lstm.add(Dropout(0.3))\n",
    "\n",
    "# Output layer with 5 units for classification\n",
    "GRU_lstm.add(Dense(5, activation='softmax'))"
   ]
  },
  {
   "cell_type": "code",
   "execution_count": 139,
   "metadata": {},
   "outputs": [
    {
     "name": "stdout",
     "output_type": "stream",
     "text": [
      "(16, 30, 120, 120, 3)\n"
     ]
    }
   ],
   "source": [
    "sample_batch = next(train_generator)\n",
    "print(sample_batch[0].shape)"
   ]
  },
  {
   "cell_type": "code",
   "execution_count": 140,
   "metadata": {},
   "outputs": [
    {
     "name": "stdout",
     "output_type": "stream",
     "text": [
      "Model: \"sequential_11\"\n",
      "_________________________________________________________________\n",
      " Layer (type)                Output Shape              Param #   \n",
      "=================================================================\n",
      " time_distributed_100 (TimeD  (None, 30, 120, 120, 16)  448      \n",
      " istributed)                                                     \n",
      "                                                                 \n",
      " time_distributed_101 (TimeD  (None, 30, 120, 120, 16)  64       \n",
      " istributed)                                                     \n",
      "                                                                 \n",
      " time_distributed_102 (TimeD  (None, 30, 60, 60, 16)   0         \n",
      " istributed)                                                     \n",
      "                                                                 \n",
      " time_distributed_103 (TimeD  (None, 30, 60, 60, 32)   4640      \n",
      " istributed)                                                     \n",
      "                                                                 \n",
      " time_distributed_104 (TimeD  (None, 30, 60, 60, 32)   128       \n",
      " istributed)                                                     \n",
      "                                                                 \n",
      " time_distributed_105 (TimeD  (None, 30, 30, 30, 32)   0         \n",
      " istributed)                                                     \n",
      "                                                                 \n",
      " time_distributed_106 (TimeD  (None, 30, 30, 30, 64)   18496     \n",
      " istributed)                                                     \n",
      "                                                                 \n",
      " time_distributed_107 (TimeD  (None, 30, 30, 30, 64)   256       \n",
      " istributed)                                                     \n",
      "                                                                 \n",
      " time_distributed_108 (TimeD  (None, 30, 15, 15, 64)   0         \n",
      " istributed)                                                     \n",
      "                                                                 \n",
      " time_distributed_109 (TimeD  (None, 30, 15, 15, 128)  73856     \n",
      " istributed)                                                     \n",
      "                                                                 \n",
      " time_distributed_110 (TimeD  (None, 30, 15, 15, 128)  512       \n",
      " istributed)                                                     \n",
      "                                                                 \n",
      " time_distributed_111 (TimeD  (None, 30, 7, 7, 128)    0         \n",
      " istributed)                                                     \n",
      "                                                                 \n",
      " time_distributed_112 (TimeD  (None, 30, 6272)         0         \n",
      " istributed)                                                     \n",
      "                                                                 \n",
      " gru_4 (GRU)                 (None, 64)                1216896   \n",
      "                                                                 \n",
      " dropout_22 (Dropout)        (None, 64)                0         \n",
      "                                                                 \n",
      " dense_23 (Dense)            (None, 64)                4160      \n",
      "                                                                 \n",
      " dropout_23 (Dropout)        (None, 64)                0         \n",
      "                                                                 \n",
      " dense_24 (Dense)            (None, 5)                 325       \n",
      "                                                                 \n",
      "=================================================================\n",
      "Total params: 1,319,781\n",
      "Trainable params: 1,319,301\n",
      "Non-trainable params: 480\n",
      "_________________________________________________________________\n",
      "None\n"
     ]
    }
   ],
   "source": [
    "import tensorflow as tf\n",
    "from tensorflow.keras import optimizers\n",
    "\n",
    "# Define the Adam optimizer with a fixed learning rate\n",
    "optimiser = optimizers.Adam(learning_rate=0.001)  # No decay applied here\n",
    "\n",
    "# Define your model (make sure your modelConv3D_1 is defined before this)\n",
    "GRU_lstm.compile(optimizer=optimiser, loss='categorical_crossentropy', metrics=['categorical_accuracy'])\n",
    "\n",
    "# Print the model summary\n",
    "print(GRU_lstm.summary())"
   ]
  },
  {
   "cell_type": "code",
   "execution_count": 141,
   "metadata": {},
   "outputs": [
    {
     "name": "stdout",
     "output_type": "stream",
     "text": [
      "Total Params in model: 1319781\n"
     ]
    }
   ],
   "source": [
    "print(\"Total Params in model:\", GRU_lstm.count_params())"
   ]
  },
  {
   "cell_type": "code",
   "execution_count": 142,
   "metadata": {},
   "outputs": [
    {
     "name": "stdout",
     "output_type": "stream",
     "text": [
      "# training sequences = 663\n",
      "# validation sequences = 100\n",
      "# epochs = 20\n"
     ]
    }
   ],
   "source": [
    "batch_size = 16\n",
    "\n",
    "curr_dt_time = datetime.datetime.now()\n",
    "train_path = '/home/datasets/Project_data/train'\n",
    "val_path = '/home/datasets/Project_data/val'\n",
    "num_train_sequences = len(train_doc)\n",
    "print('# training sequences =', num_train_sequences)\n",
    "num_val_sequences = len(val_doc)\n",
    "print('# validation sequences =', num_val_sequences)\n",
    "\n",
    "# choose the number of epochs\n",
    "num_epochs = 20\n",
    "print ('# epochs =', num_epochs)\n"
   ]
  },
  {
   "cell_type": "code",
   "execution_count": 143,
   "metadata": {},
   "outputs": [],
   "source": [
    "train_generator = generatorLSTM(train_path, train_doc, batch_size)\n",
    "val_generator = generatorLSTM(val_path, val_doc, batch_size)"
   ]
  },
  {
   "cell_type": "code",
   "execution_count": 144,
   "metadata": {},
   "outputs": [],
   "source": [
    "import datetime\n",
    "import os\n",
    "from tensorflow.keras.callbacks import ModelCheckpoint, ReduceLROnPlateau,EarlyStopping\n",
    "\n",
    "# Get the current date and time for model saving\n",
    "curr_dt_time = datetime.datetime.now()\n",
    "\n",
    "# Create model name with current timestamp\n",
    "model_name = 'model_init_' + str(curr_dt_time).replace(' ', '').replace(':', '_') + '/'\n",
    "\n",
    "# Check if the directory exists, and create it if not\n",
    "if not os.path.exists(model_name):\n",
    "    os.mkdir(model_name)\n",
    "\n",
    "# Define the file path with placeholders for epoch and performance metrics\n",
    "filepath = model_name + 'model-{epoch:05d}-{loss:.5f}-{categorical_accuracy:.5f}-{val_loss:.5f}-{val_categorical_accuracy:.5f}.h5'\n",
    "\n",
    "# ModelCheckpoint callback - only saves the best model to prevent storage issues\n",
    "checkpoint = ModelCheckpoint(filepath, monitor='val_loss', verbose=1, save_best_only=True, save_weights_only=False, mode='auto', save_freq='epoch')\n",
    "\n",
    "# ReduceLROnPlateau callback - reduces LR if 'val_categorical_accuracy' plateaus\n",
    "reduce_lr = ReduceLROnPlateau(monitor='val_categorical_accuracy', factor=0.5, patience=3, min_lr=1e-6, verbose=1)\n",
    "\n",
    "# EarlyStopping callback - stops training early if there's no improvement in 'val_categorical_accuracy'\n",
    "early_stopping = EarlyStopping(monitor='val_categorical_accuracy', patience=5, restore_best_weights=True)\n",
    "\n",
    "# Combine callbacks into a list\n",
    "callbacks_list = [checkpoint, reduce_lr]"
   ]
  },
  {
   "cell_type": "code",
   "execution_count": 145,
   "metadata": {},
   "outputs": [],
   "source": [
    "if (num_train_sequences%batch_size) == 0:\n",
    "    steps_per_epoch = int(num_train_sequences/batch_size)\n",
    "else:\n",
    "    steps_per_epoch = (num_train_sequences//batch_size) + 1\n",
    "\n",
    "if (num_val_sequences%batch_size) == 0:\n",
    "    validation_steps = int(num_val_sequences/batch_size)\n",
    "else:\n",
    "    validation_steps = (num_val_sequences//batch_size) + 1"
   ]
  },
  {
   "cell_type": "code",
   "execution_count": 146,
   "metadata": {},
   "outputs": [
    {
     "name": "stdout",
     "output_type": "stream",
     "text": [
      "Source path =  /home/datasets/Project_data/train ; batch size = 16\n",
      "Epoch 1/20\n",
      "42/42 [==============================] - ETA: 0s - loss: 1.5234 - categorical_accuracy: 0.3454Source path =  /home/datasets/Project_data/val ; batch size = 16\n",
      "\n",
      "Epoch 00001: val_loss improved from inf to 2.07090, saving model to model_init_2024-11-0614_42_26.096959/model-00001-1.52339-0.34540-2.07090-0.22000.h5\n",
      "42/42 [==============================] - 50s 1s/step - loss: 1.5234 - categorical_accuracy: 0.3454 - val_loss: 2.0709 - val_categorical_accuracy: 0.2200 - lr: 0.0010\n",
      "Epoch 2/20\n",
      "42/42 [==============================] - ETA: 0s - loss: 1.3379 - categorical_accuracy: 0.4268\n",
      "Epoch 00002: val_loss did not improve from 2.07090\n",
      "42/42 [==============================] - 47s 1s/step - loss: 1.3379 - categorical_accuracy: 0.4268 - val_loss: 2.2607 - val_categorical_accuracy: 0.2100 - lr: 0.0010\n",
      "Epoch 3/20\n",
      "42/42 [==============================] - ETA: 0s - loss: 1.2095 - categorical_accuracy: 0.4827\n",
      "Epoch 00003: val_loss did not improve from 2.07090\n",
      "42/42 [==============================] - 48s 1s/step - loss: 1.2095 - categorical_accuracy: 0.4827 - val_loss: 2.6046 - val_categorical_accuracy: 0.2100 - lr: 0.0010\n",
      "Epoch 4/20\n",
      "42/42 [==============================] - ETA: 0s - loss: 1.1256 - categorical_accuracy: 0.5038\n",
      "Epoch 00004: val_loss did not improve from 2.07090\n",
      "\n",
      "Epoch 00004: ReduceLROnPlateau reducing learning rate to 0.0005000000237487257.\n",
      "42/42 [==============================] - 48s 1s/step - loss: 1.1256 - categorical_accuracy: 0.5038 - val_loss: 2.4749 - val_categorical_accuracy: 0.2100 - lr: 0.0010\n",
      "Epoch 5/20\n",
      "42/42 [==============================] - ETA: 0s - loss: 1.0214 - categorical_accuracy: 0.5716\n",
      "Epoch 00005: val_loss did not improve from 2.07090\n",
      "42/42 [==============================] - 50s 1s/step - loss: 1.0214 - categorical_accuracy: 0.5716 - val_loss: 2.3715 - val_categorical_accuracy: 0.2300 - lr: 5.0000e-04\n",
      "Epoch 6/20\n",
      "42/42 [==============================] - ETA: 0s - loss: 0.8994 - categorical_accuracy: 0.6516\n",
      "Epoch 00006: val_loss did not improve from 2.07090\n",
      "42/42 [==============================] - 49s 1s/step - loss: 0.8994 - categorical_accuracy: 0.6516 - val_loss: 2.4997 - val_categorical_accuracy: 0.2300 - lr: 5.0000e-04\n",
      "Epoch 7/20\n",
      "42/42 [==============================] - ETA: 0s - loss: 0.8130 - categorical_accuracy: 0.6938\n",
      "Epoch 00007: val_loss improved from 2.07090 to 1.99998, saving model to model_init_2024-11-0614_42_26.096959/model-00007-0.81303-0.69382-1.99998-0.34000.h5\n",
      "42/42 [==============================] - 48s 1s/step - loss: 0.8130 - categorical_accuracy: 0.6938 - val_loss: 2.0000 - val_categorical_accuracy: 0.3400 - lr: 5.0000e-04\n",
      "Epoch 8/20\n",
      "42/42 [==============================] - ETA: 0s - loss: 0.7356 - categorical_accuracy: 0.7330\n",
      "Epoch 00008: val_loss did not improve from 1.99998\n",
      "42/42 [==============================] - 49s 1s/step - loss: 0.7356 - categorical_accuracy: 0.7330 - val_loss: 2.6013 - val_categorical_accuracy: 0.2200 - lr: 5.0000e-04\n",
      "Epoch 9/20\n",
      "42/42 [==============================] - ETA: 0s - loss: 0.7029 - categorical_accuracy: 0.7255\n",
      "Epoch 00009: val_loss did not improve from 1.99998\n",
      "42/42 [==============================] - 49s 1s/step - loss: 0.7029 - categorical_accuracy: 0.7255 - val_loss: 2.0248 - val_categorical_accuracy: 0.3200 - lr: 5.0000e-04\n",
      "Epoch 10/20\n",
      "42/42 [==============================] - ETA: 0s - loss: 0.6489 - categorical_accuracy: 0.7436\n",
      "Epoch 00010: val_loss did not improve from 1.99998\n",
      "42/42 [==============================] - 49s 1s/step - loss: 0.6489 - categorical_accuracy: 0.7436 - val_loss: 2.1015 - val_categorical_accuracy: 0.4100 - lr: 5.0000e-04\n",
      "Epoch 11/20\n",
      "42/42 [==============================] - ETA: 0s - loss: 0.5767 - categorical_accuracy: 0.7783\n",
      "Epoch 00011: val_loss improved from 1.99998 to 1.72740, saving model to model_init_2024-11-0614_42_26.096959/model-00011-0.57668-0.77828-1.72740-0.38000.h5\n",
      "42/42 [==============================] - 48s 1s/step - loss: 0.5767 - categorical_accuracy: 0.7783 - val_loss: 1.7274 - val_categorical_accuracy: 0.3800 - lr: 5.0000e-04\n",
      "Epoch 12/20\n",
      "42/42 [==============================] - ETA: 0s - loss: 0.5420 - categorical_accuracy: 0.8069\n",
      "Epoch 00012: val_loss did not improve from 1.72740\n",
      "42/42 [==============================] - 48s 1s/step - loss: 0.5420 - categorical_accuracy: 0.8069 - val_loss: 1.8385 - val_categorical_accuracy: 0.4200 - lr: 5.0000e-04\n",
      "Epoch 13/20\n",
      "42/42 [==============================] - ETA: 0s - loss: 0.5077 - categorical_accuracy: 0.8039\n",
      "Epoch 00013: val_loss improved from 1.72740 to 0.93657, saving model to model_init_2024-11-0614_42_26.096959/model-00013-0.50769-0.80392-0.93657-0.59000.h5\n",
      "42/42 [==============================] - 48s 1s/step - loss: 0.5077 - categorical_accuracy: 0.8039 - val_loss: 0.9366 - val_categorical_accuracy: 0.5900 - lr: 5.0000e-04\n",
      "Epoch 14/20\n",
      "42/42 [==============================] - ETA: 0s - loss: 0.4536 - categorical_accuracy: 0.8356\n",
      "Epoch 00014: val_loss did not improve from 0.93657\n",
      "42/42 [==============================] - 46s 1s/step - loss: 0.4536 - categorical_accuracy: 0.8356 - val_loss: 1.3362 - val_categorical_accuracy: 0.6100 - lr: 5.0000e-04\n",
      "Epoch 15/20\n",
      "42/42 [==============================] - ETA: 0s - loss: 0.4769 - categorical_accuracy: 0.8281\n",
      "Epoch 00015: val_loss improved from 0.93657 to 0.73199, saving model to model_init_2024-11-0614_42_26.096959/model-00015-0.47695-0.82805-0.73199-0.70000.h5\n",
      "42/42 [==============================] - 47s 1s/step - loss: 0.4769 - categorical_accuracy: 0.8281 - val_loss: 0.7320 - val_categorical_accuracy: 0.7000 - lr: 5.0000e-04\n",
      "Epoch 16/20\n",
      "42/42 [==============================] - ETA: 0s - loss: 0.4353 - categorical_accuracy: 0.8356\n",
      "Epoch 00016: val_loss improved from 0.73199 to 0.63794, saving model to model_init_2024-11-0614_42_26.096959/model-00016-0.43531-0.83560-0.63794-0.74000.h5\n",
      "42/42 [==============================] - 47s 1s/step - loss: 0.4353 - categorical_accuracy: 0.8356 - val_loss: 0.6379 - val_categorical_accuracy: 0.7400 - lr: 5.0000e-04\n",
      "Epoch 17/20\n",
      "42/42 [==============================] - ETA: 0s - loss: 0.4111 - categorical_accuracy: 0.8341\n",
      "Epoch 00017: val_loss improved from 0.63794 to 0.51747, saving model to model_init_2024-11-0614_42_26.096959/model-00017-0.41113-0.83409-0.51747-0.82000.h5\n",
      "42/42 [==============================] - 48s 1s/step - loss: 0.4111 - categorical_accuracy: 0.8341 - val_loss: 0.5175 - val_categorical_accuracy: 0.8200 - lr: 5.0000e-04\n",
      "Epoch 18/20\n",
      "42/42 [==============================] - ETA: 0s - loss: 0.3983 - categorical_accuracy: 0.8507\n",
      "Epoch 00018: val_loss did not improve from 0.51747\n",
      "42/42 [==============================] - 49s 1s/step - loss: 0.3983 - categorical_accuracy: 0.8507 - val_loss: 0.6194 - val_categorical_accuracy: 0.7700 - lr: 5.0000e-04\n",
      "Epoch 19/20\n",
      "42/42 [==============================] - ETA: 0s - loss: 0.3918 - categorical_accuracy: 0.8537\n",
      "Epoch 00019: val_loss did not improve from 0.51747\n",
      "42/42 [==============================] - 48s 1s/step - loss: 0.3918 - categorical_accuracy: 0.8537 - val_loss: 0.5543 - val_categorical_accuracy: 0.7700 - lr: 5.0000e-04\n",
      "Epoch 20/20\n",
      "42/42 [==============================] - ETA: 0s - loss: 0.2897 - categorical_accuracy: 0.8974\n",
      "Epoch 00020: val_loss improved from 0.51747 to 0.46326, saving model to model_init_2024-11-0614_42_26.096959/model-00020-0.28972-0.89744-0.46326-0.81000.h5\n",
      "\n",
      "Epoch 00020: ReduceLROnPlateau reducing learning rate to 0.0002500000118743628.\n",
      "42/42 [==============================] - 48s 1s/step - loss: 0.2897 - categorical_accuracy: 0.8974 - val_loss: 0.4633 - val_categorical_accuracy: 0.8100 - lr: 5.0000e-04\n"
     ]
    }
   ],
   "source": [
    "#Model Fit\n",
    "\n",
    "history = GRU_lstm.fit(train_generator, steps_per_epoch=steps_per_epoch, epochs=num_epochs, verbose=1, \n",
    "                    callbacks=callbacks_list, validation_data=val_generator, \n",
    "                    validation_steps=validation_steps, class_weight=None,\n",
    "                    workers=1, initial_epoch=0)"
   ]
  },
  {
   "cell_type": "code",
   "execution_count": 147,
   "metadata": {},
   "outputs": [
    {
     "data": {
      "image/png": "[encoded data removed]",
      "text/plain": [
       "<Figure size 432x288 with 1 Axes>"
      ]
     },
     "metadata": {
      "needs_background": "light"
     },
     "output_type": "display_data"
    },
    {
     "data": {
      "image/png": "[encoded data removed]",
      "text/plain": [
       "<Figure size 432x288 with 1 Axes>"
      ]
     },
     "metadata": {
      "needs_background": "light"
     },
     "output_type": "display_data"
    }
   ],
   "source": [
    "# Plotting the result of Model 9 :\n",
    "\n",
    "# summarize history for accuracy\n",
    "plt.plot(history.history['categorical_accuracy'])\n",
    "plt.plot(history.history['val_categorical_accuracy'])\n",
    "plt.title('model accuracy')\n",
    "plt.ylabel('accuracy')\n",
    "plt.xlabel('epoch')\n",
    "plt.legend(['train', 'test'], loc='upper left')\n",
    "plt.show()\n",
    "\n",
    "# summarize history for loss\n",
    "plt.plot(history.history['loss'])\n",
    "plt.plot(history.history['val_loss'])\n",
    "plt.title('model loss')\n",
    "plt.ylabel('loss')\n",
    "plt.xlabel('epoch')\n",
    "plt.legend(['train', 'test'], loc='upper left')\n",
    "plt.show()"
   ]
  },
  {
   "cell_type": "code",
   "execution_count": 119,
   "metadata": {},
   "outputs": [],
   "source": [
    "# Accuracy of 89 % and val accuracy of 81 %"
   ]
  },
  {
   "cell_type": "markdown",
   "metadata": {},
   "source": [
    "### Lets use the pre-trained model for the transfer learning."
   ]
  },
  {
   "cell_type": "markdown",
   "metadata": {},
   "source": [
    "### Model 10: Using Transfer Learning"
   ]
  },
  {
   "cell_type": "code",
   "execution_count": 148,
   "metadata": {},
   "outputs": [
    {
     "name": "stdout",
     "output_type": "stream",
     "text": [
      "WARNING:tensorflow:`input_shape` is undefined or non-square, or `rows` is not in [128, 160, 192, 224]. Weights for input shape (224, 224) will be loaded as the default.\n"
     ]
    }
   ],
   "source": [
    "# Importing the transfer learning model:\n",
    "from keras.applications import mobilenet\n",
    "\n",
    "mobilenet_transfer = mobilenet.MobileNet(weights='imagenet', include_top=False)"
   ]
  },
  {
   "cell_type": "code",
   "execution_count": 149,
   "metadata": {},
   "outputs": [],
   "source": [
    "# MobileNet V2 model accepts one of the following formats: (96, 96), (128, 128), (160, 160),(192, 192), or (224, 224).\n",
    "# Hence, we have got this warning for the input as we have not specified the input size while import."
   ]
  },
  {
   "cell_type": "code",
   "execution_count": 178,
   "metadata": {},
   "outputs": [],
   "source": [
    "# Building the model :\n",
    "\n",
    "input_shape = (18,120,120,3)\n",
    "        \n",
    "mobileNetModel= Sequential()\n",
    "mobileNetModel.add(TimeDistributed(mobilenet_transfer,input_shape=(input_shape)))\n",
    "\n",
    "\n",
    "for layer in mobileNetModel.layers:\n",
    "    layer.trainable = False\n",
    "\n",
    "\n",
    "mobileNetModel.add(TimeDistributed(BatchNormalization()))\n",
    "mobileNetModel.add(TimeDistributed(MaxPooling2D((2, 2))))\n",
    "mobileNetModel.add(TimeDistributed(Flatten()))\n",
    "\n",
    "mobileNetModel.add(LSTM(64))\n",
    "mobileNetModel.add(Dropout(0.5))\n",
    "\n",
    "mobileNetModel.add(Dense(64,activation='relu'))\n",
    "mobileNetModel.add(Dropout(0.5))\n",
    "\n",
    "mobileNetModel.add(Dense(5, activation='softmax'))\n"
   ]
  },
  {
   "cell_type": "code",
   "execution_count": 179,
   "metadata": {},
   "outputs": [
    {
     "name": "stdout",
     "output_type": "stream",
     "text": [
      "Model: \"sequential_14\"\n",
      "_________________________________________________________________\n",
      " Layer (type)                Output Shape              Param #   \n",
      "=================================================================\n",
      " time_distributed_121 (TimeD  (None, 18, 3, 3, 1024)   3228864   \n",
      " istributed)                                                     \n",
      "                                                                 \n",
      " time_distributed_122 (TimeD  (None, 18, 3, 3, 1024)   4096      \n",
      " istributed)                                                     \n",
      "                                                                 \n",
      " time_distributed_123 (TimeD  (None, 18, 1, 1, 1024)   0         \n",
      " istributed)                                                     \n",
      "                                                                 \n",
      " time_distributed_124 (TimeD  (None, 18, 1024)         0         \n",
      " istributed)                                                     \n",
      "                                                                 \n",
      " lstm_8 (LSTM)               (None, 64)                278784    \n",
      "                                                                 \n",
      " dropout_28 (Dropout)        (None, 64)                0         \n",
      "                                                                 \n",
      " dense_29 (Dense)            (None, 64)                4160      \n",
      "                                                                 \n",
      " dropout_29 (Dropout)        (None, 64)                0         \n",
      "                                                                 \n",
      " dense_30 (Dense)            (None, 5)                 325       \n",
      "                                                                 \n",
      "=================================================================\n",
      "Total params: 3,516,229\n",
      "Trainable params: 285,317\n",
      "Non-trainable params: 3,230,912\n",
      "_________________________________________________________________\n",
      "None\n"
     ]
    }
   ],
   "source": [
    "import tensorflow as tf\n",
    "from tensorflow.keras import optimizers\n",
    "\n",
    "# Define the Adam optimizer with a fixed learning rate\n",
    "optimiser = optimizers.Adam(learning_rate=0.001)  # No decay applied here\n",
    "\n",
    "# Define your model (make sure your modelConv3D_1 is defined before this)\n",
    "mobileNetModel.compile(optimizer=optimiser, loss='categorical_crossentropy', metrics=['categorical_accuracy'])\n",
    "\n",
    "# Print the model summary\n",
    "print(mobileNetModel.summary())"
   ]
  },
  {
   "cell_type": "code",
   "execution_count": 180,
   "metadata": {},
   "outputs": [
    {
     "name": "stdout",
     "output_type": "stream",
     "text": [
      "Total Params in model: 3516229\n"
     ]
    }
   ],
   "source": [
    "print(\"Total Params in model:\", mobileNetModel.count_params())"
   ]
  },
  {
   "cell_type": "code",
   "execution_count": 181,
   "metadata": {},
   "outputs": [],
   "source": [
    "def generatorMobileNet(source_path, folder_list, batch_size):\n",
    "    print( 'Source path = ', source_path, '; batch size =', batch_size)\n",
    "    \n",
    "    #create a list of image numbers you want to use for a particular video\n",
    "    img_idx = [1,2,4,6,7,8,10,12,14,16,18,20,21,22,24,26,27,29]\n",
    "    #list(range(0,29,2))\n",
    "    \n",
    "    while True:\n",
    "        t = np.random.permutation(folder_list)\n",
    "        \n",
    "# calculate the number of batches\n",
    "        num_batches = int(len(t)/batch_size)\n",
    "        \n",
    "# we iterate over the number of batches\n",
    "        for batch in range(num_batches): \n",
    "            \n",
    "# x is the number of images you use for each video, (y,z) is the final size of the input images and 3 is the number of channels RGB          \n",
    "            batch_data = np.zeros((batch_size,18,120,120,3))\n",
    "# batch_labels is the one hot representation of the output\n",
    "            batch_labels = np.zeros((batch_size,5))\n",
    "\n",
    "# iterate over the batch_size    \n",
    "            for folder in range(batch_size): \n",
    "# read all the images in the folder        \n",
    "                imgs = os.listdir(source_path+'/'+ t[folder + (batch*batch_size)].split(';')[0]) \n",
    "#  Iterate over the frames/images of a folder to read them in    \n",
    "                for idx,item in enumerate(img_idx):\n",
    "                    image = cv2.imread(source_path+'/'+ t[folder + (batch*batch_size)].strip().split(';')[0]+'/'+imgs[item],cv2.IMREAD_UNCHANGED).astype(np.float32)\n",
    "                    \n",
    "#crop the images and resize them. Note that the images are of 2 different shape \n",
    "#and the conv3D will throw error if the inputs in a batch have different shapes\n",
    "                    if image.shape[1] == 160:\n",
    "                        image = cv2.resize(image[:,20:140,:],(120,120),interpolation = cv2.INTER_AREA).astype(np.float32)\n",
    "                    else:\n",
    "                        image = cv2.resize(image,(120,120),interpolation = cv2.INTER_AREA).astype(np.float32)\n",
    "                                \n",
    "#normalise and feed in the image\n",
    "\n",
    "                    batch_data[folder,idx,:,:,0] = (image[:,:,0])/255\n",
    "                    batch_data[folder,idx,:,:,1] = (image[:,:,1])/255\n",
    "                    batch_data[folder,idx,:,:,2] = (image[:,:,2])/255\n",
    "                    \n",
    "                batch_labels[folder, int(t[folder + (batch*batch_size)].strip().split(';')[2])] = 1\n",
    "#you yield the batch_data and the batch_labels, remember what does yield do                \n",
    "            yield batch_data, batch_labels \n",
    "\n",
    "        \n",
    "# write the code for the remaining data points which are left after full batches\n",
    "        if (len(t)%batch_size) != 0:\n",
    "            batch_data = np.zeros((len(t)%batch_size,18,120,120,3))\n",
    "            batch_labels = np.zeros((len(t)%batch_size,5))\n",
    "            for folder in range(len(t)%batch_size):\n",
    "                imgs = os.listdir(source_path+'/'+ t[folder + (num_batches*batch_size)].split(';')[0])\n",
    "                for idx,item in enumerate(img_idx):\n",
    "                    image = cv2.imread(source_path+'/'+ t[folder + (num_batches*batch_size)].strip().split(';')[0]+'/'+imgs[item],cv2.IMREAD_UNCHANGED).astype(np.float32)\n",
    "                    if image.shape[1] == 160:\n",
    "                        image = cv2.resize(image[:,20:140,:],(120,120),interpolation = cv2.INTER_AREA).astype(np.float32)\n",
    "                    else:\n",
    "                        image = cv2.resize(image,(120,120),interpolation = cv2.INTER_AREA).astype(np.float32)\n",
    "\n",
    "                    batch_data[folder,idx,:,:,0] = (image[:,:,0])/255\n",
    "                    batch_data[folder,idx,:,:,1] = (image[:,:,1])/255\n",
    "                    batch_data[folder,idx,:,:,2] = (image[:,:,2])/255\n",
    "\n",
    "                batch_labels[folder, int(t[folder + (num_batches*batch_size)].strip().split(';')[2])] = 1\n",
    "\n",
    "            yield batch_data, batch_labels"
   ]
  },
  {
   "cell_type": "code",
   "execution_count": 182,
   "metadata": {},
   "outputs": [
    {
     "name": "stdout",
     "output_type": "stream",
     "text": [
      "# training sequences = 663\n",
      "# validation sequences = 100\n",
      "# epochs = 26\n"
     ]
    }
   ],
   "source": [
    "batch_size = 16\n",
    "\n",
    "curr_dt_time = datetime.datetime.now()\n",
    "train_path = '/home/datasets/Project_data/train'\n",
    "val_path = '/home/datasets/Project_data/val'\n",
    "num_train_sequences = len(train_doc)\n",
    "print('# training sequences =', num_train_sequences)\n",
    "num_val_sequences = len(val_doc)\n",
    "print('# validation sequences =', num_val_sequences)\n",
    "\n",
    "# choose the number of epochs\n",
    "num_epochs = 26\n",
    "print ('# epochs =', num_epochs)\n"
   ]
  },
  {
   "cell_type": "code",
   "execution_count": 183,
   "metadata": {},
   "outputs": [],
   "source": [
    "train_generator = generatorMobileNet(train_path, train_doc, batch_size)\n",
    "val_generator = generatorMobileNet(val_path, val_doc, batch_size)"
   ]
  },
  {
   "cell_type": "code",
   "execution_count": 184,
   "metadata": {},
   "outputs": [],
   "source": [
    "import datetime\n",
    "import os\n",
    "from tensorflow.keras.callbacks import ModelCheckpoint, ReduceLROnPlateau, EarlyStopping\n",
    "\n",
    "# Get the current date and time for model saving\n",
    "curr_dt_time = datetime.datetime.now()\n",
    "\n",
    "# Create model name with current timestamp\n",
    "model_name = 'model_init_' + str(curr_dt_time).replace(' ', '').replace(':', '_') + '/'\n",
    "\n",
    "# Check if the directory exists, and create it if not\n",
    "if not os.path.exists(model_name):\n",
    "    os.mkdir(model_name)\n",
    "\n",
    "# Define the file path with placeholders for epoch and performance metrics\n",
    "filepath = model_name + 'model-{epoch:05d}-{loss:.5f}-{categorical_accuracy:.5f}-{val_loss:.5f}-{val_categorical_accuracy:.5f}.h5'\n",
    "\n",
    "# ModelCheckpoint callback - only saves the best model to prevent storage issues\n",
    "checkpoint = ModelCheckpoint(filepath, monitor='val_loss', verbose=1, save_best_only=True, save_weights_only=False, mode='auto', save_freq='epoch')\n",
    "\n",
    "# ReduceLROnPlateau callback - reduces LR if 'val_categorical_accuracy' plateaus\n",
    "reduce_lr = ReduceLROnPlateau(monitor='val_categorical_accuracy', factor=0.6, patience=4, min_lr=1e-6, verbose=1)\n",
    "\n",
    "# EarlyStopping callback - stops training early if there's no improvement in 'val_categorical_accuracy'\n",
    "early_stopping = EarlyStopping(monitor='val_categorical_accuracy', patience=5, restore_best_weights=True)\n",
    "\n",
    "# Combine callbacks into a list\n",
    "callbacks_list = [checkpoint, reduce_lr]"
   ]
  },
  {
   "cell_type": "code",
   "execution_count": 185,
   "metadata": {},
   "outputs": [],
   "source": [
    "if (num_train_sequences%batch_size) == 0:\n",
    "    steps_per_epoch = int(num_train_sequences/batch_size)\n",
    "else:\n",
    "    steps_per_epoch = (num_train_sequences//batch_size) + 1\n",
    "\n",
    "if (num_val_sequences%batch_size) == 0:\n",
    "    validation_steps = int(num_val_sequences/batch_size)\n",
    "else:\n",
    "    validation_steps = (num_val_sequences//batch_size) + 1"
   ]
  },
  {
   "cell_type": "code",
   "execution_count": 186,
   "metadata": {},
   "outputs": [
    {
     "name": "stdout",
     "output_type": "stream",
     "text": [
      "Source path =  /home/datasets/Project_data/train ; batch size = 16\n",
      "Epoch 1/26\n",
      "42/42 [==============================] - ETA: 0s - loss: 1.6484 - categorical_accuracy: 0.2489Source path =  /home/datasets/Project_data/val ; batch size = 16\n",
      "\n",
      "Epoch 00001: val_loss improved from inf to 1.53507, saving model to model_init_2024-11-0615_57_30.731634/model-00001-1.64843-0.24887-1.53507-0.25000.h5\n",
      "42/42 [==============================] - 34s 750ms/step - loss: 1.6484 - categorical_accuracy: 0.2489 - val_loss: 1.5351 - val_categorical_accuracy: 0.2500 - lr: 0.0010\n",
      "Epoch 2/26\n",
      "42/42 [==============================] - ETA: 0s - loss: 1.4418 - categorical_accuracy: 0.3710\n",
      "Epoch 00002: val_loss improved from 1.53507 to 1.28209, saving model to model_init_2024-11-0615_57_30.731634/model-00002-1.44181-0.37104-1.28209-0.58000.h5\n",
      "42/42 [==============================] - 30s 728ms/step - loss: 1.4418 - categorical_accuracy: 0.3710 - val_loss: 1.2821 - val_categorical_accuracy: 0.5800 - lr: 0.0010\n",
      "Epoch 3/26\n",
      "42/42 [==============================] - ETA: 0s - loss: 1.2211 - categorical_accuracy: 0.4962\n",
      "Epoch 00003: val_loss improved from 1.28209 to 1.12744, saving model to model_init_2024-11-0615_57_30.731634/model-00003-1.22107-0.49623-1.12744-0.49000.h5\n",
      "42/42 [==============================] - 30s 725ms/step - loss: 1.2211 - categorical_accuracy: 0.4962 - val_loss: 1.1274 - val_categorical_accuracy: 0.4900 - lr: 0.0010\n",
      "Epoch 4/26\n",
      "42/42 [==============================] - ETA: 0s - loss: 1.0591 - categorical_accuracy: 0.5792\n",
      "Epoch 00004: val_loss improved from 1.12744 to 0.96788, saving model to model_init_2024-11-0615_57_30.731634/model-00004-1.05912-0.57919-0.96788-0.62000.h5\n",
      "42/42 [==============================] - 30s 718ms/step - loss: 1.0591 - categorical_accuracy: 0.5792 - val_loss: 0.9679 - val_categorical_accuracy: 0.6200 - lr: 0.0010\n",
      "Epoch 5/26\n",
      "42/42 [==============================] - ETA: 0s - loss: 0.9660 - categorical_accuracy: 0.6350\n",
      "Epoch 00005: val_loss improved from 0.96788 to 0.85520, saving model to model_init_2024-11-0615_57_30.731634/model-00005-0.96596-0.63499-0.85520-0.70000.h5\n",
      "42/42 [==============================] - 29s 715ms/step - loss: 0.9660 - categorical_accuracy: 0.6350 - val_loss: 0.8552 - val_categorical_accuracy: 0.7000 - lr: 0.0010\n",
      "Epoch 6/26\n",
      "42/42 [==============================] - ETA: 0s - loss: 0.7690 - categorical_accuracy: 0.6863\n",
      "Epoch 00006: val_loss improved from 0.85520 to 0.79124, saving model to model_init_2024-11-0615_57_30.731634/model-00006-0.76896-0.68627-0.79124-0.69000.h5\n",
      "42/42 [==============================] - 29s 712ms/step - loss: 0.7690 - categorical_accuracy: 0.6863 - val_loss: 0.7912 - val_categorical_accuracy: 0.6900 - lr: 0.0010\n",
      "Epoch 7/26\n",
      "42/42 [==============================] - ETA: 0s - loss: 0.6427 - categorical_accuracy: 0.7828\n",
      "Epoch 00007: val_loss improved from 0.79124 to 0.77257, saving model to model_init_2024-11-0615_57_30.731634/model-00007-0.64268-0.78281-0.77257-0.67000.h5\n",
      "42/42 [==============================] - 29s 704ms/step - loss: 0.6427 - categorical_accuracy: 0.7828 - val_loss: 0.7726 - val_categorical_accuracy: 0.6700 - lr: 0.0010\n",
      "Epoch 8/26\n",
      "42/42 [==============================] - ETA: 0s - loss: 0.5682 - categorical_accuracy: 0.8054\n",
      "Epoch 00008: val_loss improved from 0.77257 to 0.66695, saving model to model_init_2024-11-0615_57_30.731634/model-00008-0.56821-0.80543-0.66695-0.73000.h5\n",
      "42/42 [==============================] - 30s 720ms/step - loss: 0.5682 - categorical_accuracy: 0.8054 - val_loss: 0.6669 - val_categorical_accuracy: 0.7300 - lr: 0.0010\n",
      "Epoch 9/26\n",
      "42/42 [==============================] - ETA: 0s - loss: 0.4400 - categorical_accuracy: 0.8507\n",
      "Epoch 00009: val_loss did not improve from 0.66695\n",
      "42/42 [==============================] - 29s 708ms/step - loss: 0.4400 - categorical_accuracy: 0.8507 - val_loss: 0.6883 - val_categorical_accuracy: 0.7300 - lr: 0.0010\n",
      "Epoch 10/26\n",
      "42/42 [==============================] - ETA: 0s - loss: 0.4265 - categorical_accuracy: 0.8507\n",
      "Epoch 00010: val_loss improved from 0.66695 to 0.65753, saving model to model_init_2024-11-0615_57_30.731634/model-00010-0.42647-0.85068-0.65753-0.73000.h5\n",
      "42/42 [==============================] - 30s 718ms/step - loss: 0.4265 - categorical_accuracy: 0.8507 - val_loss: 0.6575 - val_categorical_accuracy: 0.7300 - lr: 0.0010\n",
      "Epoch 11/26\n",
      "42/42 [==============================] - ETA: 0s - loss: 0.4015 - categorical_accuracy: 0.8552\n",
      "Epoch 00011: val_loss improved from 0.65753 to 0.64734, saving model to model_init_2024-11-0615_57_30.731634/model-00011-0.40147-0.85520-0.64734-0.80000.h5\n",
      "42/42 [==============================] - 29s 705ms/step - loss: 0.4015 - categorical_accuracy: 0.8552 - val_loss: 0.6473 - val_categorical_accuracy: 0.8000 - lr: 0.0010\n",
      "Epoch 12/26\n",
      "42/42 [==============================] - ETA: 0s - loss: 0.3407 - categorical_accuracy: 0.8839\n",
      "Epoch 00012: val_loss did not improve from 0.64734\n",
      "42/42 [==============================] - 29s 709ms/step - loss: 0.3407 - categorical_accuracy: 0.8839 - val_loss: 0.6996 - val_categorical_accuracy: 0.6900 - lr: 0.0010\n",
      "Epoch 13/26\n",
      "42/42 [==============================] - ETA: 0s - loss: 0.2855 - categorical_accuracy: 0.9020\n",
      "Epoch 00013: val_loss did not improve from 0.64734\n",
      "42/42 [==============================] - 29s 708ms/step - loss: 0.2855 - categorical_accuracy: 0.9020 - val_loss: 0.6856 - val_categorical_accuracy: 0.7800 - lr: 0.0010\n",
      "Epoch 14/26\n",
      "42/42 [==============================] - ETA: 0s - loss: 0.2004 - categorical_accuracy: 0.9457\n",
      "Epoch 00014: val_loss did not improve from 0.64734\n",
      "42/42 [==============================] - 29s 695ms/step - loss: 0.2004 - categorical_accuracy: 0.9457 - val_loss: 0.7103 - val_categorical_accuracy: 0.6900 - lr: 0.0010\n",
      "Epoch 15/26\n",
      "42/42 [==============================] - ETA: 0s - loss: 0.2139 - categorical_accuracy: 0.9367\n",
      "Epoch 00015: val_loss did not improve from 0.64734\n",
      "\n",
      "Epoch 00015: ReduceLROnPlateau reducing learning rate to 0.0006000000284984708.\n",
      "42/42 [==============================] - 28s 692ms/step - loss: 0.2139 - categorical_accuracy: 0.9367 - val_loss: 0.8076 - val_categorical_accuracy: 0.7000 - lr: 0.0010\n",
      "Epoch 16/26\n",
      "42/42 [==============================] - ETA: 0s - loss: 0.1671 - categorical_accuracy: 0.9427\n",
      "Epoch 00016: val_loss did not improve from 0.64734\n",
      "42/42 [==============================] - 27s 667ms/step - loss: 0.1671 - categorical_accuracy: 0.9427 - val_loss: 0.6551 - val_categorical_accuracy: 0.7900 - lr: 6.0000e-04\n",
      "Epoch 17/26\n",
      "42/42 [==============================] - ETA: 0s - loss: 0.1256 - categorical_accuracy: 0.9683\n",
      "Epoch 00017: val_loss improved from 0.64734 to 0.64402, saving model to model_init_2024-11-0615_57_30.731634/model-00017-0.12561-0.96833-0.64402-0.77000.h5\n",
      "42/42 [==============================] - 28s 691ms/step - loss: 0.1256 - categorical_accuracy: 0.9683 - val_loss: 0.6440 - val_categorical_accuracy: 0.7700 - lr: 6.0000e-04\n",
      "Epoch 18/26\n",
      "42/42 [==============================] - ETA: 0s - loss: 0.1222 - categorical_accuracy: 0.9578\n",
      "Epoch 00018: val_loss did not improve from 0.64402\n",
      "42/42 [==============================] - 29s 695ms/step - loss: 0.1222 - categorical_accuracy: 0.9578 - val_loss: 0.7127 - val_categorical_accuracy: 0.7900 - lr: 6.0000e-04\n",
      "Epoch 19/26\n",
      "42/42 [==============================] - ETA: 0s - loss: 0.1271 - categorical_accuracy: 0.9578\n",
      "Epoch 00019: val_loss improved from 0.64402 to 0.57044, saving model to model_init_2024-11-0615_57_30.731634/model-00019-0.12713-0.95777-0.57044-0.83000.h5\n",
      "42/42 [==============================] - 29s 704ms/step - loss: 0.1271 - categorical_accuracy: 0.9578 - val_loss: 0.5704 - val_categorical_accuracy: 0.8300 - lr: 6.0000e-04\n",
      "Epoch 20/26\n",
      "42/42 [==============================] - ETA: 0s - loss: 0.1027 - categorical_accuracy: 0.9729\n",
      "Epoch 00020: val_loss did not improve from 0.57044\n",
      "42/42 [==============================] - 28s 693ms/step - loss: 0.1027 - categorical_accuracy: 0.9729 - val_loss: 0.5817 - val_categorical_accuracy: 0.8100 - lr: 6.0000e-04\n",
      "Epoch 21/26\n",
      "42/42 [==============================] - ETA: 0s - loss: 0.1082 - categorical_accuracy: 0.9744\n",
      "Epoch 00021: val_loss did not improve from 0.57044\n",
      "42/42 [==============================] - 28s 684ms/step - loss: 0.1082 - categorical_accuracy: 0.9744 - val_loss: 0.5934 - val_categorical_accuracy: 0.8000 - lr: 6.0000e-04\n",
      "Epoch 22/26\n",
      "42/42 [==============================] - ETA: 0s - loss: 0.0793 - categorical_accuracy: 0.9804\n",
      "Epoch 00022: val_loss did not improve from 0.57044\n",
      "42/42 [==============================] - 29s 702ms/step - loss: 0.0793 - categorical_accuracy: 0.9804 - val_loss: 0.6783 - val_categorical_accuracy: 0.8000 - lr: 6.0000e-04\n",
      "Epoch 23/26\n",
      "42/42 [==============================] - ETA: 0s - loss: 0.1060 - categorical_accuracy: 0.9698\n",
      "Epoch 00023: val_loss improved from 0.57044 to 0.56098, saving model to model_init_2024-11-0615_57_30.731634/model-00023-0.10598-0.96983-0.56098-0.83000.h5\n",
      "\n",
      "Epoch 00023: ReduceLROnPlateau reducing learning rate to 0.0003600000170990825.\n",
      "42/42 [==============================] - 28s 685ms/step - loss: 0.1060 - categorical_accuracy: 0.9698 - val_loss: 0.5610 - val_categorical_accuracy: 0.8300 - lr: 6.0000e-04\n",
      "Epoch 24/26\n",
      "42/42 [==============================] - ETA: 0s - loss: 0.0692 - categorical_accuracy: 0.9834\n",
      "Epoch 00024: val_loss did not improve from 0.56098\n",
      "42/42 [==============================] - 28s 682ms/step - loss: 0.0692 - categorical_accuracy: 0.9834 - val_loss: 0.5625 - val_categorical_accuracy: 0.8400 - lr: 3.6000e-04\n",
      "Epoch 25/26\n",
      "42/42 [==============================] - ETA: 0s - loss: 0.0635 - categorical_accuracy: 0.9879\n",
      "Epoch 00025: val_loss did not improve from 0.56098\n",
      "42/42 [==============================] - 29s 701ms/step - loss: 0.0635 - categorical_accuracy: 0.9879 - val_loss: 0.5754 - val_categorical_accuracy: 0.8500 - lr: 3.6000e-04\n",
      "Epoch 26/26\n",
      "42/42 [==============================] - ETA: 0s - loss: 0.0640 - categorical_accuracy: 0.9849\n",
      "Epoch 00026: val_loss did not improve from 0.56098\n",
      "42/42 [==============================] - 28s 686ms/step - loss: 0.0640 - categorical_accuracy: 0.9849 - val_loss: 0.6895 - val_categorical_accuracy: 0.8300 - lr: 3.6000e-04\n"
     ]
    }
   ],
   "source": [
    "#Model Fit\n",
    "\n",
    "history = mobileNetModel.fit(train_generator, steps_per_epoch=steps_per_epoch, epochs=num_epochs, verbose=1, \n",
    "                    callbacks=callbacks_list, validation_data=val_generator, \n",
    "                    validation_steps=validation_steps, class_weight=None,\n",
    "                    workers=1, initial_epoch=0)"
   ]
  },
  {
   "cell_type": "code",
   "execution_count": 187,
   "metadata": {},
   "outputs": [
    {
     "data": {
      "image/png": "[encoded data removed]",
      "text/plain": [
       "<Figure size 432x288 with 1 Axes>"
      ]
     },
     "metadata": {
      "needs_background": "light"
     },
     "output_type": "display_data"
    },
    {
     "data": {
      "image/png": "[encoded data removed]",
      "text/plain": [
       "<Figure size 432x288 with 1 Axes>"
      ]
     },
     "metadata": {
      "needs_background": "light"
     },
     "output_type": "display_data"
    }
   ],
   "source": [
    "# Plotting the result of Model 10:\n",
    "\n",
    "# summarize history for accuracy\n",
    "plt.plot(history.history['categorical_accuracy'])\n",
    "plt.plot(history.history['val_categorical_accuracy'])\n",
    "plt.title('model accuracy')\n",
    "plt.ylabel('accuracy')\n",
    "plt.xlabel('epoch')\n",
    "plt.legend(['train', 'test'], loc='upper left')\n",
    "plt.show()\n",
    "\n",
    "# summarize history for loss\n",
    "plt.plot(history.history['loss'])\n",
    "plt.plot(history.history['val_loss'])\n",
    "plt.title('model loss')\n",
    "plt.ylabel('loss')\n",
    "plt.xlabel('epoch')\n",
    "plt.legend(['train', 'test'], loc='upper left')\n",
    "plt.show()"
   ]
  },
  {
   "cell_type": "markdown",
   "metadata": {},
   "source": [
    "#### Accuracy 98 % and val accuracy of 83 %"
   ]
  },
  {
   "cell_type": "markdown",
   "metadata": {},
   "source": [
    "## Final Model :\n",
    "\n",
    "## Transfer Learning \n",
    "#### model-00023-0.10598-0.96983-0.56098-0.83000.h5\n",
    "#### Model has an accuracy of 98%"
   ]
  },
  {
   "cell_type": "code",
   "execution_count": null,
   "metadata": {},
   "outputs": [],
   "source": []
  }
 ],
 "metadata": {
  "kernelspec": {
   "display_name": "Python 3 (ipykernel)",
   "language": "python",
   "name": "python3"
  },
  "language_info": {
   "codemirror_mode": {
    "name": "ipython",
    "version": 3
   },
   "file_extension": ".py",
   "mimetype": "text/x-python",
   "name": "python",
   "nbconvert_exporter": "python",
   "pygments_lexer": "ipython3",
   "version": "3.8.10"
  }
 },
 "nbformat": 4,
 "nbformat_minor": 4
}
